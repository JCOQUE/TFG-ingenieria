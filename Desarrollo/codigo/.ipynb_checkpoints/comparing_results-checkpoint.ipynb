{
 "cells": [
  {
   "cell_type": "code",
   "execution_count": 1,
   "id": "e6853030-e6c4-4e53-8f26-712366fa1be4",
   "metadata": {},
   "outputs": [],
   "source": [
    "import pandas as pd\n",
    "import mlflow\n",
    "import dagshub\n",
    "%matplotlib inline\n",
    "import matplotlib.pyplot as plt\n",
    "\n",
    "from tfg_module import my_get_time_series as mgts\n",
    "from tfg_module import my_azure as maz"
   ]
  },
  {
   "cell_type": "code",
   "execution_count": 2,
   "id": "9eb2a137-4769-40a7-b2cb-df54265f2f17",
   "metadata": {},
   "outputs": [
    {
     "data": {
      "text/html": [
       "<pre style=\"white-space:pre;overflow-x:auto;line-height:normal;font-family:Menlo,'DejaVu Sans Mono',consolas,'Courier New',monospace\">Initialized MLflow to track repo <span style=\"color: #008000; text-decoration-color: #008000\">\"JCOQUE/TFG-ingenieria\"</span>\n",
       "</pre>\n"
      ],
      "text/plain": [
       "Initialized MLflow to track repo \u001b[32m\"JCOQUE/TFG-ingenieria\"\u001b[0m\n"
      ]
     },
     "metadata": {},
     "output_type": "display_data"
    },
    {
     "data": {
      "text/html": [
       "<pre style=\"white-space:pre;overflow-x:auto;line-height:normal;font-family:Menlo,'DejaVu Sans Mono',consolas,'Courier New',monospace\">Repository JCOQUE/TFG-ingenieria initialized!\n",
       "</pre>\n"
      ],
      "text/plain": [
       "Repository JCOQUE/TFG-ingenieria initialized!\n"
      ]
     },
     "metadata": {},
     "output_type": "display_data"
    }
   ],
   "source": [
    "dagshub.init(repo_owner='JCOQUE', repo_name='TFG-ingenieria', mlflow=True) \n",
    "mlflow.set_tracking_uri('https://dagshub.com/JCOQUE/TFG-ingenieria.mlflow')"
   ]
  },
  {
   "cell_type": "code",
   "execution_count": 3,
   "id": "c7cafa45-0b15-47db-b4c7-7ee92b63fd8c",
   "metadata": {},
   "outputs": [],
   "source": [
    "def get_mlflow_pred(url):\n",
    "    mlflow_pred_csv = mlflow.artifacts.download_artifacts(url)\n",
    "    mlflow_pred = pd.read_csv(mlflow_pred_csv)\n",
    "    mlflow_pred.drop(columns = ['Unnamed: 0'], inplace = True)\n",
    "    return  mlflow_pred"
   ]
  },
  {
   "cell_type": "code",
   "execution_count": 4,
   "id": "43af5f7d-e0d0-48a2-b929-33618102163b",
   "metadata": {},
   "outputs": [],
   "source": [
    "def transform_dataset(dataset):\n",
    "    dataset = dataset.loc[0:3, :].copy() # only getting the first 4 months, i.e. test size\n",
    "    dataset['date'] = pd.to_datetime(dataset['date'], format= '%Y-%m-%d')\n",
    "    dataset['pred'] = dataset['pred'].astype('float32')\n",
    "    return  dataset"
   ]
  },
  {
   "cell_type": "markdown",
   "id": "65fa33fb-c324-4ff7-966c-93de5527e54e",
   "metadata": {},
   "source": [
    "## Compras"
   ]
  },
  {
   "cell_type": "code",
   "execution_count": 5,
   "id": "7bc98a65-7cba-4f7c-be30-16400c2728ee",
   "metadata": {},
   "outputs": [
    {
     "data": {
      "text/html": [
       "<div>\n",
       "<style scoped>\n",
       "    .dataframe tbody tr th:only-of-type {\n",
       "        vertical-align: middle;\n",
       "    }\n",
       "\n",
       "    .dataframe tbody tr th {\n",
       "        vertical-align: top;\n",
       "    }\n",
       "\n",
       "    .dataframe thead th {\n",
       "        text-align: right;\n",
       "    }\n",
       "</style>\n",
       "<table border=\"1\" class=\"dataframe\">\n",
       "  <thead>\n",
       "    <tr style=\"text-align: right;\">\n",
       "      <th></th>\n",
       "      <th>date</th>\n",
       "      <th>Compras</th>\n",
       "    </tr>\n",
       "  </thead>\n",
       "  <tbody>\n",
       "    <tr>\n",
       "      <th>0</th>\n",
       "      <td>2017-09-30</td>\n",
       "      <td>6,865</td>\n",
       "    </tr>\n",
       "    <tr>\n",
       "      <th>1</th>\n",
       "      <td>2017-10-31</td>\n",
       "      <td>5,452</td>\n",
       "    </tr>\n",
       "    <tr>\n",
       "      <th>2</th>\n",
       "      <td>2017-11-30</td>\n",
       "      <td>4,399</td>\n",
       "    </tr>\n",
       "    <tr>\n",
       "      <th>3</th>\n",
       "      <td>2017-12-31</td>\n",
       "      <td>37,490</td>\n",
       "    </tr>\n",
       "    <tr>\n",
       "      <th>4</th>\n",
       "      <td>2018-01-31</td>\n",
       "      <td>4,486</td>\n",
       "    </tr>\n",
       "    <tr>\n",
       "      <th>...</th>\n",
       "      <td>...</td>\n",
       "      <td>...</td>\n",
       "    </tr>\n",
       "    <tr>\n",
       "      <th>71</th>\n",
       "      <td>2023-08-31</td>\n",
       "      <td>17,181</td>\n",
       "    </tr>\n",
       "    <tr>\n",
       "      <th>72</th>\n",
       "      <td>2023-09-30</td>\n",
       "      <td>7,394</td>\n",
       "    </tr>\n",
       "    <tr>\n",
       "      <th>73</th>\n",
       "      <td>2023-10-31</td>\n",
       "      <td>28,417</td>\n",
       "    </tr>\n",
       "    <tr>\n",
       "      <th>74</th>\n",
       "      <td>2023-11-30</td>\n",
       "      <td>14,432</td>\n",
       "    </tr>\n",
       "    <tr>\n",
       "      <th>75</th>\n",
       "      <td>2023-12-31</td>\n",
       "      <td>27,198</td>\n",
       "    </tr>\n",
       "  </tbody>\n",
       "</table>\n",
       "<p>76 rows × 2 columns</p>\n",
       "</div>"
      ],
      "text/plain": [
       "         date  Compras\n",
       "0  2017-09-30    6,865\n",
       "1  2017-10-31    5,452\n",
       "2  2017-11-30    4,399\n",
       "3  2017-12-31   37,490\n",
       "4  2018-01-31    4,486\n",
       "..        ...      ...\n",
       "71 2023-08-31   17,181\n",
       "72 2023-09-30    7,394\n",
       "73 2023-10-31   28,417\n",
       "74 2023-11-30   14,432\n",
       "75 2023-12-31   27,198\n",
       "\n",
       "[76 rows x 2 columns]"
      ]
     },
     "execution_count": 5,
     "metadata": {},
     "output_type": "execute_result"
    }
   ],
   "source": [
    "train_ts_compras = mgts.get_ts('Compras', type = 'train')\n",
    "train_ts_compras"
   ]
  },
  {
   "cell_type": "code",
   "execution_count": 6,
   "id": "d80d40c2-a02f-4b49-adcc-ead8906eb384",
   "metadata": {},
   "outputs": [
    {
     "data": {
      "text/html": [
       "<div>\n",
       "<style scoped>\n",
       "    .dataframe tbody tr th:only-of-type {\n",
       "        vertical-align: middle;\n",
       "    }\n",
       "\n",
       "    .dataframe tbody tr th {\n",
       "        vertical-align: top;\n",
       "    }\n",
       "\n",
       "    .dataframe thead th {\n",
       "        text-align: right;\n",
       "    }\n",
       "</style>\n",
       "<table border=\"1\" class=\"dataframe\">\n",
       "  <thead>\n",
       "    <tr style=\"text-align: right;\">\n",
       "      <th></th>\n",
       "      <th>date</th>\n",
       "      <th>Compras</th>\n",
       "    </tr>\n",
       "  </thead>\n",
       "  <tbody>\n",
       "    <tr>\n",
       "      <th>0</th>\n",
       "      <td>2024-01-31</td>\n",
       "      <td>13,777</td>\n",
       "    </tr>\n",
       "    <tr>\n",
       "      <th>1</th>\n",
       "      <td>2024-02-29</td>\n",
       "      <td>10,422</td>\n",
       "    </tr>\n",
       "    <tr>\n",
       "      <th>2</th>\n",
       "      <td>2024-03-31</td>\n",
       "      <td>17,173</td>\n",
       "    </tr>\n",
       "    <tr>\n",
       "      <th>3</th>\n",
       "      <td>2024-04-30</td>\n",
       "      <td>27,871</td>\n",
       "    </tr>\n",
       "  </tbody>\n",
       "</table>\n",
       "</div>"
      ],
      "text/plain": [
       "        date  Compras\n",
       "0 2024-01-31   13,777\n",
       "1 2024-02-29   10,422\n",
       "2 2024-03-31   17,173\n",
       "3 2024-04-30   27,871"
      ]
     },
     "execution_count": 6,
     "metadata": {},
     "output_type": "execute_result"
    }
   ],
   "source": [
    "test_ts_compras = mgts.get_ts('Compras', type = 'test')\n",
    "test_ts_compras"
   ]
  },
  {
   "cell_type": "code",
   "execution_count": 7,
   "id": "9f73768a-4c75-4b40-bf43-dc79975a0bd0",
   "metadata": {},
   "outputs": [
    {
     "data": {
      "application/vnd.jupyter.widget-view+json": {
<<<<<<< HEAD
       "model_id": "b4df0c8e5a5b421da2e7a885695fe4cf",
=======
       "model_id": "45b1a08785ee4c979ef63e8de7cf40e6",
>>>>>>> 50d8c9448751c753e5f30f5c9f817ee176f28188
       "version_major": 2,
       "version_minor": 0
      },
      "text/plain": [
       "Downloading artifacts:   0%|          | 0/1 [00:00<?, ?it/s]"
      ]
     },
     "metadata": {},
     "output_type": "display_data"
    },
    {
     "data": {
      "text/html": [
       "<div>\n",
       "<style scoped>\n",
       "    .dataframe tbody tr th:only-of-type {\n",
       "        vertical-align: middle;\n",
       "    }\n",
       "\n",
       "    .dataframe tbody tr th {\n",
       "        vertical-align: top;\n",
       "    }\n",
       "\n",
       "    .dataframe thead th {\n",
       "        text-align: right;\n",
       "    }\n",
       "</style>\n",
       "<table border=\"1\" class=\"dataframe\">\n",
       "  <thead>\n",
       "    <tr style=\"text-align: right;\">\n",
       "      <th></th>\n",
       "      <th>date</th>\n",
       "      <th>pred</th>\n",
       "    </tr>\n",
       "  </thead>\n",
       "  <tbody>\n",
       "    <tr>\n",
       "      <th>0</th>\n",
       "      <td>2024-01-31</td>\n",
       "      <td>1,587</td>\n",
       "    </tr>\n",
       "    <tr>\n",
       "      <th>1</th>\n",
       "      <td>2024-02-29</td>\n",
       "      <td>20,286</td>\n",
       "    </tr>\n",
       "    <tr>\n",
       "      <th>2</th>\n",
       "      <td>2024-03-31</td>\n",
       "      <td>28,405</td>\n",
       "    </tr>\n",
       "    <tr>\n",
       "      <th>3</th>\n",
       "      <td>2024-04-30</td>\n",
       "      <td>30,379</td>\n",
       "    </tr>\n",
       "  </tbody>\n",
       "</table>\n",
       "</div>"
      ],
      "text/plain": [
       "        date   pred\n",
       "0 2024-01-31  1,587\n",
       "1 2024-02-29 20,286\n",
       "2 2024-03-31 28,405\n",
       "3 2024-04-30 30,379"
      ]
     },
     "execution_count": 7,
     "metadata": {},
     "output_type": "execute_result"
    }
   ],
   "source": [
<<<<<<< HEAD
    "TCN_compras_mae = get_mlflow_pred('mlflow-artifacts:/e4812a076abd4294b4e238dc8106ce47/66395aad673c4c6c9ce9aaae0fa7274a/artifacts/predictions/TCN_Compras_best_mae.csv')\n",
=======
    "TCN_compras_mae = get_mlflow_pred('mlflow-artifacts:/e4812a076abd4294b4e238dc8106ce47/e978fe53b87548658cbf5fc242b00747/artifacts/predictions/TCN_Compras_best_mae.csv')\n",
>>>>>>> 50d8c9448751c753e5f30f5c9f817ee176f28188
    "TCN_compras_mae = transform_dataset(TCN_compras_mae)\n",
    "TCN_compras_mae"
   ]
  },
  {
   "cell_type": "code",
   "execution_count": 8,
   "id": "bbe643e9-1585-460f-b744-8ef6b4568bf5",
   "metadata": {},
   "outputs": [],
   "source": [
<<<<<<< HEAD
    "# TCN RMSE"
=======
    "TCN_compras_rmse = get_mlflow_pred('mlflow-artifacts:/e4812a076abd4294b4e238dc8106ce47/887cb4a08b9145f18900dfbd01ff75f4/artifacts/predictions/TCN_Compras_best_rmse.csv')\n",
    "TCN_compras_rmse = transform_dataset(TCN_compras_rmse)\n",
    "TCN_compras_rmse"
>>>>>>> 50d8c9448751c753e5f30f5c9f817ee176f28188
   ]
  },
  {
   "cell_type": "code",
   "execution_count": 9,
   "id": "468329d3-ea1b-4471-987f-e661e5d256e4",
   "metadata": {},
   "outputs": [
    {
     "data": {
      "application/vnd.jupyter.widget-view+json": {
<<<<<<< HEAD
       "model_id": "ac29a4784cc5469b8e0e793e364a554b",
=======
       "model_id": "4705a480d2da4c3e80dec4e60baff14c",
>>>>>>> 50d8c9448751c753e5f30f5c9f817ee176f28188
       "version_major": 2,
       "version_minor": 0
      },
      "text/plain": [
       "Downloading artifacts:   0%|          | 0/1 [00:00<?, ?it/s]"
      ]
     },
     "metadata": {},
     "output_type": "display_data"
    },
    {
     "data": {
      "text/html": [
       "<div>\n",
       "<style scoped>\n",
       "    .dataframe tbody tr th:only-of-type {\n",
       "        vertical-align: middle;\n",
       "    }\n",
       "\n",
       "    .dataframe tbody tr th {\n",
       "        vertical-align: top;\n",
       "    }\n",
       "\n",
       "    .dataframe thead th {\n",
       "        text-align: right;\n",
       "    }\n",
       "</style>\n",
       "<table border=\"1\" class=\"dataframe\">\n",
       "  <thead>\n",
       "    <tr style=\"text-align: right;\">\n",
       "      <th></th>\n",
       "      <th>date</th>\n",
       "      <th>pred</th>\n",
       "    </tr>\n",
       "  </thead>\n",
       "  <tbody>\n",
       "    <tr>\n",
       "      <th>0</th>\n",
       "      <td>2024-01-31</td>\n",
       "      <td>1,587</td>\n",
       "    </tr>\n",
       "    <tr>\n",
       "      <th>1</th>\n",
       "      <td>2024-02-29</td>\n",
       "      <td>13,879</td>\n",
       "    </tr>\n",
       "    <tr>\n",
       "      <th>2</th>\n",
       "      <td>2024-03-31</td>\n",
       "      <td>12,818</td>\n",
       "    </tr>\n",
       "    <tr>\n",
       "      <th>3</th>\n",
       "      <td>2024-04-30</td>\n",
       "      <td>15,612</td>\n",
       "    </tr>\n",
       "  </tbody>\n",
       "</table>\n",
       "</div>"
      ],
      "text/plain": [
       "        date   pred\n",
       "0 2024-01-31  1,587\n",
       "1 2024-02-29 13,879\n",
       "2 2024-03-31 12,818\n",
       "3 2024-04-30 15,612"
      ]
     },
     "execution_count": 9,
     "metadata": {},
     "output_type": "execute_result"
    }
   ],
   "source": [
    "lgbm_compras_mae = get_mlflow_pred('mlflow-artifacts:/25707a52310b4902beafe11b4d03a4e7/045d689e9c034f43a0484c63bcdea891/artifacts/predictions/LightGBM_Compras_best_mae.csv')\n",
    "lgbm_compras_mae = transform_dataset(lgbm_compras_mae)\n",
    "lgbm_compras_mae"
   ]
  },
  {
   "cell_type": "code",
   "execution_count": 10,
   "id": "57d20d96-68ca-4bd2-9904-1a69e19c970d",
   "metadata": {},
   "outputs": [
    {
     "data": {
      "application/vnd.jupyter.widget-view+json": {
<<<<<<< HEAD
       "model_id": "e5bc4163cecf45e4873ee94cf2f55595",
=======
       "model_id": "7c32f50dbf4e40a78b82a23ff897dc1c",
>>>>>>> 50d8c9448751c753e5f30f5c9f817ee176f28188
       "version_major": 2,
       "version_minor": 0
      },
      "text/plain": [
       "Downloading artifacts:   0%|          | 0/1 [00:00<?, ?it/s]"
      ]
     },
     "metadata": {},
     "output_type": "display_data"
    },
    {
     "data": {
      "text/html": [
       "<div>\n",
       "<style scoped>\n",
       "    .dataframe tbody tr th:only-of-type {\n",
       "        vertical-align: middle;\n",
       "    }\n",
       "\n",
       "    .dataframe tbody tr th {\n",
       "        vertical-align: top;\n",
       "    }\n",
       "\n",
       "    .dataframe thead th {\n",
       "        text-align: right;\n",
       "    }\n",
       "</style>\n",
       "<table border=\"1\" class=\"dataframe\">\n",
       "  <thead>\n",
       "    <tr style=\"text-align: right;\">\n",
       "      <th></th>\n",
       "      <th>date</th>\n",
       "      <th>pred</th>\n",
       "    </tr>\n",
       "  </thead>\n",
       "  <tbody>\n",
       "    <tr>\n",
       "      <th>0</th>\n",
       "      <td>2024-01-31</td>\n",
       "      <td>1,587</td>\n",
       "    </tr>\n",
       "    <tr>\n",
       "      <th>1</th>\n",
       "      <td>2024-02-29</td>\n",
       "      <td>10,887</td>\n",
       "    </tr>\n",
       "    <tr>\n",
       "      <th>2</th>\n",
       "      <td>2024-03-31</td>\n",
       "      <td>14,408</td>\n",
       "    </tr>\n",
       "    <tr>\n",
       "      <th>3</th>\n",
       "      <td>2024-04-30</td>\n",
       "      <td>10,880</td>\n",
       "    </tr>\n",
       "  </tbody>\n",
       "</table>\n",
       "</div>"
      ],
      "text/plain": [
       "        date   pred\n",
       "0 2024-01-31  1,587\n",
       "1 2024-02-29 10,887\n",
       "2 2024-03-31 14,408\n",
       "3 2024-04-30 10,880"
      ]
     },
     "execution_count": 10,
     "metadata": {},
     "output_type": "execute_result"
    }
   ],
   "source": [
    "lgbm_compras_rmse = get_mlflow_pred('mlflow-artifacts:/25707a52310b4902beafe11b4d03a4e7/2df46cf7db164a6290a48344612caa47/artifacts/predictions/LightGBM_Compras_best_rmse.csv')\n",
    "lgbm_compras_rmse = transform_dataset(lgbm_compras_rmse)\n",
    "lgbm_compras_rmse"
   ]
  },
  {
   "cell_type": "code",
   "execution_count": 11,
   "id": "50c887b7-1d7d-4170-8751-a6f186138f8c",
   "metadata": {},
   "outputs": [
    {
     "data": {
      "image/png": "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",
      "text/plain": [
       "<Figure size 1500x1000 with 4 Axes>"
      ]
     },
     "metadata": {},
     "output_type": "display_data"
    }
   ],
   "source": [
    "plt.close() # since  in the my_future.py I have the next line: matplotlib.use('Agg'), I need to ensrue plt is empty before plotting\n",
    "fig, ax = plt.subplots(2,2, figsize = (15,10))\n",
    "\n",
    "ax[0,0].plot(train_ts_compras['date'], train_ts_compras['Compras'], color = 'blue')\n",
    "ax[0,0].plot(test_ts_compras['date'], test_ts_compras['Compras'], color = 'green')\n",
    "ax[0,0].plot(TCN_compras_mae['date'], TCN_compras_mae['pred'], color = 'orange')\n",
    "ax[0,0].set_title('TCN MAE')\n",
    "\n",
    "ax[0,1].plot(train_ts_compras['date'], train_ts_compras['Compras'], color = 'blue')\n",
    "ax[0,1].plot(test_ts_compras['date'], test_ts_compras['Compras'], color = 'green')\n",
    "ax[0,1].plot(TCN_compras_mae['date'], TCN_compras_mae['pred'], color = 'orange')\n",
    "ax[0,1].set_title('TCN RMSE')\n",
    "\n",
    "ax[1,0].plot(train_ts_compras['date'], train_ts_compras['Compras'], color = 'blue')\n",
    "ax[1,0].plot(test_ts_compras['date'], test_ts_compras['Compras'], color = 'green')\n",
    "ax[1,0].plot(lgbm_compras_mae['date'], lgbm_compras_mae['pred'], color = 'orange')\n",
    "ax[1,0].set_title('LGBM MAE')\n",
    "\n",
    "ax[1,1].plot(train_ts_compras['date'], train_ts_compras['Compras'], color = 'blue')\n",
    "ax[1,1].plot(test_ts_compras['date'], test_ts_compras['Compras'], color = 'green')\n",
    "ax[1,1].plot(lgbm_compras_rmse['date'], lgbm_compras_rmse['pred'], color = 'orange')\n",
    "ax[1,1].set_title('LGBM RMSE')\n",
    "\n",
    "plt.suptitle('COMPRAS')\n",
    "\n",
    "plt.show()"
   ]
  },
  {
   "cell_type": "code",
   "execution_count": 12,
   "id": "cdf38805-4896-4190-b90d-33bef32d6264",
   "metadata": {},
   "outputs": [],
   "source": [
    "# bla bla"
   ]
  },
  {
   "cell_type": "code",
   "execution_count": 13,
   "id": "58454784-891c-42b4-a464-ef580420e8d7",
   "metadata": {},
   "outputs": [
    {
     "data": {
      "application/vnd.jupyter.widget-view+json": {
<<<<<<< HEAD
       "model_id": "3f5fe51632a84d49913dacc8a3cc8ead",
=======
       "model_id": "959f97961af64e3ba3a6d90c2568900d",
>>>>>>> 50d8c9448751c753e5f30f5c9f817ee176f28188
       "version_major": 2,
       "version_minor": 0
      },
      "text/plain": [
       "Downloading artifacts:   0%|          | 0/1 [00:00<?, ?it/s]"
      ]
     },
     "metadata": {},
     "output_type": "display_data"
    },
    {
     "data": {
      "text/html": [
       "<div>\n",
       "<style scoped>\n",
       "    .dataframe tbody tr th:only-of-type {\n",
       "        vertical-align: middle;\n",
       "    }\n",
       "\n",
       "    .dataframe tbody tr th {\n",
       "        vertical-align: top;\n",
       "    }\n",
       "\n",
       "    .dataframe thead th {\n",
       "        text-align: right;\n",
       "    }\n",
       "</style>\n",
       "<table border=\"1\" class=\"dataframe\">\n",
       "  <thead>\n",
       "    <tr style=\"text-align: right;\">\n",
       "      <th></th>\n",
       "      <th>date</th>\n",
       "      <th>pred</th>\n",
       "    </tr>\n",
       "  </thead>\n",
       "  <tbody>\n",
       "    <tr>\n",
       "      <th>4</th>\n",
       "      <td>2024-05-31</td>\n",
       "      <td>12,784</td>\n",
       "    </tr>\n",
       "    <tr>\n",
       "      <th>5</th>\n",
       "      <td>2024-06-30</td>\n",
       "      <td>11,782</td>\n",
       "    </tr>\n",
       "    <tr>\n",
       "      <th>6</th>\n",
       "      <td>2024-07-31</td>\n",
       "      <td>25,396</td>\n",
       "    </tr>\n",
       "  </tbody>\n",
       "</table>\n",
       "</div>"
      ],
      "text/plain": [
       "        date   pred\n",
       "4 2024-05-31 12,784\n",
       "5 2024-06-30 11,782\n",
       "6 2024-07-31 25,396"
      ]
     },
     "execution_count": 13,
     "metadata": {},
     "output_type": "execute_result"
    }
   ],
   "source": [
    "modelo_compras_elegido = get_mlflow_pred('mlflow-artifacts:/25707a52310b4902beafe11b4d03a4e7/045d689e9c034f43a0484c63bcdea891/artifacts/predictions/LightGBM_Compras_best_mae.csv')\n",
    "modelo_compras_elegido = modelo_compras_elegido.loc[4:6, :].copy() #Se predicen los siguientes tres meses\n",
    "modelo_compras_elegido['date'] = pd.to_datetime(modelo_compras_elegido['date'], format= '%Y-%m-%d')\n",
    "modelo_compras_elegido['pred'] = modelo_compras_elegido['pred'].astype('float32')\n",
    "modelo_compras_elegido"
   ]
  },
  {
   "cell_type": "markdown",
   "id": "c03144e6-93e5-4903-b63f-7c5ed4a5fb0a",
   "metadata": {},
   "source": [
    "## Ventas"
   ]
  },
  {
   "cell_type": "code",
   "execution_count": 14,
   "id": "1dbd043c-a035-46d9-8675-a5738bad63fa",
   "metadata": {},
   "outputs": [
    {
     "data": {
      "text/html": [
       "<div>\n",
       "<style scoped>\n",
       "    .dataframe tbody tr th:only-of-type {\n",
       "        vertical-align: middle;\n",
       "    }\n",
       "\n",
       "    .dataframe tbody tr th {\n",
       "        vertical-align: top;\n",
       "    }\n",
       "\n",
       "    .dataframe thead th {\n",
       "        text-align: right;\n",
       "    }\n",
       "</style>\n",
       "<table border=\"1\" class=\"dataframe\">\n",
       "  <thead>\n",
       "    <tr style=\"text-align: right;\">\n",
       "      <th></th>\n",
       "      <th>date</th>\n",
       "      <th>Ventas</th>\n",
       "    </tr>\n",
       "  </thead>\n",
       "  <tbody>\n",
       "    <tr>\n",
       "      <th>0</th>\n",
       "      <td>2017-09-30</td>\n",
       "      <td>5,783</td>\n",
       "    </tr>\n",
       "    <tr>\n",
       "      <th>1</th>\n",
       "      <td>2017-10-31</td>\n",
       "      <td>20,854</td>\n",
       "    </tr>\n",
       "    <tr>\n",
       "      <th>2</th>\n",
       "      <td>2017-11-30</td>\n",
       "      <td>14,191</td>\n",
       "    </tr>\n",
       "    <tr>\n",
       "      <th>3</th>\n",
       "      <td>2017-12-31</td>\n",
       "      <td>7,595</td>\n",
       "    </tr>\n",
       "    <tr>\n",
       "      <th>4</th>\n",
       "      <td>2018-01-31</td>\n",
       "      <td>12,358</td>\n",
       "    </tr>\n",
       "    <tr>\n",
       "      <th>...</th>\n",
       "      <td>...</td>\n",
       "      <td>...</td>\n",
       "    </tr>\n",
       "    <tr>\n",
       "      <th>71</th>\n",
       "      <td>2023-08-31</td>\n",
       "      <td>13,443</td>\n",
       "    </tr>\n",
       "    <tr>\n",
       "      <th>72</th>\n",
       "      <td>2023-09-30</td>\n",
       "      <td>16,520</td>\n",
       "    </tr>\n",
       "    <tr>\n",
       "      <th>73</th>\n",
       "      <td>2023-10-31</td>\n",
       "      <td>17,195</td>\n",
       "    </tr>\n",
       "    <tr>\n",
       "      <th>74</th>\n",
       "      <td>2023-11-30</td>\n",
       "      <td>13,819</td>\n",
       "    </tr>\n",
       "    <tr>\n",
       "      <th>75</th>\n",
       "      <td>2023-12-31</td>\n",
       "      <td>21,319</td>\n",
       "    </tr>\n",
       "  </tbody>\n",
       "</table>\n",
       "<p>76 rows × 2 columns</p>\n",
       "</div>"
      ],
      "text/plain": [
       "         date  Ventas\n",
       "0  2017-09-30   5,783\n",
       "1  2017-10-31  20,854\n",
       "2  2017-11-30  14,191\n",
       "3  2017-12-31   7,595\n",
       "4  2018-01-31  12,358\n",
       "..        ...     ...\n",
       "71 2023-08-31  13,443\n",
       "72 2023-09-30  16,520\n",
       "73 2023-10-31  17,195\n",
       "74 2023-11-30  13,819\n",
       "75 2023-12-31  21,319\n",
       "\n",
       "[76 rows x 2 columns]"
      ]
     },
     "execution_count": 14,
     "metadata": {},
     "output_type": "execute_result"
    }
   ],
   "source": [
    "train_ts_ventas = mgts.get_ts('Ventas', type = 'train')\n",
    "train_ts_ventas"
   ]
  },
  {
   "cell_type": "code",
   "execution_count": 15,
   "id": "6f393169-76ad-4daf-87ac-873041ed61cf",
   "metadata": {},
   "outputs": [
    {
     "data": {
      "text/html": [
       "<div>\n",
       "<style scoped>\n",
       "    .dataframe tbody tr th:only-of-type {\n",
       "        vertical-align: middle;\n",
       "    }\n",
       "\n",
       "    .dataframe tbody tr th {\n",
       "        vertical-align: top;\n",
       "    }\n",
       "\n",
       "    .dataframe thead th {\n",
       "        text-align: right;\n",
       "    }\n",
       "</style>\n",
       "<table border=\"1\" class=\"dataframe\">\n",
       "  <thead>\n",
       "    <tr style=\"text-align: right;\">\n",
       "      <th></th>\n",
       "      <th>date</th>\n",
       "      <th>Ventas</th>\n",
       "    </tr>\n",
       "  </thead>\n",
       "  <tbody>\n",
       "    <tr>\n",
       "      <th>0</th>\n",
       "      <td>2024-01-31</td>\n",
       "      <td>26,512</td>\n",
       "    </tr>\n",
       "    <tr>\n",
       "      <th>1</th>\n",
       "      <td>2024-02-29</td>\n",
       "      <td>22,967</td>\n",
       "    </tr>\n",
       "    <tr>\n",
       "      <th>2</th>\n",
       "      <td>2024-03-31</td>\n",
       "      <td>18,972</td>\n",
       "    </tr>\n",
       "    <tr>\n",
       "      <th>3</th>\n",
       "      <td>2024-04-30</td>\n",
       "      <td>17,455</td>\n",
       "    </tr>\n",
       "  </tbody>\n",
       "</table>\n",
       "</div>"
      ],
      "text/plain": [
       "        date  Ventas\n",
       "0 2024-01-31  26,512\n",
       "1 2024-02-29  22,967\n",
       "2 2024-03-31  18,972\n",
       "3 2024-04-30  17,455"
      ]
     },
     "execution_count": 15,
     "metadata": {},
     "output_type": "execute_result"
    }
   ],
   "source": [
    "test_ts_ventas = mgts.get_ts(\"Ventas\", type = 'test')\n",
    "test_ts_ventas"
   ]
  },
  {
   "cell_type": "code",
   "execution_count": 16,
   "id": "ba5b82ef-b4ad-4a5d-bbc9-87b2fd1fad76",
   "metadata": {},
   "outputs": [
    {
     "data": {
      "application/vnd.jupyter.widget-view+json": {
<<<<<<< HEAD
       "model_id": "3bb726b0594b46eabbb28b23d795bbc7",
=======
       "model_id": "4f48b7054b1049088a1bd176c9b55b48",
>>>>>>> 50d8c9448751c753e5f30f5c9f817ee176f28188
       "version_major": 2,
       "version_minor": 0
      },
      "text/plain": [
       "Downloading artifacts:   0%|          | 0/1 [00:00<?, ?it/s]"
      ]
     },
     "metadata": {},
     "output_type": "display_data"
    },
    {
     "data": {
      "text/html": [
       "<div>\n",
       "<style scoped>\n",
       "    .dataframe tbody tr th:only-of-type {\n",
       "        vertical-align: middle;\n",
       "    }\n",
       "\n",
       "    .dataframe tbody tr th {\n",
       "        vertical-align: top;\n",
       "    }\n",
       "\n",
       "    .dataframe thead th {\n",
       "        text-align: right;\n",
       "    }\n",
       "</style>\n",
       "<table border=\"1\" class=\"dataframe\">\n",
       "  <thead>\n",
       "    <tr style=\"text-align: right;\">\n",
       "      <th></th>\n",
       "      <th>date</th>\n",
       "      <th>pred</th>\n",
       "    </tr>\n",
       "  </thead>\n",
       "  <tbody>\n",
       "    <tr>\n",
       "      <th>0</th>\n",
       "      <td>2024-01-31</td>\n",
       "      <td>15,795</td>\n",
       "    </tr>\n",
       "    <tr>\n",
       "      <th>1</th>\n",
       "      <td>2024-02-29</td>\n",
       "      <td>20,402</td>\n",
       "    </tr>\n",
       "    <tr>\n",
       "      <th>2</th>\n",
       "      <td>2024-03-31</td>\n",
       "      <td>16,217</td>\n",
       "    </tr>\n",
       "    <tr>\n",
       "      <th>3</th>\n",
       "      <td>2024-04-30</td>\n",
       "      <td>20,495</td>\n",
       "    </tr>\n",
       "  </tbody>\n",
       "</table>\n",
       "</div>"
      ],
      "text/plain": [
       "        date   pred\n",
       "0 2024-01-31 15,795\n",
       "1 2024-02-29 20,402\n",
       "2 2024-03-31 16,217\n",
       "3 2024-04-30 20,495"
      ]
     },
     "execution_count": 16,
     "metadata": {},
     "output_type": "execute_result"
    }
   ],
   "source": [
    "TCN_ventas_mae = get_mlflow_pred('mlflow-artifacts:/24b7234b0fc04727a39b4e7add015333/c41cfa44a29246a580ef87bbd50b963e/artifacts/predictions/TCN_Ventas_best_mae.csv')\n",
    "TCN_ventas_mae = transform_dataset(TCN_ventas_mae)\n",
    "TCN_ventas_mae"
   ]
  },
  {
   "cell_type": "code",
   "execution_count": 17,
   "id": "f4a54094-a4ed-4829-8fe5-74852873c8da",
   "metadata": {},
   "outputs": [
    {
     "data": {
      "application/vnd.jupyter.widget-view+json": {
<<<<<<< HEAD
       "model_id": "ba4215ff7cf3480eb666ab5f6f530f47",
=======
       "model_id": "7290384a05e64fff944046993429e487",
>>>>>>> 50d8c9448751c753e5f30f5c9f817ee176f28188
       "version_major": 2,
       "version_minor": 0
      },
      "text/plain": [
       "Downloading artifacts:   0%|          | 0/1 [00:00<?, ?it/s]"
      ]
     },
     "metadata": {},
     "output_type": "display_data"
    },
    {
     "data": {
      "text/html": [
       "<div>\n",
       "<style scoped>\n",
       "    .dataframe tbody tr th:only-of-type {\n",
       "        vertical-align: middle;\n",
       "    }\n",
       "\n",
       "    .dataframe tbody tr th {\n",
       "        vertical-align: top;\n",
       "    }\n",
       "\n",
       "    .dataframe thead th {\n",
       "        text-align: right;\n",
       "    }\n",
       "</style>\n",
       "<table border=\"1\" class=\"dataframe\">\n",
       "  <thead>\n",
       "    <tr style=\"text-align: right;\">\n",
       "      <th></th>\n",
       "      <th>date</th>\n",
       "      <th>pred</th>\n",
       "    </tr>\n",
       "  </thead>\n",
       "  <tbody>\n",
       "    <tr>\n",
       "      <th>0</th>\n",
       "      <td>2024-01-31</td>\n",
       "      <td>15,795</td>\n",
       "    </tr>\n",
       "    <tr>\n",
       "      <th>1</th>\n",
       "      <td>2024-02-29</td>\n",
       "      <td>20,428</td>\n",
       "    </tr>\n",
       "    <tr>\n",
       "      <th>2</th>\n",
       "      <td>2024-03-31</td>\n",
       "      <td>15,138</td>\n",
       "    </tr>\n",
       "    <tr>\n",
       "      <th>3</th>\n",
       "      <td>2024-04-30</td>\n",
       "      <td>19,853</td>\n",
       "    </tr>\n",
       "  </tbody>\n",
       "</table>\n",
       "</div>"
      ],
      "text/plain": [
       "        date   pred\n",
       "0 2024-01-31 15,795\n",
       "1 2024-02-29 20,428\n",
       "2 2024-03-31 15,138\n",
       "3 2024-04-30 19,853"
      ]
     },
     "execution_count": 17,
     "metadata": {},
     "output_type": "execute_result"
    }
   ],
   "source": [
    "TCN_ventas_rmse = get_mlflow_pred('mlflow-artifacts:/24b7234b0fc04727a39b4e7add015333/ec9b782d2ae54eb8bb039a9b6a968d6f/artifacts/predictions/TCN_Ventas_best_rmse.csv')\n",
    "TCN_ventas_rmse = transform_dataset(TCN_ventas_rmse)\n",
    "TCN_ventas_rmse"
   ]
  },
  {
   "cell_type": "code",
   "execution_count": 18,
   "id": "b96c8f1f-647b-4c81-95e9-89749703efed",
   "metadata": {},
   "outputs": [
    {
     "data": {
      "application/vnd.jupyter.widget-view+json": {
<<<<<<< HEAD
       "model_id": "df817a52ebef4010bd86dfd6aa90ba21",
=======
       "model_id": "e5112f7a103444e59d33711413be3694",
>>>>>>> 50d8c9448751c753e5f30f5c9f817ee176f28188
       "version_major": 2,
       "version_minor": 0
      },
      "text/plain": [
       "Downloading artifacts:   0%|          | 0/1 [00:00<?, ?it/s]"
      ]
     },
     "metadata": {},
     "output_type": "display_data"
    },
    {
     "data": {
      "text/html": [
       "<div>\n",
       "<style scoped>\n",
       "    .dataframe tbody tr th:only-of-type {\n",
       "        vertical-align: middle;\n",
       "    }\n",
       "\n",
       "    .dataframe tbody tr th {\n",
       "        vertical-align: top;\n",
       "    }\n",
       "\n",
       "    .dataframe thead th {\n",
       "        text-align: right;\n",
       "    }\n",
       "</style>\n",
       "<table border=\"1\" class=\"dataframe\">\n",
       "  <thead>\n",
       "    <tr style=\"text-align: right;\">\n",
       "      <th></th>\n",
       "      <th>date</th>\n",
       "      <th>pred</th>\n",
       "    </tr>\n",
       "  </thead>\n",
       "  <tbody>\n",
       "    <tr>\n",
       "      <th>0</th>\n",
       "      <td>2024-01-31</td>\n",
       "      <td>15,795</td>\n",
       "    </tr>\n",
       "    <tr>\n",
       "      <th>1</th>\n",
       "      <td>2024-02-29</td>\n",
       "      <td>14,273</td>\n",
       "    </tr>\n",
       "    <tr>\n",
       "      <th>2</th>\n",
       "      <td>2024-03-31</td>\n",
       "      <td>14,273</td>\n",
       "    </tr>\n",
       "    <tr>\n",
       "      <th>3</th>\n",
       "      <td>2024-04-30</td>\n",
       "      <td>14,273</td>\n",
       "    </tr>\n",
       "  </tbody>\n",
       "</table>\n",
       "</div>"
      ],
      "text/plain": [
       "        date   pred\n",
       "0 2024-01-31 15,795\n",
       "1 2024-02-29 14,273\n",
       "2 2024-03-31 14,273\n",
       "3 2024-04-30 14,273"
      ]
     },
     "execution_count": 18,
     "metadata": {},
     "output_type": "execute_result"
    }
   ],
   "source": [
    "lgbm_ventas_mae = get_mlflow_pred('mlflow-artifacts:/703c637793b24acb87079f949bd98ee1/6738197386ad45f7bcf1dc2316b8667e/artifacts/predictions/LightGBM_Ventas_best_mae.csv')\n",
    "lgbm_ventas_mae = transform_dataset(lgbm_ventas_mae)\n",
    "lgbm_ventas_mae"
   ]
  },
  {
   "cell_type": "code",
   "execution_count": 19,
   "id": "fd7b1364-3329-4599-9286-75e3d1589721",
   "metadata": {},
   "outputs": [
    {
     "data": {
      "application/vnd.jupyter.widget-view+json": {
<<<<<<< HEAD
       "model_id": "5dab472c4c7d4d0eadfe20175366d3e0",
=======
       "model_id": "808b5337473e4445b6ca337357ff8cc3",
>>>>>>> 50d8c9448751c753e5f30f5c9f817ee176f28188
       "version_major": 2,
       "version_minor": 0
      },
      "text/plain": [
       "Downloading artifacts:   0%|          | 0/1 [00:00<?, ?it/s]"
      ]
     },
     "metadata": {},
     "output_type": "display_data"
    },
    {
     "data": {
      "text/html": [
       "<div>\n",
       "<style scoped>\n",
       "    .dataframe tbody tr th:only-of-type {\n",
       "        vertical-align: middle;\n",
       "    }\n",
       "\n",
       "    .dataframe tbody tr th {\n",
       "        vertical-align: top;\n",
       "    }\n",
       "\n",
       "    .dataframe thead th {\n",
       "        text-align: right;\n",
       "    }\n",
       "</style>\n",
       "<table border=\"1\" class=\"dataframe\">\n",
       "  <thead>\n",
       "    <tr style=\"text-align: right;\">\n",
       "      <th></th>\n",
       "      <th>date</th>\n",
       "      <th>pred</th>\n",
       "    </tr>\n",
       "  </thead>\n",
       "  <tbody>\n",
       "    <tr>\n",
       "      <th>0</th>\n",
       "      <td>2024-01-31</td>\n",
       "      <td>15,795</td>\n",
       "    </tr>\n",
       "    <tr>\n",
       "      <th>1</th>\n",
       "      <td>2024-02-29</td>\n",
       "      <td>14,297</td>\n",
       "    </tr>\n",
       "    <tr>\n",
       "      <th>2</th>\n",
       "      <td>2024-03-31</td>\n",
       "      <td>14,297</td>\n",
       "    </tr>\n",
       "    <tr>\n",
       "      <th>3</th>\n",
       "      <td>2024-04-30</td>\n",
       "      <td>14,297</td>\n",
       "    </tr>\n",
       "  </tbody>\n",
       "</table>\n",
       "</div>"
      ],
      "text/plain": [
       "        date   pred\n",
       "0 2024-01-31 15,795\n",
       "1 2024-02-29 14,297\n",
       "2 2024-03-31 14,297\n",
       "3 2024-04-30 14,297"
      ]
     },
     "execution_count": 19,
     "metadata": {},
     "output_type": "execute_result"
    }
   ],
   "source": [
    "lgbm_ventas_rmse = get_mlflow_pred('mlflow-artifacts:/703c637793b24acb87079f949bd98ee1/a53d90f83a834569bbc590444f751533/artifacts/predictions/LightGBM_Ventas_best_rmse.csv')\n",
    "lgbm_ventas_rmse = transform_dataset(lgbm_ventas_rmse)\n",
    "lgbm_ventas_rmse"
   ]
  },
  {
   "cell_type": "code",
   "execution_count": 20,
   "id": "b5dd0034-7cd1-4761-b9e3-091a21cb1b30",
   "metadata": {},
   "outputs": [
    {
     "data": {
      "image/png": "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",
      "text/plain": [
       "<Figure size 1500x1000 with 4 Axes>"
      ]
     },
     "metadata": {},
     "output_type": "display_data"
    }
   ],
   "source": [
    "plt.close() # since  in the my_future.py I have the next line: matplotlib.use('Agg'), I need to ensrue plt is empty before plotting\n",
    "fig, ax = plt.subplots(2,2, figsize = (15,10))\n",
    "\n",
    "ax[0,0].plot(train_ts_ventas['date'], train_ts_ventas['Ventas'], color = 'blue')\n",
    "ax[0,0].plot(test_ts_ventas['date'], test_ts_ventas['Ventas'], color = 'green')\n",
    "ax[0,0].plot(TCN_ventas_mae['date'], TCN_ventas_mae['pred'], color = 'orange')\n",
    "ax[0,0].set_title('TCN MAE')\n",
    "\n",
    "ax[0,1].plot(train_ts_ventas['date'], train_ts_ventas['Ventas'], color = 'blue')\n",
    "ax[0,1].plot(test_ts_ventas['date'], test_ts_ventas['Ventas'], color = 'green')\n",
    "ax[0,1].plot(TCN_ventas_mae['date'], TCN_ventas_mae['pred'], color = 'orange')\n",
    "ax[0,1].set_title('TCN RMSE')\n",
    "\n",
    "ax[1,0].plot(train_ts_ventas['date'], train_ts_ventas['Ventas'], color = 'blue')\n",
    "ax[1,0].plot(test_ts_ventas['date'], test_ts_ventas['Ventas'], color = 'green')\n",
    "ax[1,0].plot(lgbm_ventas_mae['date'], lgbm_ventas_mae['pred'], color = 'orange')\n",
    "ax[1,0].set_title('LGBM MAE')\n",
    "\n",
    "ax[1,1].plot(train_ts_ventas['date'], train_ts_ventas['Ventas'], color = 'blue')\n",
    "ax[1,1].plot(test_ts_ventas['date'], test_ts_ventas['Ventas'], color = 'green')\n",
    "ax[1,1].plot(lgbm_ventas_rmse['date'], lgbm_ventas_rmse['pred'], color = 'orange')\n",
    "ax[1,1].set_title('LGBM RMSE')\n",
    "\n",
    "plt.suptitle('Ventas')\n",
    "\n",
    "lines = [plt.Line2D([0], [0], color='blue', lw=2),\n",
    "         plt.Line2D([0], [0], color='green', lw=2),\n",
    "         plt.Line2D([0], [0], color='orange', lw=2)]\n",
    "labels = ['Train', 'Test', 'Predicted']\n",
    "\n",
    "fig.legend(lines, labels, loc='center right')\n",
    "\n",
    "plt.show()"
   ]
  },
  {
   "cell_type": "code",
   "execution_count": 21,
   "id": "64660450-78bf-4ac3-a3c3-18e6456ac6bc",
   "metadata": {},
   "outputs": [],
   "source": [
    "# bla bla"
   ]
  },
  {
   "cell_type": "code",
   "execution_count": 22,
   "id": "858f25b6-812d-42c9-809c-2f8bbf791608",
   "metadata": {},
   "outputs": [
    {
     "data": {
      "application/vnd.jupyter.widget-view+json": {
<<<<<<< HEAD
       "model_id": "2f6dc3ca5353483aa4d3d28f16c35261",
=======
       "model_id": "288d0f3f1d5e48ddbd2dc166e1b92e26",
>>>>>>> 50d8c9448751c753e5f30f5c9f817ee176f28188
       "version_major": 2,
       "version_minor": 0
      },
      "text/plain": [
       "Downloading artifacts:   0%|          | 0/1 [00:00<?, ?it/s]"
      ]
     },
     "metadata": {},
     "output_type": "display_data"
    },
    {
     "data": {
      "text/html": [
       "<div>\n",
       "<style scoped>\n",
       "    .dataframe tbody tr th:only-of-type {\n",
       "        vertical-align: middle;\n",
       "    }\n",
       "\n",
       "    .dataframe tbody tr th {\n",
       "        vertical-align: top;\n",
       "    }\n",
       "\n",
       "    .dataframe thead th {\n",
       "        text-align: right;\n",
       "    }\n",
       "</style>\n",
       "<table border=\"1\" class=\"dataframe\">\n",
       "  <thead>\n",
       "    <tr style=\"text-align: right;\">\n",
       "      <th></th>\n",
       "      <th>date</th>\n",
       "      <th>pred</th>\n",
       "    </tr>\n",
       "  </thead>\n",
       "  <tbody>\n",
       "    <tr>\n",
       "      <th>4</th>\n",
       "      <td>2024-05-31</td>\n",
       "      <td>15,725</td>\n",
       "    </tr>\n",
       "    <tr>\n",
       "      <th>5</th>\n",
       "      <td>2024-06-30</td>\n",
       "      <td>19,365</td>\n",
       "    </tr>\n",
       "    <tr>\n",
       "      <th>6</th>\n",
       "      <td>2024-07-31</td>\n",
       "      <td>16,243</td>\n",
       "    </tr>\n",
       "  </tbody>\n",
       "</table>\n",
       "</div>"
      ],
      "text/plain": [
       "        date   pred\n",
       "4 2024-05-31 15,725\n",
       "5 2024-06-30 19,365\n",
       "6 2024-07-31 16,243"
      ]
     },
     "execution_count": 22,
     "metadata": {},
     "output_type": "execute_result"
    }
   ],
   "source": [
    "modelo_ventas_elegido = get_mlflow_pred('mlflow-artifacts:/24b7234b0fc04727a39b4e7add015333/ec9b782d2ae54eb8bb039a9b6a968d6f/artifacts/predictions/TCN_Ventas_best_rmse.csv')\n",
    "modelo_ventas_elegido = modelo_ventas_elegido.loc[4:6, :].copy() #Se predicen los siguientes tres meses\n",
    "modelo_ventas_elegido['date'] = pd.to_datetime(modelo_ventas_elegido['date'], format= '%Y-%m-%d')\n",
    "modelo_ventas_elegido['pred'] = modelo_ventas_elegido['pred'].astype('float32')\n",
    "modelo_ventas_elegido"
   ]
  },
  {
   "cell_type": "code",
   "execution_count": 23,
   "id": "f6990884-7e6f-4e85-8a2e-e4cbb98f0d59",
   "metadata": {
    "scrolled": true
   },
<<<<<<< HEAD
   "outputs": [
    {
     "ename": "TypeError",
     "evalue": "prepare_push_dataset() got an unexpected keyword argument 'compras_df'",
     "output_type": "error",
     "traceback": [
      "\u001b[1;31m---------------------------------------------------------------------------\u001b[0m",
      "\u001b[1;31mTypeError\u001b[0m                                 Traceback (most recent call last)",
      "Cell \u001b[1;32mIn[23], line 1\u001b[0m\n\u001b[1;32m----> 1\u001b[0m a \u001b[38;5;241m=\u001b[39m \u001b[43mmaz\u001b[49m\u001b[38;5;241;43m.\u001b[39;49m\u001b[43mprepare_push_dataset\u001b[49m\u001b[43m(\u001b[49m\u001b[43mcompras_df\u001b[49m\u001b[43m \u001b[49m\u001b[38;5;241;43m=\u001b[39;49m\u001b[43m \u001b[49m\u001b[43mmodelo_compras_elegido\u001b[49m\u001b[43m,\u001b[49m\n\u001b[0;32m      2\u001b[0m \u001b[43m                          \u001b[49m\u001b[43mventas_df\u001b[49m\u001b[43m \u001b[49m\u001b[38;5;241;43m=\u001b[39;49m\u001b[43m \u001b[49m\u001b[43mmodelo_ventas_elegido\u001b[49m\u001b[43m)\u001b[49m\n\u001b[0;32m      4\u001b[0m a\n",
      "\u001b[1;31mTypeError\u001b[0m: prepare_push_dataset() got an unexpected keyword argument 'compras_df'"
     ]
    }
   ],
   "source": [
    "a = maz.prepare_push_dataset(modelo_compras_elegido,\n",
    "                          modelo_ventas_elegido)\n",
    "\n",
    "a"
=======
   "outputs": [],
   "source": [
    "final =maz.prepare_push_dataset(modelo_compras_elegido,\n",
    "                          modelo_ventas_elegido)"
   ]
  },
  {
   "cell_type": "code",
   "execution_count": 24,
   "id": "f20de30f-05ec-4467-8273-a014b6de46de",
   "metadata": {},
   "outputs": [
    {
     "data": {
      "text/html": [
       "<div>\n",
       "<style scoped>\n",
       "    .dataframe tbody tr th:only-of-type {\n",
       "        vertical-align: middle;\n",
       "    }\n",
       "\n",
       "    .dataframe tbody tr th {\n",
       "        vertical-align: top;\n",
       "    }\n",
       "\n",
       "    .dataframe thead th {\n",
       "        text-align: right;\n",
       "    }\n",
       "</style>\n",
       "<table border=\"1\" class=\"dataframe\">\n",
       "  <thead>\n",
       "    <tr style=\"text-align: right;\">\n",
       "      <th></th>\n",
       "      <th>ID</th>\n",
       "      <th>Fecha</th>\n",
       "      <th>Cuenta</th>\n",
       "      <th>NoCuenta</th>\n",
       "      <th>Debe</th>\n",
       "      <th>Haber</th>\n",
       "      <th>Entidad</th>\n",
       "      <th>Compras</th>\n",
       "      <th>Ventas</th>\n",
       "      <th>NoGrupo</th>\n",
       "      <th>type</th>\n",
       "    </tr>\n",
       "  </thead>\n",
       "  <tbody>\n",
       "    <tr>\n",
       "      <th>0</th>\n",
       "      <td>0</td>\n",
       "      <td>25/09/2017</td>\n",
       "      <td>Capital social</td>\n",
       "      <td>100</td>\n",
       "      <td>0</td>\n",
       "      <td>1,500</td>\n",
       "      <td>Allison Hill</td>\n",
       "      <td>0</td>\n",
       "      <td>0</td>\n",
       "      <td>100</td>\n",
       "      <td>Actual</td>\n",
       "    </tr>\n",
       "    <tr>\n",
       "      <th>1</th>\n",
       "      <td>1</td>\n",
       "      <td>25/09/2017</td>\n",
       "      <td>BBVA</td>\n",
       "      <td>572</td>\n",
       "      <td>1,500</td>\n",
       "      <td>0</td>\n",
       "      <td>Allison Hill</td>\n",
       "      <td>0</td>\n",
       "      <td>0</td>\n",
       "      <td>500</td>\n",
       "      <td>Actual</td>\n",
       "    </tr>\n",
       "    <tr>\n",
       "      <th>2</th>\n",
       "      <td>2</td>\n",
       "      <td>25/09/2017</td>\n",
       "      <td>Capital social</td>\n",
       "      <td>100</td>\n",
       "      <td>0</td>\n",
       "      <td>1,500</td>\n",
       "      <td>Noah Rhodes</td>\n",
       "      <td>0</td>\n",
       "      <td>0</td>\n",
       "      <td>100</td>\n",
       "      <td>Actual</td>\n",
       "    </tr>\n",
       "    <tr>\n",
       "      <th>3</th>\n",
       "      <td>3</td>\n",
       "      <td>25/09/2017</td>\n",
       "      <td>BBVA</td>\n",
       "      <td>572</td>\n",
       "      <td>1,500</td>\n",
       "      <td>0</td>\n",
       "      <td>Noah Rhodes</td>\n",
       "      <td>0</td>\n",
       "      <td>0</td>\n",
       "      <td>500</td>\n",
       "      <td>Actual</td>\n",
       "    </tr>\n",
       "    <tr>\n",
       "      <th>4</th>\n",
       "      <td>4</td>\n",
       "      <td>25/09/2017</td>\n",
       "      <td>Acreedores por prestaciones de servicios (euros)</td>\n",
       "      <td>410</td>\n",
       "      <td>0</td>\n",
       "      <td>223</td>\n",
       "      <td>Angie Henderson</td>\n",
       "      <td>0</td>\n",
       "      <td>0</td>\n",
       "      <td>400</td>\n",
       "      <td>Actual</td>\n",
       "    </tr>\n",
       "    <tr>\n",
       "      <th>...</th>\n",
       "      <td>...</td>\n",
       "      <td>...</td>\n",
       "      <td>...</td>\n",
       "      <td>...</td>\n",
       "      <td>...</td>\n",
       "      <td>...</td>\n",
       "      <td>...</td>\n",
       "      <td>...</td>\n",
       "      <td>...</td>\n",
       "      <td>...</td>\n",
       "      <td>...</td>\n",
       "    </tr>\n",
       "    <tr>\n",
       "      <th>39676</th>\n",
       "      <td>39676</td>\n",
       "      <td>31/05/2024</td>\n",
       "      <td>missing</td>\n",
       "      <td>missing</td>\n",
       "      <td>0</td>\n",
       "      <td>0</td>\n",
       "      <td>missing</td>\n",
       "      <td>0</td>\n",
       "      <td>15,725</td>\n",
       "      <td>missing</td>\n",
       "      <td>Predicted</td>\n",
       "    </tr>\n",
       "    <tr>\n",
       "      <th>39677</th>\n",
       "      <td>39677</td>\n",
       "      <td>30/06/2024</td>\n",
       "      <td>missing</td>\n",
       "      <td>missing</td>\n",
       "      <td>0</td>\n",
       "      <td>0</td>\n",
       "      <td>missing</td>\n",
       "      <td>11,782</td>\n",
       "      <td>0</td>\n",
       "      <td>missing</td>\n",
       "      <td>Predicted</td>\n",
       "    </tr>\n",
       "    <tr>\n",
       "      <th>39678</th>\n",
       "      <td>39678</td>\n",
       "      <td>30/06/2024</td>\n",
       "      <td>missing</td>\n",
       "      <td>missing</td>\n",
       "      <td>0</td>\n",
       "      <td>0</td>\n",
       "      <td>missing</td>\n",
       "      <td>0</td>\n",
       "      <td>19,365</td>\n",
       "      <td>missing</td>\n",
       "      <td>Predicted</td>\n",
       "    </tr>\n",
       "    <tr>\n",
       "      <th>39679</th>\n",
       "      <td>39679</td>\n",
       "      <td>31/07/2024</td>\n",
       "      <td>missing</td>\n",
       "      <td>missing</td>\n",
       "      <td>0</td>\n",
       "      <td>0</td>\n",
       "      <td>missing</td>\n",
       "      <td>25,396</td>\n",
       "      <td>0</td>\n",
       "      <td>missing</td>\n",
       "      <td>Predicted</td>\n",
       "    </tr>\n",
       "    <tr>\n",
       "      <th>39680</th>\n",
       "      <td>39680</td>\n",
       "      <td>31/07/2024</td>\n",
       "      <td>missing</td>\n",
       "      <td>missing</td>\n",
       "      <td>0</td>\n",
       "      <td>0</td>\n",
       "      <td>missing</td>\n",
       "      <td>0</td>\n",
       "      <td>16,243</td>\n",
       "      <td>missing</td>\n",
       "      <td>Predicted</td>\n",
       "    </tr>\n",
       "  </tbody>\n",
       "</table>\n",
       "<p>39681 rows × 11 columns</p>\n",
       "</div>"
      ],
      "text/plain": [
       "          ID       Fecha                                            Cuenta  \\\n",
       "0          0  25/09/2017                                    Capital social   \n",
       "1          1  25/09/2017                                              BBVA   \n",
       "2          2  25/09/2017                                    Capital social   \n",
       "3          3  25/09/2017                                              BBVA   \n",
       "4          4  25/09/2017  Acreedores por prestaciones de servicios (euros)   \n",
       "...      ...         ...                                               ...   \n",
       "39676  39676  31/05/2024                                           missing   \n",
       "39677  39677  30/06/2024                                           missing   \n",
       "39678  39678  30/06/2024                                           missing   \n",
       "39679  39679  31/07/2024                                           missing   \n",
       "39680  39680  31/07/2024                                           missing   \n",
       "\n",
       "      NoCuenta  Debe  Haber          Entidad  Compras  Ventas  NoGrupo  \\\n",
       "0          100     0  1,500     Allison Hill        0       0      100   \n",
       "1          572 1,500      0     Allison Hill        0       0      500   \n",
       "2          100     0  1,500      Noah Rhodes        0       0      100   \n",
       "3          572 1,500      0      Noah Rhodes        0       0      500   \n",
       "4          410     0    223  Angie Henderson        0       0      400   \n",
       "...        ...   ...    ...              ...      ...     ...      ...   \n",
       "39676  missing     0      0          missing        0  15,725  missing   \n",
       "39677  missing     0      0          missing   11,782       0  missing   \n",
       "39678  missing     0      0          missing        0  19,365  missing   \n",
       "39679  missing     0      0          missing   25,396       0  missing   \n",
       "39680  missing     0      0          missing        0  16,243  missing   \n",
       "\n",
       "            type  \n",
       "0         Actual  \n",
       "1         Actual  \n",
       "2         Actual  \n",
       "3         Actual  \n",
       "4         Actual  \n",
       "...          ...  \n",
       "39676  Predicted  \n",
       "39677  Predicted  \n",
       "39678  Predicted  \n",
       "39679  Predicted  \n",
       "39680  Predicted  \n",
       "\n",
       "[39681 rows x 11 columns]"
      ]
     },
     "execution_count": 24,
     "metadata": {},
     "output_type": "execute_result"
    }
   ],
   "source": [
    "final"
>>>>>>> 50d8c9448751c753e5f30f5c9f817ee176f28188
   ]
  },
  {
   "cell_type": "code",
<<<<<<< HEAD
   "execution_count": null,
   "id": "a2d8fe60-a3bb-45e0-ba8c-e315fdc11afd",
   "metadata": {},
   "outputs": [],
   "source": [
    "a.to_csv('pruebaa.csv')"
=======
   "execution_count": 25,
   "id": "74159674-6566-4ad7-aac2-a073c2e2a0e7",
   "metadata": {},
   "outputs": [],
   "source": [
    "maz.push_dataset()"
   ]
  },
  {
   "cell_type": "code",
   "execution_count": 26,
   "id": "8b0b0800-3f5f-4381-8c71-5b7b07cd0427",
   "metadata": {},
   "outputs": [
    {
     "data": {
      "text/plain": [
       "False"
      ]
     },
     "execution_count": 26,
     "metadata": {},
     "output_type": "execute_result"
    }
   ],
   "source": [
    "final['ID'].duplicated().any()"
   ]
  },
  {
   "cell_type": "code",
   "execution_count": 27,
   "id": "7bae2016-a9c2-4224-83fb-5715f36526a2",
   "metadata": {},
   "outputs": [
    {
     "data": {
      "text/plain": [
       "ID          False\n",
       "Fecha       False\n",
       "Cuenta      False\n",
       "NoCuenta    False\n",
       "Debe        False\n",
       "Haber       False\n",
       "Entidad     False\n",
       "Compras     False\n",
       "Ventas      False\n",
       "NoGrupo     False\n",
       "type        False\n",
       "dtype: bool"
      ]
     },
     "execution_count": 27,
     "metadata": {},
     "output_type": "execute_result"
    }
   ],
   "source": [
    "final.isna().any()"
>>>>>>> 50d8c9448751c753e5f30f5c9f817ee176f28188
   ]
  },
  {
   "cell_type": "code",
   "execution_count": null,
<<<<<<< HEAD
   "id": "6faed124-e2de-40f8-a22e-4bd809fda76d",
=======
   "id": "b75b138e-9d45-4142-9598-20b220256679",
>>>>>>> 50d8c9448751c753e5f30f5c9f817ee176f28188
   "metadata": {},
   "outputs": [],
   "source": []
  }
 ],
 "metadata": {
  "kernelspec": {
   "display_name": "Python 3 (ipykernel)",
   "language": "python",
   "name": "python3"
  },
  "language_info": {
   "codemirror_mode": {
    "name": "ipython",
    "version": 3
   },
   "file_extension": ".py",
   "mimetype": "text/x-python",
   "name": "python",
   "nbconvert_exporter": "python",
   "pygments_lexer": "ipython3",
   "version": "3.12.3"
  }
 },
 "nbformat": 4,
 "nbformat_minor": 5
}
