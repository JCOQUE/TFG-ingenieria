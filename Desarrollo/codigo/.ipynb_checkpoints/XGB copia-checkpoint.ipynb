{
 "cells": [
  {
   "cell_type": "code",
   "execution_count": 1,
   "id": "a9f881c7-3633-4f2a-a7f3-2ac990f656d8",
   "metadata": {},
   "outputs": [],
   "source": [
    "import xgboost as xgb\n",
    "import pandas as pd\n",
    "import numpy as np\n",
    "import matplotlib.pyplot as plt\n",
    "from sklearn.model_selection import TimeSeriesSplit, GridSearchCV\n",
    "from sklearn.metrics import mean_absolute_error as MAE\n",
    "from sklearn.metrics import mean_squared_error as MSE\n",
    "\n",
    "from tfg_module import my_get_time_series as mgts\n",
    "from tfg_module import my_metrics as mm\n",
    "from tfg_module import my_process_data as mpd\n",
    "from tfg_module import my_future as mf"
   ]
  },
  {
   "cell_type": "code",
   "execution_count": 4,
   "id": "d1d0e746-4f9e-4bbd-a363-cdb22374d979",
   "metadata": {},
   "outputs": [],
   "source": [
    "class MyXGBoost:\n",
    "\n",
    "    def __init__(self, target):\n",
    "        self.target = target\n",
    "        self.ts = None\n",
    "        self.metric = None\n",
    "\n",
    "    def prepare_data(self):\n",
    "        print('Preparing data...')\n",
    "        self.ts = mgts.get_ts(self.target)\n",
    "\n",
    "        X, y = mpd.create_features(self.ts, target = self.target, informer = False)\n",
    "\n",
    "        return X, y\n",
    "    \n",
    "    def create_model(self):\n",
    "        model_XGB = xgb.XGBRegressor()\n",
    "\n",
    "        return model_XGB\n",
    "    \n",
    "    def train(self, X, y):\n",
    "        print('Training...')\n",
    "        model = self.create_model()\n",
    "        cross_val_split = TimeSeriesSplit(n_splits=3, test_size=20)\n",
    "\n",
    "        params_grid = {'max_depth': [3,5,10],\n",
    "                        'n_estimators': [50, 500, 1000]\n",
    "                        }\n",
    "                            #  'tree_method':['exact', 'approx']\n",
    "                            # 'learning_rate': [0.1, 0.01],\n",
    "                            #     'n_estimators': [50, 500, 1000],\n",
    "                            #     'colsample_bytree': [0.3,  0.7],\n",
    "                            #     'max_depth': [3, 5, 10],\n",
    "                            #     'max_leaves': [1,2,3,4,5]\n",
    "        self.metrics = ['neg_mean_absolute_error', 'neg_mean_squared_error']\n",
    "        best_model = GridSearchCV(estimator = model, cv=cross_val_split, param_grid=params_grid, \n",
    "                                scoring = self.metrics,\n",
    "                                refit = 'neg_mean_absolute_error')\n",
    "        best_model.fit(X, y)\n",
    "\n",
    "        results = best_model.cv_results_\n",
    "        print('Training completed...')\n",
    "        \n",
    "        return results\n",
    "    \n",
    "    def save_results(self, X, y, results):\n",
    "        print('Saving results...')\n",
    "        models_by_metric = {}\n",
    "        for metric in self.metrics:\n",
    "            best_index = results[f'rank_test_{metric}'].argmin()\n",
    "            best_score = results[f'mean_test_{metric}'][best_index]*-1\n",
    "            best_params = results['params'][best_index]\n",
    "            best_model = xgb.XGBRegressor(**best_params)\n",
    "            best_model.fit(X,y)\n",
    "            models_by_metric[metric] = (best_model, best_score, best_params)\n",
    "\n",
    "        results_df = pd.DataFrame(models_by_metric)\n",
    "        results_df.rename(columns = {'neg_mean_absolute_error':'MAE', 'neg_mean_squared_error':'MSE'}, \n",
    "                                inplace = True)\n",
    "        \n",
    "        return results_df\n",
    "    \n",
    "\n",
    "    def showing_results(self, df, metric):\n",
    "        print('Showing results...')\n",
    "        metric = metric.upper()\n",
    "        best_model = df.loc[0,metric]\n",
    "        best_df = mf.get_pred_df(self.ts, best_model)\n",
    "        mf.show_pred(self.ts, best_df, metric)\n",
    "\n",
    "        # best_mse_model = best_lgbm_models_df.loc[0,'MSE']\n",
    "        # best_mse_df = mf.get_pred_df(ts, best_mse_model)\n",
    "        # mf.show_pred(ts, best_mse_df, 'mse')\n",
    "\n",
    "\n",
    "    def run(self):\n",
    "        X, y = self.prepare_data()\n",
    "        results = self.train(X, y)\n",
    "        results_df = self.save_results(X, y, results)\n",
    "        self.showing_results(results_df, 'MAE')\n",
    "        self.showing_results(results_df, 'MSE')"
   ]
  },
  {
   "cell_type": "code",
   "execution_count": 5,
   "id": "e6db2e31-2816-4673-bae3-cff0a481a6d5",
   "metadata": {},
   "outputs": [
    {
     "ename": "AttributeError",
     "evalue": "'MyXGBoost' object has no attribute 'showing'",
     "output_type": "error",
     "traceback": [
      "\u001b[1;31m---------------------------------------------------------------------------\u001b[0m",
      "\u001b[1;31mAttributeError\u001b[0m                            Traceback (most recent call last)",
      "Cell \u001b[1;32mIn[5], line 2\u001b[0m\n\u001b[0;32m      1\u001b[0m my_xgboost \u001b[38;5;241m=\u001b[39m MyXGBoost(target \u001b[38;5;241m=\u001b[39m \u001b[38;5;124m'\u001b[39m\u001b[38;5;124mVentas\u001b[39m\u001b[38;5;124m'\u001b[39m)\n\u001b[1;32m----> 2\u001b[0m \u001b[43mmy_xgboost\u001b[49m\u001b[38;5;241;43m.\u001b[39;49m\u001b[43mrun\u001b[49m\u001b[43m(\u001b[49m\u001b[43m)\u001b[49m\n",
      "Cell \u001b[1;32mIn[4], line 76\u001b[0m, in \u001b[0;36mMyXGBoost.run\u001b[1;34m(self)\u001b[0m\n\u001b[0;32m     74\u001b[0m results \u001b[38;5;241m=\u001b[39m \u001b[38;5;28mself\u001b[39m\u001b[38;5;241m.\u001b[39mtrain(X, y)\n\u001b[0;32m     75\u001b[0m results_df \u001b[38;5;241m=\u001b[39m \u001b[38;5;28mself\u001b[39m\u001b[38;5;241m.\u001b[39msave_results(X, y, results)\n\u001b[1;32m---> 76\u001b[0m \u001b[38;5;28;43mself\u001b[39;49m\u001b[38;5;241;43m.\u001b[39;49m\u001b[43mshowing\u001b[49m(results_df)\n",
      "\u001b[1;31mAttributeError\u001b[0m: 'MyXGBoost' object has no attribute 'showing'"
     ]
    }
   ],
   "source": [
    "my_xgboost = MyXGBoost(target = 'Ventas')\n",
    "my_xgboost.run()"
   ]
  },
  {
   "cell_type": "code",
   "execution_count": null,
   "id": "dc52c6df-7a20-43d4-9a9f-85fe04bed63b",
   "metadata": {},
   "outputs": [],
   "source": []
  }
 ],
 "metadata": {
  "kernelspec": {
   "display_name": "Python 3 (ipykernel)",
   "language": "python",
   "name": "python3"
  },
  "language_info": {
   "codemirror_mode": {
    "name": "ipython",
    "version": 3
   },
   "file_extension": ".py",
   "mimetype": "text/x-python",
   "name": "python",
   "nbconvert_exporter": "python",
   "pygments_lexer": "ipython3",
   "version": "3.12.3"
  }
 },
 "nbformat": 4,
 "nbformat_minor": 5
}
