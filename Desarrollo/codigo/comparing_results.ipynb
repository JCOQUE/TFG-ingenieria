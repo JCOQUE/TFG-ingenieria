{
 "cells": [
  {
   "cell_type": "code",
   "execution_count": 1,
   "id": "e6853030-e6c4-4e53-8f26-712366fa1be4",
   "metadata": {},
   "outputs": [],
   "source": [
    "import pandas as pd\n",
    "import mlflow\n",
    "import dagshub\n",
    "%matplotlib inline\n",
    "import matplotlib.pyplot as plt\n",
    "\n",
    "from tfg_module import my_get_time_series as mgts\n",
    "from tfg_module import my_azure as maz"
   ]
  },
  {
   "cell_type": "code",
   "execution_count": 2,
   "id": "9eb2a137-4769-40a7-b2cb-df54265f2f17",
   "metadata": {},
   "outputs": [
    {
     "data": {
      "text/html": [
       "<pre style=\"white-space:pre;overflow-x:auto;line-height:normal;font-family:Menlo,'DejaVu Sans Mono',consolas,'Courier New',monospace\">Initialized MLflow to track repo <span style=\"color: #008000; text-decoration-color: #008000\">\"JCOQUE/TFG-ingenieria\"</span>\n",
       "</pre>\n"
      ],
      "text/plain": [
       "Initialized MLflow to track repo \u001b[32m\"JCOQUE/TFG-ingenieria\"\u001b[0m\n"
      ]
     },
     "metadata": {},
     "output_type": "display_data"
    },
    {
     "data": {
      "text/html": [
       "<pre style=\"white-space:pre;overflow-x:auto;line-height:normal;font-family:Menlo,'DejaVu Sans Mono',consolas,'Courier New',monospace\">Repository JCOQUE/TFG-ingenieria initialized!\n",
       "</pre>\n"
      ],
      "text/plain": [
       "Repository JCOQUE/TFG-ingenieria initialized!\n"
      ]
     },
     "metadata": {},
     "output_type": "display_data"
    }
   ],
   "source": [
    "dagshub.init(repo_owner='JCOQUE', repo_name='TFG-ingenieria', mlflow=True) \n",
    "mlflow.set_tracking_uri('https://dagshub.com/JCOQUE/TFG-ingenieria.mlflow')"
   ]
  },
  {
   "cell_type": "code",
   "execution_count": 3,
   "id": "c7cafa45-0b15-47db-b4c7-7ee92b63fd8c",
   "metadata": {},
   "outputs": [],
   "source": [
    "def get_mlflow_pred(url):\n",
    "    mlflow_pred_csv = mlflow.artifacts.download_artifacts(url)\n",
    "    mlflow_pred = pd.read_csv(mlflow_pred_csv)\n",
    "    mlflow_pred.drop(columns = ['Unnamed: 0'], inplace = True)\n",
    "    return  mlflow_pred"
   ]
  },
  {
   "cell_type": "code",
   "execution_count": 4,
   "id": "43af5f7d-e0d0-48a2-b929-33618102163b",
   "metadata": {},
   "outputs": [],
   "source": [
    "def transform_dataset(dataset):\n",
    "    dataset = dataset.loc[0:3, :].copy() # only getting the first 4 months, i.e. test size\n",
    "    dataset['date'] = pd.to_datetime(dataset['date'], format= '%Y-%m-%d')\n",
    "    dataset['pred'] = dataset['pred'].astype('float32')\n",
    "    return  dataset"
   ]
  },
  {
   "cell_type": "markdown",
   "id": "65fa33fb-c324-4ff7-966c-93de5527e54e",
   "metadata": {},
   "source": [
    "## Compras"
   ]
  },
  {
   "cell_type": "code",
   "execution_count": 5,
   "id": "7bc98a65-7cba-4f7c-be30-16400c2728ee",
   "metadata": {},
   "outputs": [
    {
     "data": {
      "text/html": [
       "<div>\n",
       "<style scoped>\n",
       "    .dataframe tbody tr th:only-of-type {\n",
       "        vertical-align: middle;\n",
       "    }\n",
       "\n",
       "    .dataframe tbody tr th {\n",
       "        vertical-align: top;\n",
       "    }\n",
       "\n",
       "    .dataframe thead th {\n",
       "        text-align: right;\n",
       "    }\n",
       "</style>\n",
       "<table border=\"1\" class=\"dataframe\">\n",
       "  <thead>\n",
       "    <tr style=\"text-align: right;\">\n",
       "      <th></th>\n",
       "      <th>date</th>\n",
       "      <th>Compras</th>\n",
       "    </tr>\n",
       "  </thead>\n",
       "  <tbody>\n",
       "    <tr>\n",
       "      <th>0</th>\n",
       "      <td>2017-09-30</td>\n",
       "      <td>6,865</td>\n",
       "    </tr>\n",
       "    <tr>\n",
       "      <th>1</th>\n",
       "      <td>2017-10-31</td>\n",
       "      <td>5,452</td>\n",
       "    </tr>\n",
       "    <tr>\n",
       "      <th>2</th>\n",
       "      <td>2017-11-30</td>\n",
       "      <td>4,399</td>\n",
       "    </tr>\n",
       "    <tr>\n",
       "      <th>3</th>\n",
       "      <td>2017-12-31</td>\n",
       "      <td>37,490</td>\n",
       "    </tr>\n",
       "    <tr>\n",
       "      <th>4</th>\n",
       "      <td>2018-01-31</td>\n",
       "      <td>4,486</td>\n",
       "    </tr>\n",
       "    <tr>\n",
       "      <th>...</th>\n",
       "      <td>...</td>\n",
       "      <td>...</td>\n",
       "    </tr>\n",
       "    <tr>\n",
       "      <th>72</th>\n",
       "      <td>2023-09-30</td>\n",
       "      <td>7,394</td>\n",
       "    </tr>\n",
       "    <tr>\n",
       "      <th>73</th>\n",
       "      <td>2023-10-31</td>\n",
       "      <td>28,417</td>\n",
       "    </tr>\n",
       "    <tr>\n",
       "      <th>74</th>\n",
       "      <td>2023-11-30</td>\n",
       "      <td>14,432</td>\n",
       "    </tr>\n",
       "    <tr>\n",
       "      <th>75</th>\n",
       "      <td>2023-12-31</td>\n",
       "      <td>27,198</td>\n",
       "    </tr>\n",
       "    <tr>\n",
       "      <th>76</th>\n",
       "      <td>2024-01-31</td>\n",
       "      <td>1,587</td>\n",
       "    </tr>\n",
       "  </tbody>\n",
       "</table>\n",
       "<p>77 rows × 2 columns</p>\n",
       "</div>"
      ],
      "text/plain": [
       "         date  Compras\n",
       "0  2017-09-30    6,865\n",
       "1  2017-10-31    5,452\n",
       "2  2017-11-30    4,399\n",
       "3  2017-12-31   37,490\n",
       "4  2018-01-31    4,486\n",
       "..        ...      ...\n",
       "72 2023-09-30    7,394\n",
       "73 2023-10-31   28,417\n",
       "74 2023-11-30   14,432\n",
       "75 2023-12-31   27,198\n",
       "76 2024-01-31    1,587\n",
       "\n",
       "[77 rows x 2 columns]"
      ]
     },
     "execution_count": 5,
     "metadata": {},
     "output_type": "execute_result"
    }
   ],
   "source": [
    "train_ts_compras = mgts.get_ts('Compras', type = 'train')\n",
    "train_ts_compras"
   ]
  },
  {
   "cell_type": "code",
   "execution_count": 6,
   "id": "d80d40c2-a02f-4b49-adcc-ead8906eb384",
   "metadata": {},
   "outputs": [
    {
     "data": {
      "text/html": [
       "<div>\n",
       "<style scoped>\n",
       "    .dataframe tbody tr th:only-of-type {\n",
       "        vertical-align: middle;\n",
       "    }\n",
       "\n",
       "    .dataframe tbody tr th {\n",
       "        vertical-align: top;\n",
       "    }\n",
       "\n",
       "    .dataframe thead th {\n",
       "        text-align: right;\n",
       "    }\n",
       "</style>\n",
       "<table border=\"1\" class=\"dataframe\">\n",
       "  <thead>\n",
       "    <tr style=\"text-align: right;\">\n",
       "      <th></th>\n",
       "      <th>date</th>\n",
       "      <th>Compras</th>\n",
       "    </tr>\n",
       "  </thead>\n",
       "  <tbody>\n",
       "    <tr>\n",
       "      <th>0</th>\n",
       "      <td>2024-01-31</td>\n",
       "      <td>NaN</td>\n",
       "    </tr>\n",
       "    <tr>\n",
       "      <th>1</th>\n",
       "      <td>2024-02-29</td>\n",
       "      <td>10,422</td>\n",
       "    </tr>\n",
       "    <tr>\n",
       "      <th>2</th>\n",
       "      <td>2024-03-31</td>\n",
       "      <td>17,173</td>\n",
       "    </tr>\n",
       "    <tr>\n",
       "      <th>3</th>\n",
       "      <td>2024-04-30</td>\n",
       "      <td>27,871</td>\n",
       "    </tr>\n",
       "  </tbody>\n",
       "</table>\n",
       "</div>"
      ],
      "text/plain": [
       "        date  Compras\n",
       "0 2024-01-31      NaN\n",
       "1 2024-02-29   10,422\n",
       "2 2024-03-31   17,173\n",
       "3 2024-04-30   27,871"
      ]
     },
     "execution_count": 6,
     "metadata": {},
     "output_type": "execute_result"
    }
   ],
   "source": [
    "test_ts_compras = mgts.get_ts('Compras', type = 'test')\n",
    "test_ts_compras"
   ]
  },
  {
   "cell_type": "code",
   "execution_count": 7,
   "id": "9f73768a-4c75-4b40-bf43-dc79975a0bd0",
   "metadata": {},
   "outputs": [
    {
     "data": {
      "application/vnd.jupyter.widget-view+json": {
       "model_id": "5602a881a17249acb11e4efb8ebdc808",
       "version_major": 2,
       "version_minor": 0
      },
      "text/plain": [
       "Downloading artifacts:   0%|          | 0/1 [00:00<?, ?it/s]"
      ]
     },
     "metadata": {},
     "output_type": "display_data"
    },
    {
     "data": {
      "text/html": [
       "<div>\n",
       "<style scoped>\n",
       "    .dataframe tbody tr th:only-of-type {\n",
       "        vertical-align: middle;\n",
       "    }\n",
       "\n",
       "    .dataframe tbody tr th {\n",
       "        vertical-align: top;\n",
       "    }\n",
       "\n",
       "    .dataframe thead th {\n",
       "        text-align: right;\n",
       "    }\n",
       "</style>\n",
       "<table border=\"1\" class=\"dataframe\">\n",
       "  <thead>\n",
       "    <tr style=\"text-align: right;\">\n",
       "      <th></th>\n",
       "      <th>date</th>\n",
       "      <th>pred</th>\n",
       "    </tr>\n",
       "  </thead>\n",
       "  <tbody>\n",
       "    <tr>\n",
       "      <th>0</th>\n",
       "      <td>2024-01-31</td>\n",
       "      <td>1,587</td>\n",
       "    </tr>\n",
       "    <tr>\n",
       "      <th>1</th>\n",
       "      <td>2024-02-29</td>\n",
       "      <td>12,023</td>\n",
       "    </tr>\n",
       "    <tr>\n",
       "      <th>2</th>\n",
       "      <td>2024-03-31</td>\n",
       "      <td>16,240</td>\n",
       "    </tr>\n",
       "    <tr>\n",
       "      <th>3</th>\n",
       "      <td>2024-04-30</td>\n",
       "      <td>26,604</td>\n",
       "    </tr>\n",
       "  </tbody>\n",
       "</table>\n",
       "</div>"
      ],
      "text/plain": [
       "        date   pred\n",
       "0 2024-01-31  1,587\n",
       "1 2024-02-29 12,023\n",
       "2 2024-03-31 16,240\n",
       "3 2024-04-30 26,604"
      ]
     },
     "execution_count": 7,
     "metadata": {},
     "output_type": "execute_result"
    }
   ],
   "source": [
    "TCN_compras_mae = get_mlflow_pred('mlflow-artifacts:/e4812a076abd4294b4e238dc8106ce47/e978fe53b87548658cbf5fc242b00747/artifacts/predictions/TCN_Compras_best_mae.csv')\n",
    "TCN_compras_mae = transform_dataset(TCN_compras_mae)\n",
    "TCN_compras_mae"
   ]
  },
  {
   "cell_type": "code",
   "execution_count": 8,
   "id": "bbe643e9-1585-460f-b744-8ef6b4568bf5",
   "metadata": {},
   "outputs": [
    {
     "data": {
      "application/vnd.jupyter.widget-view+json": {
       "model_id": "959533a025784859a41893928cce4cb3",
       "version_major": 2,
       "version_minor": 0
      },
      "text/plain": [
       "Downloading artifacts:   0%|          | 0/1 [00:00<?, ?it/s]"
      ]
     },
     "metadata": {},
     "output_type": "display_data"
    },
    {
     "data": {
      "text/html": [
       "<div>\n",
       "<style scoped>\n",
       "    .dataframe tbody tr th:only-of-type {\n",
       "        vertical-align: middle;\n",
       "    }\n",
       "\n",
       "    .dataframe tbody tr th {\n",
       "        vertical-align: top;\n",
       "    }\n",
       "\n",
       "    .dataframe thead th {\n",
       "        text-align: right;\n",
       "    }\n",
       "</style>\n",
       "<table border=\"1\" class=\"dataframe\">\n",
       "  <thead>\n",
       "    <tr style=\"text-align: right;\">\n",
       "      <th></th>\n",
       "      <th>date</th>\n",
       "      <th>pred</th>\n",
       "    </tr>\n",
       "  </thead>\n",
       "  <tbody>\n",
       "    <tr>\n",
       "      <th>0</th>\n",
       "      <td>2024-01-31</td>\n",
       "      <td>1,587</td>\n",
       "    </tr>\n",
       "    <tr>\n",
       "      <th>1</th>\n",
       "      <td>2024-02-29</td>\n",
       "      <td>19,001</td>\n",
       "    </tr>\n",
       "    <tr>\n",
       "      <th>2</th>\n",
       "      <td>2024-03-31</td>\n",
       "      <td>24,586</td>\n",
       "    </tr>\n",
       "    <tr>\n",
       "      <th>3</th>\n",
       "      <td>2024-04-30</td>\n",
       "      <td>21,909</td>\n",
       "    </tr>\n",
       "  </tbody>\n",
       "</table>\n",
       "</div>"
      ],
      "text/plain": [
       "        date   pred\n",
       "0 2024-01-31  1,587\n",
       "1 2024-02-29 19,001\n",
       "2 2024-03-31 24,586\n",
       "3 2024-04-30 21,909"
      ]
     },
     "execution_count": 8,
     "metadata": {},
     "output_type": "execute_result"
    }
   ],
   "source": [
    "TCN_compras_rmse = get_mlflow_pred('mlflow-artifacts:/e4812a076abd4294b4e238dc8106ce47/887cb4a08b9145f18900dfbd01ff75f4/artifacts/predictions/TCN_Compras_best_rmse.csv')\n",
    "TCN_compras_rmse = transform_dataset(TCN_compras_rmse)\n",
    "TCN_compras_rmse"
   ]
  },
  {
   "cell_type": "code",
   "execution_count": 9,
   "id": "468329d3-ea1b-4471-987f-e661e5d256e4",
   "metadata": {},
   "outputs": [
    {
     "data": {
      "application/vnd.jupyter.widget-view+json": {
       "model_id": "9ed85cbe47d544cdb2a81db2c6f6dedd",
       "version_major": 2,
       "version_minor": 0
      },
      "text/plain": [
       "Downloading artifacts:   0%|          | 0/1 [00:00<?, ?it/s]"
      ]
     },
     "metadata": {},
     "output_type": "display_data"
    },
    {
     "data": {
      "text/html": [
       "<div>\n",
       "<style scoped>\n",
       "    .dataframe tbody tr th:only-of-type {\n",
       "        vertical-align: middle;\n",
       "    }\n",
       "\n",
       "    .dataframe tbody tr th {\n",
       "        vertical-align: top;\n",
       "    }\n",
       "\n",
       "    .dataframe thead th {\n",
       "        text-align: right;\n",
       "    }\n",
       "</style>\n",
       "<table border=\"1\" class=\"dataframe\">\n",
       "  <thead>\n",
       "    <tr style=\"text-align: right;\">\n",
       "      <th></th>\n",
       "      <th>date</th>\n",
       "      <th>pred</th>\n",
       "    </tr>\n",
       "  </thead>\n",
       "  <tbody>\n",
       "    <tr>\n",
       "      <th>0</th>\n",
       "      <td>2024-01-31</td>\n",
       "      <td>1,587</td>\n",
       "    </tr>\n",
       "    <tr>\n",
       "      <th>1</th>\n",
       "      <td>2024-02-29</td>\n",
       "      <td>13,879</td>\n",
       "    </tr>\n",
       "    <tr>\n",
       "      <th>2</th>\n",
       "      <td>2024-03-31</td>\n",
       "      <td>12,818</td>\n",
       "    </tr>\n",
       "    <tr>\n",
       "      <th>3</th>\n",
       "      <td>2024-04-30</td>\n",
       "      <td>15,612</td>\n",
       "    </tr>\n",
       "  </tbody>\n",
       "</table>\n",
       "</div>"
      ],
      "text/plain": [
       "        date   pred\n",
       "0 2024-01-31  1,587\n",
       "1 2024-02-29 13,879\n",
       "2 2024-03-31 12,818\n",
       "3 2024-04-30 15,612"
      ]
     },
     "execution_count": 9,
     "metadata": {},
     "output_type": "execute_result"
    }
   ],
   "source": [
    "lgbm_compras_mae = get_mlflow_pred('mlflow-artifacts:/25707a52310b4902beafe11b4d03a4e7/045d689e9c034f43a0484c63bcdea891/artifacts/predictions/LightGBM_Compras_best_mae.csv')\n",
    "lgbm_compras_mae = transform_dataset(lgbm_compras_mae)\n",
    "lgbm_compras_mae"
   ]
  },
  {
   "cell_type": "code",
   "execution_count": 10,
   "id": "57d20d96-68ca-4bd2-9904-1a69e19c970d",
   "metadata": {},
   "outputs": [
    {
     "data": {
      "application/vnd.jupyter.widget-view+json": {
       "model_id": "68fda8cf9da64f4aa44d9076e370939d",
       "version_major": 2,
       "version_minor": 0
      },
      "text/plain": [
       "Downloading artifacts:   0%|          | 0/1 [00:00<?, ?it/s]"
      ]
     },
     "metadata": {},
     "output_type": "display_data"
    },
    {
     "data": {
      "text/html": [
       "<div>\n",
       "<style scoped>\n",
       "    .dataframe tbody tr th:only-of-type {\n",
       "        vertical-align: middle;\n",
       "    }\n",
       "\n",
       "    .dataframe tbody tr th {\n",
       "        vertical-align: top;\n",
       "    }\n",
       "\n",
       "    .dataframe thead th {\n",
       "        text-align: right;\n",
       "    }\n",
       "</style>\n",
       "<table border=\"1\" class=\"dataframe\">\n",
       "  <thead>\n",
       "    <tr style=\"text-align: right;\">\n",
       "      <th></th>\n",
       "      <th>date</th>\n",
       "      <th>pred</th>\n",
       "    </tr>\n",
       "  </thead>\n",
       "  <tbody>\n",
       "    <tr>\n",
       "      <th>0</th>\n",
       "      <td>2024-01-31</td>\n",
       "      <td>1,587</td>\n",
       "    </tr>\n",
       "    <tr>\n",
       "      <th>1</th>\n",
       "      <td>2024-02-29</td>\n",
       "      <td>10,887</td>\n",
       "    </tr>\n",
       "    <tr>\n",
       "      <th>2</th>\n",
       "      <td>2024-03-31</td>\n",
       "      <td>14,408</td>\n",
       "    </tr>\n",
       "    <tr>\n",
       "      <th>3</th>\n",
       "      <td>2024-04-30</td>\n",
       "      <td>10,880</td>\n",
       "    </tr>\n",
       "  </tbody>\n",
       "</table>\n",
       "</div>"
      ],
      "text/plain": [
       "        date   pred\n",
       "0 2024-01-31  1,587\n",
       "1 2024-02-29 10,887\n",
       "2 2024-03-31 14,408\n",
       "3 2024-04-30 10,880"
      ]
     },
     "execution_count": 10,
     "metadata": {},
     "output_type": "execute_result"
    }
   ],
   "source": [
    "lgbm_compras_rmse = get_mlflow_pred('mlflow-artifacts:/25707a52310b4902beafe11b4d03a4e7/2df46cf7db164a6290a48344612caa47/artifacts/predictions/LightGBM_Compras_best_rmse.csv')\n",
    "lgbm_compras_rmse = transform_dataset(lgbm_compras_rmse)\n",
    "lgbm_compras_rmse"
   ]
  },
  {
   "cell_type": "code",
   "execution_count": 11,
   "id": "50c887b7-1d7d-4170-8751-a6f186138f8c",
   "metadata": {},
   "outputs": [
    {
     "data": {
      "image/png": "[encoded data removed]",
      "text/plain": [
       "<Figure size 1500x1000 with 4 Axes>"
      ]
     },
     "metadata": {},
     "output_type": "display_data"
    }
   ],
   "source": [
    "plt.close() # since  in the my_future.py I have the next line: matplotlib.use('Agg'), I need to ensrue plt is empty before plotting\n",
    "fig, ax = plt.subplots(2,2, figsize = (15,10))\n",
    "\n",
    "ax[0,0].plot(train_ts_compras['date'], train_ts_compras['Compras'], color = 'blue')\n",
    "ax[0,0].plot(test_ts_compras['date'], test_ts_compras['Compras'], color = 'green')\n",
    "ax[0,0].plot(TCN_compras_mae['date'], TCN_compras_mae['pred'], color = 'orange')\n",
    "ax[0,0].set_title('TCN MAE')\n",
    "\n",
    "ax[0,1].plot(train_ts_compras['date'], train_ts_compras['Compras'], color = 'blue')\n",
    "ax[0,1].plot(test_ts_compras['date'], test_ts_compras['Compras'], color = 'green')\n",
    "ax[0,1].plot(TCN_compras_mae['date'], TCN_compras_mae['pred'], color = 'orange')\n",
    "ax[0,1].set_title('TCN RMSE')\n",
    "\n",
    "ax[1,0].plot(train_ts_compras['date'], train_ts_compras['Compras'], color = 'blue')\n",
    "ax[1,0].plot(test_ts_compras['date'], test_ts_compras['Compras'], color = 'green')\n",
    "ax[1,0].plot(lgbm_compras_mae['date'], lgbm_compras_mae['pred'], color = 'orange')\n",
    "ax[1,0].set_title('LGBM MAE')\n",
    "\n",
    "ax[1,1].plot(train_ts_compras['date'], train_ts_compras['Compras'], color = 'blue')\n",
    "ax[1,1].plot(test_ts_compras['date'], test_ts_compras['Compras'], color = 'green')\n",
    "ax[1,1].plot(lgbm_compras_rmse['date'], lgbm_compras_rmse['pred'], color = 'orange')\n",
    "ax[1,1].set_title('LGBM RMSE')\n",
    "\n",
    "plt.suptitle('COMPRAS')\n",
    "\n",
    "plt.show()"
   ]
  },
  {
   "cell_type": "code",
   "execution_count": 12,
   "id": "cdf38805-4896-4190-b90d-33bef32d6264",
   "metadata": {},
   "outputs": [],
   "source": [
    "# bla bla"
   ]
  },
  {
   "cell_type": "code",
   "execution_count": 13,
   "id": "58454784-891c-42b4-a464-ef580420e8d7",
   "metadata": {},
   "outputs": [
    {
     "data": {
      "application/vnd.jupyter.widget-view+json": {
       "model_id": "39b68e0b79d2480caa489c9a9946974e",
       "version_major": 2,
       "version_minor": 0
      },
      "text/plain": [
       "Downloading artifacts:   0%|          | 0/1 [00:00<?, ?it/s]"
      ]
     },
     "metadata": {},
     "output_type": "display_data"
    },
    {
     "data": {
      "text/html": [
       "<div>\n",
       "<style scoped>\n",
       "    .dataframe tbody tr th:only-of-type {\n",
       "        vertical-align: middle;\n",
       "    }\n",
       "\n",
       "    .dataframe tbody tr th {\n",
       "        vertical-align: top;\n",
       "    }\n",
       "\n",
       "    .dataframe thead th {\n",
       "        text-align: right;\n",
       "    }\n",
       "</style>\n",
       "<table border=\"1\" class=\"dataframe\">\n",
       "  <thead>\n",
       "    <tr style=\"text-align: right;\">\n",
       "      <th></th>\n",
       "      <th>date</th>\n",
       "      <th>pred</th>\n",
       "    </tr>\n",
       "  </thead>\n",
       "  <tbody>\n",
       "    <tr>\n",
       "      <th>4</th>\n",
       "      <td>2024-05-31</td>\n",
       "      <td>12,784</td>\n",
       "    </tr>\n",
       "    <tr>\n",
       "      <th>5</th>\n",
       "      <td>2024-06-30</td>\n",
       "      <td>11,782</td>\n",
       "    </tr>\n",
       "    <tr>\n",
       "      <th>6</th>\n",
       "      <td>2024-07-31</td>\n",
       "      <td>25,396</td>\n",
       "    </tr>\n",
       "  </tbody>\n",
       "</table>\n",
       "</div>"
      ],
      "text/plain": [
       "        date   pred\n",
       "4 2024-05-31 12,784\n",
       "5 2024-06-30 11,782\n",
       "6 2024-07-31 25,396"
      ]
     },
     "execution_count": 13,
     "metadata": {},
     "output_type": "execute_result"
    }
   ],
   "source": [
    "modelo_compras_elegido = get_mlflow_pred('mlflow-artifacts:/25707a52310b4902beafe11b4d03a4e7/045d689e9c034f43a0484c63bcdea891/artifacts/predictions/LightGBM_Compras_best_mae.csv')\n",
    "modelo_compras_elegido = modelo_compras_elegido.loc[4:6, :].copy() #Se predicen los siguientes tres meses\n",
    "modelo_compras_elegido['date'] = pd.to_datetime(modelo_compras_elegido['date'], format= '%Y-%m-%d')\n",
    "modelo_compras_elegido['pred'] = modelo_compras_elegido['pred'].astype('float32')\n",
    "modelo_compras_elegido"
   ]
  },
  {
   "cell_type": "markdown",
   "id": "c03144e6-93e5-4903-b63f-7c5ed4a5fb0a",
   "metadata": {},
   "source": [
    "## Ventas"
   ]
  },
  {
   "cell_type": "code",
   "execution_count": 14,
   "id": "1dbd043c-a035-46d9-8675-a5738bad63fa",
   "metadata": {},
   "outputs": [
    {
     "data": {
      "text/html": [
       "<div>\n",
       "<style scoped>\n",
       "    .dataframe tbody tr th:only-of-type {\n",
       "        vertical-align: middle;\n",
       "    }\n",
       "\n",
       "    .dataframe tbody tr th {\n",
       "        vertical-align: top;\n",
       "    }\n",
       "\n",
       "    .dataframe thead th {\n",
       "        text-align: right;\n",
       "    }\n",
       "</style>\n",
       "<table border=\"1\" class=\"dataframe\">\n",
       "  <thead>\n",
       "    <tr style=\"text-align: right;\">\n",
       "      <th></th>\n",
       "      <th>date</th>\n",
       "      <th>Ventas</th>\n",
       "    </tr>\n",
       "  </thead>\n",
       "  <tbody>\n",
       "    <tr>\n",
       "      <th>0</th>\n",
       "      <td>2017-09-30</td>\n",
       "      <td>5,783</td>\n",
       "    </tr>\n",
       "    <tr>\n",
       "      <th>1</th>\n",
       "      <td>2017-10-31</td>\n",
       "      <td>20,854</td>\n",
       "    </tr>\n",
       "    <tr>\n",
       "      <th>2</th>\n",
       "      <td>2017-11-30</td>\n",
       "      <td>14,191</td>\n",
       "    </tr>\n",
       "    <tr>\n",
       "      <th>3</th>\n",
       "      <td>2017-12-31</td>\n",
       "      <td>7,595</td>\n",
       "    </tr>\n",
       "    <tr>\n",
       "      <th>4</th>\n",
       "      <td>2018-01-31</td>\n",
       "      <td>12,358</td>\n",
       "    </tr>\n",
       "    <tr>\n",
       "      <th>...</th>\n",
       "      <td>...</td>\n",
       "      <td>...</td>\n",
       "    </tr>\n",
       "    <tr>\n",
       "      <th>72</th>\n",
       "      <td>2023-09-30</td>\n",
       "      <td>16,520</td>\n",
       "    </tr>\n",
       "    <tr>\n",
       "      <th>73</th>\n",
       "      <td>2023-10-31</td>\n",
       "      <td>17,195</td>\n",
       "    </tr>\n",
       "    <tr>\n",
       "      <th>74</th>\n",
       "      <td>2023-11-30</td>\n",
       "      <td>13,819</td>\n",
       "    </tr>\n",
       "    <tr>\n",
       "      <th>75</th>\n",
       "      <td>2023-12-31</td>\n",
       "      <td>21,319</td>\n",
       "    </tr>\n",
       "    <tr>\n",
       "      <th>76</th>\n",
       "      <td>2024-01-31</td>\n",
       "      <td>15,795</td>\n",
       "    </tr>\n",
       "  </tbody>\n",
       "</table>\n",
       "<p>77 rows × 2 columns</p>\n",
       "</div>"
      ],
      "text/plain": [
       "         date  Ventas\n",
       "0  2017-09-30   5,783\n",
       "1  2017-10-31  20,854\n",
       "2  2017-11-30  14,191\n",
       "3  2017-12-31   7,595\n",
       "4  2018-01-31  12,358\n",
       "..        ...     ...\n",
       "72 2023-09-30  16,520\n",
       "73 2023-10-31  17,195\n",
       "74 2023-11-30  13,819\n",
       "75 2023-12-31  21,319\n",
       "76 2024-01-31  15,795\n",
       "\n",
       "[77 rows x 2 columns]"
      ]
     },
     "execution_count": 14,
     "metadata": {},
     "output_type": "execute_result"
    }
   ],
   "source": [
    "train_ts_ventas = mgts.get_ts('Ventas', type = 'train')\n",
    "train_ts_ventas"
   ]
  },
  {
   "cell_type": "code",
   "execution_count": 15,
   "id": "6f393169-76ad-4daf-87ac-873041ed61cf",
   "metadata": {},
   "outputs": [
    {
     "data": {
      "text/html": [
       "<div>\n",
       "<style scoped>\n",
       "    .dataframe tbody tr th:only-of-type {\n",
       "        vertical-align: middle;\n",
       "    }\n",
       "\n",
       "    .dataframe tbody tr th {\n",
       "        vertical-align: top;\n",
       "    }\n",
       "\n",
       "    .dataframe thead th {\n",
       "        text-align: right;\n",
       "    }\n",
       "</style>\n",
       "<table border=\"1\" class=\"dataframe\">\n",
       "  <thead>\n",
       "    <tr style=\"text-align: right;\">\n",
       "      <th></th>\n",
       "      <th>date</th>\n",
       "      <th>Ventas</th>\n",
       "    </tr>\n",
       "  </thead>\n",
       "  <tbody>\n",
       "    <tr>\n",
       "      <th>0</th>\n",
       "      <td>2024-01-31</td>\n",
       "      <td>26,512</td>\n",
       "    </tr>\n",
       "    <tr>\n",
       "      <th>1</th>\n",
       "      <td>2024-02-29</td>\n",
       "      <td>22,967</td>\n",
       "    </tr>\n",
       "    <tr>\n",
       "      <th>2</th>\n",
       "      <td>2024-03-31</td>\n",
       "      <td>18,972</td>\n",
       "    </tr>\n",
       "    <tr>\n",
       "      <th>3</th>\n",
       "      <td>2024-04-30</td>\n",
       "      <td>17,455</td>\n",
       "    </tr>\n",
       "  </tbody>\n",
       "</table>\n",
       "</div>"
      ],
      "text/plain": [
       "        date  Ventas\n",
       "0 2024-01-31  26,512\n",
       "1 2024-02-29  22,967\n",
       "2 2024-03-31  18,972\n",
       "3 2024-04-30  17,455"
      ]
     },
     "execution_count": 15,
     "metadata": {},
     "output_type": "execute_result"
    }
   ],
   "source": [
    "test_ts_ventas = mgts.get_ts(\"Ventas\", type = 'test')\n",
    "test_ts_ventas"
   ]
  },
  {
   "cell_type": "code",
   "execution_count": 16,
   "id": "ba5b82ef-b4ad-4a5d-bbc9-87b2fd1fad76",
   "metadata": {},
   "outputs": [
    {
     "data": {
      "application/vnd.jupyter.widget-view+json": {
       "model_id": "1495ffa450ce47d4b926c9241a5ef76e",
       "version_major": 2,
       "version_minor": 0
      },
      "text/plain": [
       "Downloading artifacts:   0%|          | 0/1 [00:00<?, ?it/s]"
      ]
     },
     "metadata": {},
     "output_type": "display_data"
    },
    {
     "data": {
      "text/html": [
       "<div>\n",
       "<style scoped>\n",
       "    .dataframe tbody tr th:only-of-type {\n",
       "        vertical-align: middle;\n",
       "    }\n",
       "\n",
       "    .dataframe tbody tr th {\n",
       "        vertical-align: top;\n",
       "    }\n",
       "\n",
       "    .dataframe thead th {\n",
       "        text-align: right;\n",
       "    }\n",
       "</style>\n",
       "<table border=\"1\" class=\"dataframe\">\n",
       "  <thead>\n",
       "    <tr style=\"text-align: right;\">\n",
       "      <th></th>\n",
       "      <th>date</th>\n",
       "      <th>pred</th>\n",
       "    </tr>\n",
       "  </thead>\n",
       "  <tbody>\n",
       "    <tr>\n",
       "      <th>0</th>\n",
       "      <td>2024-01-31</td>\n",
       "      <td>15,795</td>\n",
       "    </tr>\n",
       "    <tr>\n",
       "      <th>1</th>\n",
       "      <td>2024-02-29</td>\n",
       "      <td>20,402</td>\n",
       "    </tr>\n",
       "    <tr>\n",
       "      <th>2</th>\n",
       "      <td>2024-03-31</td>\n",
       "      <td>16,217</td>\n",
       "    </tr>\n",
       "    <tr>\n",
       "      <th>3</th>\n",
       "      <td>2024-04-30</td>\n",
       "      <td>20,495</td>\n",
       "    </tr>\n",
       "  </tbody>\n",
       "</table>\n",
       "</div>"
      ],
      "text/plain": [
       "        date   pred\n",
       "0 2024-01-31 15,795\n",
       "1 2024-02-29 20,402\n",
       "2 2024-03-31 16,217\n",
       "3 2024-04-30 20,495"
      ]
     },
     "execution_count": 16,
     "metadata": {},
     "output_type": "execute_result"
    }
   ],
   "source": [
    "TCN_ventas_mae = get_mlflow_pred('mlflow-artifacts:/24b7234b0fc04727a39b4e7add015333/c41cfa44a29246a580ef87bbd50b963e/artifacts/predictions/TCN_Ventas_best_mae.csv')\n",
    "TCN_ventas_mae = transform_dataset(TCN_ventas_mae)\n",
    "TCN_ventas_mae"
   ]
  },
  {
   "cell_type": "code",
   "execution_count": 17,
   "id": "f4a54094-a4ed-4829-8fe5-74852873c8da",
   "metadata": {},
   "outputs": [
    {
     "data": {
      "application/vnd.jupyter.widget-view+json": {
       "model_id": "e11e6eaa429c4e38adf0ff38e4d4b6b5",
       "version_major": 2,
       "version_minor": 0
      },
      "text/plain": [
       "Downloading artifacts:   0%|          | 0/1 [00:00<?, ?it/s]"
      ]
     },
     "metadata": {},
     "output_type": "display_data"
    },
    {
     "data": {
      "text/html": [
       "<div>\n",
       "<style scoped>\n",
       "    .dataframe tbody tr th:only-of-type {\n",
       "        vertical-align: middle;\n",
       "    }\n",
       "\n",
       "    .dataframe tbody tr th {\n",
       "        vertical-align: top;\n",
       "    }\n",
       "\n",
       "    .dataframe thead th {\n",
       "        text-align: right;\n",
       "    }\n",
       "</style>\n",
       "<table border=\"1\" class=\"dataframe\">\n",
       "  <thead>\n",
       "    <tr style=\"text-align: right;\">\n",
       "      <th></th>\n",
       "      <th>date</th>\n",
       "      <th>pred</th>\n",
       "    </tr>\n",
       "  </thead>\n",
       "  <tbody>\n",
       "    <tr>\n",
       "      <th>0</th>\n",
       "      <td>2024-01-31</td>\n",
       "      <td>15,795</td>\n",
       "    </tr>\n",
       "    <tr>\n",
       "      <th>1</th>\n",
       "      <td>2024-02-29</td>\n",
       "      <td>20,428</td>\n",
       "    </tr>\n",
       "    <tr>\n",
       "      <th>2</th>\n",
       "      <td>2024-03-31</td>\n",
       "      <td>15,138</td>\n",
       "    </tr>\n",
       "    <tr>\n",
       "      <th>3</th>\n",
       "      <td>2024-04-30</td>\n",
       "      <td>19,853</td>\n",
       "    </tr>\n",
       "  </tbody>\n",
       "</table>\n",
       "</div>"
      ],
      "text/plain": [
       "        date   pred\n",
       "0 2024-01-31 15,795\n",
       "1 2024-02-29 20,428\n",
       "2 2024-03-31 15,138\n",
       "3 2024-04-30 19,853"
      ]
     },
     "execution_count": 17,
     "metadata": {},
     "output_type": "execute_result"
    }
   ],
   "source": [
    "TCN_ventas_rmse = get_mlflow_pred('mlflow-artifacts:/24b7234b0fc04727a39b4e7add015333/ec9b782d2ae54eb8bb039a9b6a968d6f/artifacts/predictions/TCN_Ventas_best_rmse.csv')\n",
    "TCN_ventas_rmse = transform_dataset(TCN_ventas_rmse)\n",
    "TCN_ventas_rmse"
   ]
  },
  {
   "cell_type": "code",
   "execution_count": 18,
   "id": "b96c8f1f-647b-4c81-95e9-89749703efed",
   "metadata": {},
   "outputs": [
    {
     "data": {
      "application/vnd.jupyter.widget-view+json": {
       "model_id": "d1f926e51f9d468b9e057accc94c7c34",
       "version_major": 2,
       "version_minor": 0
      },
      "text/plain": [
       "Downloading artifacts:   0%|          | 0/1 [00:00<?, ?it/s]"
      ]
     },
     "metadata": {},
     "output_type": "display_data"
    },
    {
     "data": {
      "text/html": [
       "<div>\n",
       "<style scoped>\n",
       "    .dataframe tbody tr th:only-of-type {\n",
       "        vertical-align: middle;\n",
       "    }\n",
       "\n",
       "    .dataframe tbody tr th {\n",
       "        vertical-align: top;\n",
       "    }\n",
       "\n",
       "    .dataframe thead th {\n",
       "        text-align: right;\n",
       "    }\n",
       "</style>\n",
       "<table border=\"1\" class=\"dataframe\">\n",
       "  <thead>\n",
       "    <tr style=\"text-align: right;\">\n",
       "      <th></th>\n",
       "      <th>date</th>\n",
       "      <th>pred</th>\n",
       "    </tr>\n",
       "  </thead>\n",
       "  <tbody>\n",
       "    <tr>\n",
       "      <th>0</th>\n",
       "      <td>2024-01-31</td>\n",
       "      <td>15,795</td>\n",
       "    </tr>\n",
       "    <tr>\n",
       "      <th>1</th>\n",
       "      <td>2024-02-29</td>\n",
       "      <td>14,273</td>\n",
       "    </tr>\n",
       "    <tr>\n",
       "      <th>2</th>\n",
       "      <td>2024-03-31</td>\n",
       "      <td>14,273</td>\n",
       "    </tr>\n",
       "    <tr>\n",
       "      <th>3</th>\n",
       "      <td>2024-04-30</td>\n",
       "      <td>14,273</td>\n",
       "    </tr>\n",
       "  </tbody>\n",
       "</table>\n",
       "</div>"
      ],
      "text/plain": [
       "        date   pred\n",
       "0 2024-01-31 15,795\n",
       "1 2024-02-29 14,273\n",
       "2 2024-03-31 14,273\n",
       "3 2024-04-30 14,273"
      ]
     },
     "execution_count": 18,
     "metadata": {},
     "output_type": "execute_result"
    }
   ],
   "source": [
    "lgbm_ventas_mae = get_mlflow_pred('mlflow-artifacts:/703c637793b24acb87079f949bd98ee1/6738197386ad45f7bcf1dc2316b8667e/artifacts/predictions/LightGBM_Ventas_best_mae.csv')\n",
    "lgbm_ventas_mae = transform_dataset(lgbm_ventas_mae)\n",
    "lgbm_ventas_mae"
   ]
  },
  {
   "cell_type": "code",
   "execution_count": 19,
   "id": "fd7b1364-3329-4599-9286-75e3d1589721",
   "metadata": {},
   "outputs": [
    {
     "data": {
      "application/vnd.jupyter.widget-view+json": {
       "model_id": "497ad259d1b546f5b6e34862f1b9ddb1",
       "version_major": 2,
       "version_minor": 0
      },
      "text/plain": [
       "Downloading artifacts:   0%|          | 0/1 [00:00<?, ?it/s]"
      ]
     },
     "metadata": {},
     "output_type": "display_data"
    },
    {
     "data": {
      "text/html": [
       "<div>\n",
       "<style scoped>\n",
       "    .dataframe tbody tr th:only-of-type {\n",
       "        vertical-align: middle;\n",
       "    }\n",
       "\n",
       "    .dataframe tbody tr th {\n",
       "        vertical-align: top;\n",
       "    }\n",
       "\n",
       "    .dataframe thead th {\n",
       "        text-align: right;\n",
       "    }\n",
       "</style>\n",
       "<table border=\"1\" class=\"dataframe\">\n",
       "  <thead>\n",
       "    <tr style=\"text-align: right;\">\n",
       "      <th></th>\n",
       "      <th>date</th>\n",
       "      <th>pred</th>\n",
       "    </tr>\n",
       "  </thead>\n",
       "  <tbody>\n",
       "    <tr>\n",
       "      <th>0</th>\n",
       "      <td>2024-01-31</td>\n",
       "      <td>15,795</td>\n",
       "    </tr>\n",
       "    <tr>\n",
       "      <th>1</th>\n",
       "      <td>2024-02-29</td>\n",
       "      <td>14,297</td>\n",
       "    </tr>\n",
       "    <tr>\n",
       "      <th>2</th>\n",
       "      <td>2024-03-31</td>\n",
       "      <td>14,297</td>\n",
       "    </tr>\n",
       "    <tr>\n",
       "      <th>3</th>\n",
       "      <td>2024-04-30</td>\n",
       "      <td>14,297</td>\n",
       "    </tr>\n",
       "  </tbody>\n",
       "</table>\n",
       "</div>"
      ],
      "text/plain": [
       "        date   pred\n",
       "0 2024-01-31 15,795\n",
       "1 2024-02-29 14,297\n",
       "2 2024-03-31 14,297\n",
       "3 2024-04-30 14,297"
      ]
     },
     "execution_count": 19,
     "metadata": {},
     "output_type": "execute_result"
    }
   ],
   "source": [
    "lgbm_ventas_rmse = get_mlflow_pred('mlflow-artifacts:/703c637793b24acb87079f949bd98ee1/a53d90f83a834569bbc590444f751533/artifacts/predictions/LightGBM_Ventas_best_rmse.csv')\n",
    "lgbm_ventas_rmse = transform_dataset(lgbm_ventas_rmse)\n",
    "lgbm_ventas_rmse"
   ]
  },
  {
   "cell_type": "code",
   "execution_count": 20,
   "id": "b5dd0034-7cd1-4761-b9e3-091a21cb1b30",
   "metadata": {},
   "outputs": [
    {
     "data": {
      "image/png": "[encoded data removed]",
      "text/plain": [
       "<Figure size 1500x1000 with 4 Axes>"
      ]
     },
     "metadata": {},
     "output_type": "display_data"
    }
   ],
   "source": [
    "plt.close() # since  in the my_future.py I have the next line: matplotlib.use('Agg'), I need to ensrue plt is empty before plotting\n",
    "fig, ax = plt.subplots(2,2, figsize = (15,10))\n",
    "\n",
    "ax[0,0].plot(train_ts_ventas['date'], train_ts_ventas['Ventas'], color = 'blue')\n",
    "ax[0,0].plot(test_ts_ventas['date'], test_ts_ventas['Ventas'], color = 'green')\n",
    "ax[0,0].plot(TCN_ventas_mae['date'], TCN_ventas_mae['pred'], color = 'orange')\n",
    "ax[0,0].set_title('TCN MAE')\n",
    "\n",
    "ax[0,1].plot(train_ts_ventas['date'], train_ts_ventas['Ventas'], color = 'blue')\n",
    "ax[0,1].plot(test_ts_ventas['date'], test_ts_ventas['Ventas'], color = 'green')\n",
    "ax[0,1].plot(TCN_ventas_mae['date'], TCN_ventas_mae['pred'], color = 'orange')\n",
    "ax[0,1].set_title('TCN RMSE')\n",
    "\n",
    "ax[1,0].plot(train_ts_ventas['date'], train_ts_ventas['Ventas'], color = 'blue')\n",
    "ax[1,0].plot(test_ts_ventas['date'], test_ts_ventas['Ventas'], color = 'green')\n",
    "ax[1,0].plot(lgbm_ventas_mae['date'], lgbm_ventas_mae['pred'], color = 'orange')\n",
    "ax[1,0].set_title('LGBM MAE')\n",
    "\n",
    "ax[1,1].plot(train_ts_ventas['date'], train_ts_ventas['Ventas'], color = 'blue')\n",
    "ax[1,1].plot(test_ts_ventas['date'], test_ts_ventas['Ventas'], color = 'green')\n",
    "ax[1,1].plot(lgbm_ventas_rmse['date'], lgbm_ventas_rmse['pred'], color = 'orange')\n",
    "ax[1,1].set_title('LGBM RMSE')\n",
    "\n",
    "plt.suptitle('Ventas')\n",
    "\n",
    "lines = [plt.Line2D([0], [0], color='blue', lw=2),\n",
    "         plt.Line2D([0], [0], color='green', lw=2),\n",
    "         plt.Line2D([0], [0], color='orange', lw=2)]\n",
    "labels = ['Train', 'Test', 'Predicted']\n",
    "\n",
    "fig.legend(lines, labels, loc='center right')\n",
    "\n",
    "plt.show()"
   ]
  },
  {
   "cell_type": "code",
   "execution_count": 21,
   "id": "64660450-78bf-4ac3-a3c3-18e6456ac6bc",
   "metadata": {},
   "outputs": [],
   "source": [
    "# bla bla"
   ]
  },
  {
   "cell_type": "code",
   "execution_count": 22,
   "id": "858f25b6-812d-42c9-809c-2f8bbf791608",
   "metadata": {},
   "outputs": [
    {
     "data": {
      "application/vnd.jupyter.widget-view+json": {
       "model_id": "5982eab88aca4f39857e3d47d12bdb73",
       "version_major": 2,
       "version_minor": 0
      },
      "text/plain": [
       "Downloading artifacts:   0%|          | 0/1 [00:00<?, ?it/s]"
      ]
     },
     "metadata": {},
     "output_type": "display_data"
    },
    {
     "data": {
      "text/html": [
       "<div>\n",
       "<style scoped>\n",
       "    .dataframe tbody tr th:only-of-type {\n",
       "        vertical-align: middle;\n",
       "    }\n",
       "\n",
       "    .dataframe tbody tr th {\n",
       "        vertical-align: top;\n",
       "    }\n",
       "\n",
       "    .dataframe thead th {\n",
       "        text-align: right;\n",
       "    }\n",
       "</style>\n",
       "<table border=\"1\" class=\"dataframe\">\n",
       "  <thead>\n",
       "    <tr style=\"text-align: right;\">\n",
       "      <th></th>\n",
       "      <th>date</th>\n",
       "      <th>pred</th>\n",
       "    </tr>\n",
       "  </thead>\n",
       "  <tbody>\n",
       "    <tr>\n",
       "      <th>4</th>\n",
       "      <td>2024-05-31</td>\n",
       "      <td>15,725</td>\n",
       "    </tr>\n",
       "    <tr>\n",
       "      <th>5</th>\n",
       "      <td>2024-06-30</td>\n",
       "      <td>19,365</td>\n",
       "    </tr>\n",
       "    <tr>\n",
       "      <th>6</th>\n",
       "      <td>2024-07-31</td>\n",
       "      <td>16,243</td>\n",
       "    </tr>\n",
       "  </tbody>\n",
       "</table>\n",
       "</div>"
      ],
      "text/plain": [
       "        date   pred\n",
       "4 2024-05-31 15,725\n",
       "5 2024-06-30 19,365\n",
       "6 2024-07-31 16,243"
      ]
     },
     "execution_count": 22,
     "metadata": {},
     "output_type": "execute_result"
    }
   ],
   "source": [
    "modelo_ventas_elegido = get_mlflow_pred('mlflow-artifacts:/24b7234b0fc04727a39b4e7add015333/ec9b782d2ae54eb8bb039a9b6a968d6f/artifacts/predictions/TCN_Ventas_best_rmse.csv')\n",
    "modelo_ventas_elegido = modelo_ventas_elegido.loc[4:6, :].copy() #Se predicen los siguientes tres meses\n",
    "modelo_ventas_elegido['date'] = pd.to_datetime(modelo_ventas_elegido['date'], format= '%Y-%m-%d')\n",
    "modelo_ventas_elegido['pred'] = modelo_ventas_elegido['pred'].astype('float32')\n",
    "modelo_ventas_elegido"
   ]
  },
  {
   "cell_type": "code",
   "execution_count": 23,
   "id": "f6990884-7e6f-4e85-8a2e-e4cbb98f0d59",
   "metadata": {
    "scrolled": true
   },
   "outputs": [],
   "source": [
    "final =maz.prepare_push_dataset(modelo_compras_elegido,\n",
    "                          modelo_ventas_elegido)"
   ]
  },
  {
   "cell_type": "code",
   "execution_count": 24,
   "id": "f20de30f-05ec-4467-8273-a014b6de46de",
   "metadata": {},
   "outputs": [
    {
     "data": {
      "text/html": [
       "<div>\n",
       "<style scoped>\n",
       "    .dataframe tbody tr th:only-of-type {\n",
       "        vertical-align: middle;\n",
       "    }\n",
       "\n",
       "    .dataframe tbody tr th {\n",
       "        vertical-align: top;\n",
       "    }\n",
       "\n",
       "    .dataframe thead th {\n",
       "        text-align: right;\n",
       "    }\n",
       "</style>\n",
       "<table border=\"1\" class=\"dataframe\">\n",
       "  <thead>\n",
       "    <tr style=\"text-align: right;\">\n",
       "      <th></th>\n",
       "      <th>ID</th>\n",
       "      <th>Fecha</th>\n",
       "      <th>Cuenta</th>\n",
       "      <th>NoCuenta</th>\n",
       "      <th>Debe</th>\n",
       "      <th>Haber</th>\n",
       "      <th>Entidad</th>\n",
       "      <th>Compras</th>\n",
       "      <th>Ventas</th>\n",
       "      <th>NoGrupo</th>\n",
       "      <th>type</th>\n",
       "    </tr>\n",
       "  </thead>\n",
       "  <tbody>\n",
       "    <tr>\n",
       "      <th>0</th>\n",
       "      <td>0</td>\n",
       "      <td>25/09/2017</td>\n",
       "      <td>Capital social</td>\n",
       "      <td>100</td>\n",
       "      <td>0</td>\n",
       "      <td>1,500</td>\n",
       "      <td>Allison Hill</td>\n",
       "      <td>0</td>\n",
       "      <td>0</td>\n",
       "      <td>100</td>\n",
       "      <td>Actual</td>\n",
       "    </tr>\n",
       "    <tr>\n",
       "      <th>1</th>\n",
       "      <td>1</td>\n",
       "      <td>25/09/2017</td>\n",
       "      <td>BBVA</td>\n",
       "      <td>572</td>\n",
       "      <td>1,500</td>\n",
       "      <td>0</td>\n",
       "      <td>Allison Hill</td>\n",
       "      <td>0</td>\n",
       "      <td>0</td>\n",
       "      <td>500</td>\n",
       "      <td>Actual</td>\n",
       "    </tr>\n",
       "    <tr>\n",
       "      <th>2</th>\n",
       "      <td>2</td>\n",
       "      <td>25/09/2017</td>\n",
       "      <td>Capital social</td>\n",
       "      <td>100</td>\n",
       "      <td>0</td>\n",
       "      <td>1,500</td>\n",
       "      <td>Noah Rhodes</td>\n",
       "      <td>0</td>\n",
       "      <td>0</td>\n",
       "      <td>100</td>\n",
       "      <td>Actual</td>\n",
       "    </tr>\n",
       "    <tr>\n",
       "      <th>3</th>\n",
       "      <td>3</td>\n",
       "      <td>25/09/2017</td>\n",
       "      <td>BBVA</td>\n",
       "      <td>572</td>\n",
       "      <td>1,500</td>\n",
       "      <td>0</td>\n",
       "      <td>Noah Rhodes</td>\n",
       "      <td>0</td>\n",
       "      <td>0</td>\n",
       "      <td>500</td>\n",
       "      <td>Actual</td>\n",
       "    </tr>\n",
       "    <tr>\n",
       "      <th>4</th>\n",
       "      <td>4</td>\n",
       "      <td>25/09/2017</td>\n",
       "      <td>Acreedores por prestaciones de servicios (euros)</td>\n",
       "      <td>410</td>\n",
       "      <td>0</td>\n",
       "      <td>223</td>\n",
       "      <td>Angie Henderson</td>\n",
       "      <td>0</td>\n",
       "      <td>0</td>\n",
       "      <td>400</td>\n",
       "      <td>Actual</td>\n",
       "    </tr>\n",
       "    <tr>\n",
       "      <th>...</th>\n",
       "      <td>...</td>\n",
       "      <td>...</td>\n",
       "      <td>...</td>\n",
       "      <td>...</td>\n",
       "      <td>...</td>\n",
       "      <td>...</td>\n",
       "      <td>...</td>\n",
       "      <td>...</td>\n",
       "      <td>...</td>\n",
       "      <td>...</td>\n",
       "      <td>...</td>\n",
       "    </tr>\n",
       "    <tr>\n",
       "      <th>39676</th>\n",
       "      <td>39676</td>\n",
       "      <td>31/05/2024</td>\n",
       "      <td>missing</td>\n",
       "      <td>missing</td>\n",
       "      <td>0</td>\n",
       "      <td>0</td>\n",
       "      <td>missing</td>\n",
       "      <td>0</td>\n",
       "      <td>15,725</td>\n",
       "      <td>missing</td>\n",
       "      <td>Predicted</td>\n",
       "    </tr>\n",
       "    <tr>\n",
       "      <th>39677</th>\n",
       "      <td>39677</td>\n",
       "      <td>30/06/2024</td>\n",
       "      <td>missing</td>\n",
       "      <td>missing</td>\n",
       "      <td>0</td>\n",
       "      <td>0</td>\n",
       "      <td>missing</td>\n",
       "      <td>11,782</td>\n",
       "      <td>0</td>\n",
       "      <td>missing</td>\n",
       "      <td>Predicted</td>\n",
       "    </tr>\n",
       "    <tr>\n",
       "      <th>39678</th>\n",
       "      <td>39678</td>\n",
       "      <td>30/06/2024</td>\n",
       "      <td>missing</td>\n",
       "      <td>missing</td>\n",
       "      <td>0</td>\n",
       "      <td>0</td>\n",
       "      <td>missing</td>\n",
       "      <td>0</td>\n",
       "      <td>19,365</td>\n",
       "      <td>missing</td>\n",
       "      <td>Predicted</td>\n",
       "    </tr>\n",
       "    <tr>\n",
       "      <th>39679</th>\n",
       "      <td>39679</td>\n",
       "      <td>31/07/2024</td>\n",
       "      <td>missing</td>\n",
       "      <td>missing</td>\n",
       "      <td>0</td>\n",
       "      <td>0</td>\n",
       "      <td>missing</td>\n",
       "      <td>25,396</td>\n",
       "      <td>0</td>\n",
       "      <td>missing</td>\n",
       "      <td>Predicted</td>\n",
       "    </tr>\n",
       "    <tr>\n",
       "      <th>39680</th>\n",
       "      <td>39680</td>\n",
       "      <td>31/07/2024</td>\n",
       "      <td>missing</td>\n",
       "      <td>missing</td>\n",
       "      <td>0</td>\n",
       "      <td>0</td>\n",
       "      <td>missing</td>\n",
       "      <td>0</td>\n",
       "      <td>16,243</td>\n",
       "      <td>missing</td>\n",
       "      <td>Predicted</td>\n",
       "    </tr>\n",
       "  </tbody>\n",
       "</table>\n",
       "<p>39681 rows × 11 columns</p>\n",
       "</div>"
      ],
      "text/plain": [
       "          ID       Fecha                                            Cuenta  \\\n",
       "0          0  25/09/2017                                    Capital social   \n",
       "1          1  25/09/2017                                              BBVA   \n",
       "2          2  25/09/2017                                    Capital social   \n",
       "3          3  25/09/2017                                              BBVA   \n",
       "4          4  25/09/2017  Acreedores por prestaciones de servicios (euros)   \n",
       "...      ...         ...                                               ...   \n",
       "39676  39676  31/05/2024                                           missing   \n",
       "39677  39677  30/06/2024                                           missing   \n",
       "39678  39678  30/06/2024                                           missing   \n",
       "39679  39679  31/07/2024                                           missing   \n",
       "39680  39680  31/07/2024                                           missing   \n",
       "\n",
       "      NoCuenta  Debe  Haber          Entidad  Compras  Ventas  NoGrupo  \\\n",
       "0          100     0  1,500     Allison Hill        0       0      100   \n",
       "1          572 1,500      0     Allison Hill        0       0      500   \n",
       "2          100     0  1,500      Noah Rhodes        0       0      100   \n",
       "3          572 1,500      0      Noah Rhodes        0       0      500   \n",
       "4          410     0    223  Angie Henderson        0       0      400   \n",
       "...        ...   ...    ...              ...      ...     ...      ...   \n",
       "39676  missing     0      0          missing        0  15,725  missing   \n",
       "39677  missing     0      0          missing   11,782       0  missing   \n",
       "39678  missing     0      0          missing        0  19,365  missing   \n",
       "39679  missing     0      0          missing   25,396       0  missing   \n",
       "39680  missing     0      0          missing        0  16,243  missing   \n",
       "\n",
       "            type  \n",
       "0         Actual  \n",
       "1         Actual  \n",
       "2         Actual  \n",
       "3         Actual  \n",
       "4         Actual  \n",
       "...          ...  \n",
       "39676  Predicted  \n",
       "39677  Predicted  \n",
       "39678  Predicted  \n",
       "39679  Predicted  \n",
       "39680  Predicted  \n",
       "\n",
       "[39681 rows x 11 columns]"
      ]
     },
     "execution_count": 24,
     "metadata": {},
     "output_type": "execute_result"
    }
   ],
   "source": [
    "final"
   ]
  },
  {
   "cell_type": "code",
   "execution_count": 25,
   "id": "74159674-6566-4ad7-aac2-a073c2e2a0e7",
   "metadata": {},
   "outputs": [],
   "source": [
    "maz.push_dataset()"
   ]
  },
  {
   "cell_type": "code",
   "execution_count": 26,
   "id": "8b0b0800-3f5f-4381-8c71-5b7b07cd0427",
   "metadata": {},
   "outputs": [
    {
     "data": {
      "text/plain": [
       "False"
      ]
     },
     "execution_count": 26,
     "metadata": {},
     "output_type": "execute_result"
    }
   ],
   "source": [
    "final['ID'].duplicated().any()"
   ]
  },
  {
   "cell_type": "code",
   "execution_count": 27,
   "id": "7bae2016-a9c2-4224-83fb-5715f36526a2",
   "metadata": {},
   "outputs": [
    {
     "data": {
      "text/plain": [
       "ID          False\n",
       "Fecha       False\n",
       "Cuenta      False\n",
       "NoCuenta    False\n",
       "Debe        False\n",
       "Haber       False\n",
       "Entidad     False\n",
       "Compras     False\n",
       "Ventas      False\n",
       "NoGrupo     False\n",
       "type        False\n",
       "dtype: bool"
      ]
     },
     "execution_count": 27,
     "metadata": {},
     "output_type": "execute_result"
    }
   ],
   "source": [
    "final.isna().any()"
   ]
  },
  {
   "cell_type": "code",
   "execution_count": null,
   "id": "b75b138e-9d45-4142-9598-20b220256679",
   "metadata": {},
   "outputs": [],
   "source": []
  }
 ],
 "metadata": {
  "kernelspec": {
   "display_name": "Python 3 (ipykernel)",
   "language": "python",
   "name": "python3"
  },
  "language_info": {
   "codemirror_mode": {
    "name": "ipython",
    "version": 3
   },
   "file_extension": ".py",
   "mimetype": "text/x-python",
   "name": "python",
   "nbconvert_exporter": "python",
   "pygments_lexer": "ipython3",
   "version": "3.12.3"
  }
 },
 "nbformat": 4,
 "nbformat_minor": 5
}
