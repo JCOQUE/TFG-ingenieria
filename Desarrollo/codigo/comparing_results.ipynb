{
 "cells": [
  {
   "cell_type": "code",
   "execution_count": 1,
   "id": "e6853030-e6c4-4e53-8f26-712366fa1be4",
   "metadata": {},
   "outputs": [],
   "source": [
    "import pandas as pd\n",
    "import mlflow\n",
    "import dagshub\n",
    "%matplotlib inline\n",
    "import matplotlib.pyplot as plt\n",
    "\n",
    "from tfg_module import my_get_time_series as mgts\n",
    "from tfg_module import my_azure as maz"
   ]
  },
  {
   "cell_type": "code",
   "execution_count": 2,
   "id": "9eb2a137-4769-40a7-b2cb-df54265f2f17",
   "metadata": {},
   "outputs": [
    {
     "data": {
      "text/html": [
       "<pre style=\"white-space:pre;overflow-x:auto;line-height:normal;font-family:Menlo,'DejaVu Sans Mono',consolas,'Courier New',monospace\">Initialized MLflow to track repo <span style=\"color: #008000; text-decoration-color: #008000\">\"JCOQUE/TFG-ingenieria\"</span>\n",
       "</pre>\n"
      ],
      "text/plain": [
       "Initialized MLflow to track repo \u001b[32m\"JCOQUE/TFG-ingenieria\"\u001b[0m\n"
      ]
     },
     "metadata": {},
     "output_type": "display_data"
    },
    {
     "data": {
      "text/html": [
       "<pre style=\"white-space:pre;overflow-x:auto;line-height:normal;font-family:Menlo,'DejaVu Sans Mono',consolas,'Courier New',monospace\">Repository JCOQUE/TFG-ingenieria initialized!\n",
       "</pre>\n"
      ],
      "text/plain": [
       "Repository JCOQUE/TFG-ingenieria initialized!\n"
      ]
     },
     "metadata": {},
     "output_type": "display_data"
    }
   ],
   "source": [
    "dagshub.init(repo_owner='JCOQUE', repo_name='TFG-ingenieria', mlflow=True) \n",
    "mlflow.set_tracking_uri('https://dagshub.com/JCOQUE/TFG-ingenieria.mlflow')"
   ]
  },
  {
   "cell_type": "code",
   "execution_count": 3,
   "id": "c7cafa45-0b15-47db-b4c7-7ee92b63fd8c",
   "metadata": {},
   "outputs": [],
   "source": [
    "def get_mlflow_pred(url):\n",
    "    mlflow_pred_csv = mlflow.artifacts.download_artifacts(url)\n",
    "    mlflow_pred = pd.read_csv(mlflow_pred_csv)\n",
    "    mlflow_pred.drop(columns = ['Unnamed: 0'], inplace = True)\n",
    "    return  mlflow_pred"
   ]
  },
  {
   "cell_type": "code",
   "execution_count": 4,
   "id": "43af5f7d-e0d0-48a2-b929-33618102163b",
   "metadata": {},
   "outputs": [],
   "source": [
    "def transform_dataset(dataset):\n",
    "    dataset = dataset.loc[1:4, :].copy() # only getting the first 4 months, i.e. test size\n",
    "    dataset['date'] = pd.to_datetime(dataset['date'], format= '%Y-%m-%d')\n",
    "    dataset['pred'] = dataset['pred'].astype('float32')\n",
    "    return  dataset"
   ]
  },
  {
   "cell_type": "markdown",
   "id": "65fa33fb-c324-4ff7-966c-93de5527e54e",
   "metadata": {},
   "source": [
    "## Compras"
   ]
  },
  {
   "cell_type": "code",
   "execution_count": 5,
   "id": "7bc98a65-7cba-4f7c-be30-16400c2728ee",
   "metadata": {},
   "outputs": [
    {
     "data": {
      "text/html": [
       "<div>\n",
       "<style scoped>\n",
       "    .dataframe tbody tr th:only-of-type {\n",
       "        vertical-align: middle;\n",
       "    }\n",
       "\n",
       "    .dataframe tbody tr th {\n",
       "        vertical-align: top;\n",
       "    }\n",
       "\n",
       "    .dataframe thead th {\n",
       "        text-align: right;\n",
       "    }\n",
       "</style>\n",
       "<table border=\"1\" class=\"dataframe\">\n",
       "  <thead>\n",
       "    <tr style=\"text-align: right;\">\n",
       "      <th></th>\n",
       "      <th>date</th>\n",
       "      <th>Compras</th>\n",
       "    </tr>\n",
       "  </thead>\n",
       "  <tbody>\n",
       "    <tr>\n",
       "      <th>0</th>\n",
       "      <td>2017-09-30</td>\n",
       "      <td>6,865</td>\n",
       "    </tr>\n",
       "    <tr>\n",
       "      <th>1</th>\n",
       "      <td>2017-10-31</td>\n",
       "      <td>5,452</td>\n",
       "    </tr>\n",
       "    <tr>\n",
       "      <th>2</th>\n",
       "      <td>2017-11-30</td>\n",
       "      <td>4,399</td>\n",
       "    </tr>\n",
       "    <tr>\n",
       "      <th>3</th>\n",
       "      <td>2017-12-31</td>\n",
       "      <td>37,490</td>\n",
       "    </tr>\n",
       "    <tr>\n",
       "      <th>4</th>\n",
       "      <td>2018-01-31</td>\n",
       "      <td>4,486</td>\n",
       "    </tr>\n",
       "    <tr>\n",
       "      <th>...</th>\n",
       "      <td>...</td>\n",
       "      <td>...</td>\n",
       "    </tr>\n",
       "    <tr>\n",
       "      <th>71</th>\n",
       "      <td>2023-08-31</td>\n",
       "      <td>17,181</td>\n",
       "    </tr>\n",
       "    <tr>\n",
       "      <th>72</th>\n",
       "      <td>2023-09-30</td>\n",
       "      <td>7,394</td>\n",
       "    </tr>\n",
       "    <tr>\n",
       "      <th>73</th>\n",
       "      <td>2023-10-31</td>\n",
       "      <td>28,417</td>\n",
       "    </tr>\n",
       "    <tr>\n",
       "      <th>74</th>\n",
       "      <td>2023-11-30</td>\n",
       "      <td>14,432</td>\n",
       "    </tr>\n",
       "    <tr>\n",
       "      <th>75</th>\n",
       "      <td>2023-12-31</td>\n",
       "      <td>27,198</td>\n",
       "    </tr>\n",
       "  </tbody>\n",
       "</table>\n",
       "<p>76 rows × 2 columns</p>\n",
       "</div>"
      ],
      "text/plain": [
       "         date  Compras\n",
       "0  2017-09-30    6,865\n",
       "1  2017-10-31    5,452\n",
       "2  2017-11-30    4,399\n",
       "3  2017-12-31   37,490\n",
       "4  2018-01-31    4,486\n",
       "..        ...      ...\n",
       "71 2023-08-31   17,181\n",
       "72 2023-09-30    7,394\n",
       "73 2023-10-31   28,417\n",
       "74 2023-11-30   14,432\n",
       "75 2023-12-31   27,198\n",
       "\n",
       "[76 rows x 2 columns]"
      ]
     },
     "execution_count": 5,
     "metadata": {},
     "output_type": "execute_result"
    }
   ],
   "source": [
    "train_ts_compras = mgts.get_ts('Compras', type = 'train')\n",
    "train_ts_compras"
   ]
  },
  {
   "cell_type": "code",
   "execution_count": 6,
   "id": "d80d40c2-a02f-4b49-adcc-ead8906eb384",
   "metadata": {},
   "outputs": [
    {
     "data": {
      "text/html": [
       "<div>\n",
       "<style scoped>\n",
       "    .dataframe tbody tr th:only-of-type {\n",
       "        vertical-align: middle;\n",
       "    }\n",
       "\n",
       "    .dataframe tbody tr th {\n",
       "        vertical-align: top;\n",
       "    }\n",
       "\n",
       "    .dataframe thead th {\n",
       "        text-align: right;\n",
       "    }\n",
       "</style>\n",
       "<table border=\"1\" class=\"dataframe\">\n",
       "  <thead>\n",
       "    <tr style=\"text-align: right;\">\n",
       "      <th></th>\n",
       "      <th>date</th>\n",
       "      <th>Compras</th>\n",
       "    </tr>\n",
       "  </thead>\n",
       "  <tbody>\n",
       "    <tr>\n",
       "      <th>0</th>\n",
       "      <td>2024-01-31</td>\n",
       "      <td>13,777</td>\n",
       "    </tr>\n",
       "    <tr>\n",
       "      <th>1</th>\n",
       "      <td>2024-02-29</td>\n",
       "      <td>10,422</td>\n",
       "    </tr>\n",
       "    <tr>\n",
       "      <th>2</th>\n",
       "      <td>2024-03-31</td>\n",
       "      <td>17,173</td>\n",
       "    </tr>\n",
       "    <tr>\n",
       "      <th>3</th>\n",
       "      <td>2024-04-30</td>\n",
       "      <td>27,871</td>\n",
       "    </tr>\n",
       "    <tr>\n",
       "      <th>4</th>\n",
       "      <td>2024-05-31</td>\n",
       "      <td>268</td>\n",
       "    </tr>\n",
       "  </tbody>\n",
       "</table>\n",
       "</div>"
      ],
      "text/plain": [
       "        date  Compras\n",
       "0 2024-01-31   13,777\n",
       "1 2024-02-29   10,422\n",
       "2 2024-03-31   17,173\n",
       "3 2024-04-30   27,871\n",
       "4 2024-05-31      268"
      ]
     },
     "execution_count": 6,
     "metadata": {},
     "output_type": "execute_result"
    }
   ],
   "source": [
    "test_ts_compras = mgts.get_ts('Compras', type = 'test')\n",
    "test_ts_compras"
   ]
  },
  {
   "cell_type": "code",
   "execution_count": 7,
   "id": "f626b771-c1d1-48ae-ab9f-eec111287830",
   "metadata": {},
   "outputs": [
    {
     "data": {
      "text/html": [
       "<div>\n",
       "<style scoped>\n",
       "    .dataframe tbody tr th:only-of-type {\n",
       "        vertical-align: middle;\n",
       "    }\n",
       "\n",
       "    .dataframe tbody tr th {\n",
       "        vertical-align: top;\n",
       "    }\n",
       "\n",
       "    .dataframe thead th {\n",
       "        text-align: right;\n",
       "    }\n",
       "</style>\n",
       "<table border=\"1\" class=\"dataframe\">\n",
       "  <thead>\n",
       "    <tr style=\"text-align: right;\">\n",
       "      <th></th>\n",
       "      <th>date</th>\n",
       "      <th>Compras</th>\n",
       "    </tr>\n",
       "  </thead>\n",
       "  <tbody>\n",
       "    <tr>\n",
       "      <th>0</th>\n",
       "      <td>2024-01-31</td>\n",
       "      <td>13,777</td>\n",
       "    </tr>\n",
       "    <tr>\n",
       "      <th>1</th>\n",
       "      <td>2024-02-29</td>\n",
       "      <td>10,422</td>\n",
       "    </tr>\n",
       "    <tr>\n",
       "      <th>2</th>\n",
       "      <td>2024-03-31</td>\n",
       "      <td>17,173</td>\n",
       "    </tr>\n",
       "    <tr>\n",
       "      <th>3</th>\n",
       "      <td>2024-04-30</td>\n",
       "      <td>27,871</td>\n",
       "    </tr>\n",
       "  </tbody>\n",
       "</table>\n",
       "</div>"
      ],
      "text/plain": [
       "        date  Compras\n",
       "0 2024-01-31   13,777\n",
       "1 2024-02-29   10,422\n",
       "2 2024-03-31   17,173\n",
       "3 2024-04-30   27,871"
      ]
     },
     "execution_count": 7,
     "metadata": {},
     "output_type": "execute_result"
    }
   ],
   "source": [
    "# month of may gets discarded\n",
    "test_ts_compras = test_ts_compras.loc[0:3,:]\n",
    "test_ts_compras"
   ]
  },
  {
   "cell_type": "code",
   "execution_count": 8,
   "id": "9f73768a-4c75-4b40-bf43-dc79975a0bd0",
   "metadata": {},
   "outputs": [
    {
     "data": {
      "application/vnd.jupyter.widget-view+json": {
       "model_id": "38ad2f5db6844428862add2f562a3ffb",
       "version_major": 2,
       "version_minor": 0
      },
      "text/plain": [
       "Downloading artifacts:   0%|          | 0/1 [00:00<?, ?it/s]"
      ]
     },
     "metadata": {},
     "output_type": "display_data"
    },
    {
     "data": {
      "text/html": [
       "<div>\n",
       "<style scoped>\n",
       "    .dataframe tbody tr th:only-of-type {\n",
       "        vertical-align: middle;\n",
       "    }\n",
       "\n",
       "    .dataframe tbody tr th {\n",
       "        vertical-align: top;\n",
       "    }\n",
       "\n",
       "    .dataframe thead th {\n",
       "        text-align: right;\n",
       "    }\n",
       "</style>\n",
       "<table border=\"1\" class=\"dataframe\">\n",
       "  <thead>\n",
       "    <tr style=\"text-align: right;\">\n",
       "      <th></th>\n",
       "      <th>date</th>\n",
       "      <th>pred</th>\n",
       "    </tr>\n",
       "  </thead>\n",
       "  <tbody>\n",
       "    <tr>\n",
       "      <th>1</th>\n",
       "      <td>2024-01-31</td>\n",
       "      <td>25,748</td>\n",
       "    </tr>\n",
       "    <tr>\n",
       "      <th>2</th>\n",
       "      <td>2024-02-29</td>\n",
       "      <td>17,536</td>\n",
       "    </tr>\n",
       "    <tr>\n",
       "      <th>3</th>\n",
       "      <td>2024-03-31</td>\n",
       "      <td>10,893</td>\n",
       "    </tr>\n",
       "    <tr>\n",
       "      <th>4</th>\n",
       "      <td>2024-04-30</td>\n",
       "      <td>23,823</td>\n",
       "    </tr>\n",
       "  </tbody>\n",
       "</table>\n",
       "</div>"
      ],
      "text/plain": [
       "        date   pred\n",
       "1 2024-01-31 25,748\n",
       "2 2024-02-29 17,536\n",
       "3 2024-03-31 10,893\n",
       "4 2024-04-30 23,823"
      ]
     },
     "execution_count": 8,
     "metadata": {},
     "output_type": "execute_result"
    }
   ],
   "source": [
    "TCN_compras_mae = get_mlflow_pred('mlflow-artifacts:/e4812a076abd4294b4e238dc8106ce47/8730015f2bd340acb9fce3c112ee156e/artifacts/predictions/TCN_Compras_best_mae.csv')\n",
    "TCN_compras_mae = transform_dataset(TCN_compras_mae)\n",
    "TCN_compras_mae"
   ]
  },
  {
   "cell_type": "code",
   "execution_count": 9,
   "id": "bbe643e9-1585-460f-b744-8ef6b4568bf5",
   "metadata": {},
   "outputs": [
    {
     "data": {
      "application/vnd.jupyter.widget-view+json": {
       "model_id": "6ee5310225a143fab7736d0d037bb2af",
       "version_major": 2,
       "version_minor": 0
      },
      "text/plain": [
       "Downloading artifacts:   0%|          | 0/1 [00:00<?, ?it/s]"
      ]
     },
     "metadata": {},
     "output_type": "display_data"
    },
    {
     "data": {
      "text/html": [
       "<div>\n",
       "<style scoped>\n",
       "    .dataframe tbody tr th:only-of-type {\n",
       "        vertical-align: middle;\n",
       "    }\n",
       "\n",
       "    .dataframe tbody tr th {\n",
       "        vertical-align: top;\n",
       "    }\n",
       "\n",
       "    .dataframe thead th {\n",
       "        text-align: right;\n",
       "    }\n",
       "</style>\n",
       "<table border=\"1\" class=\"dataframe\">\n",
       "  <thead>\n",
       "    <tr style=\"text-align: right;\">\n",
       "      <th></th>\n",
       "      <th>date</th>\n",
       "      <th>pred</th>\n",
       "    </tr>\n",
       "  </thead>\n",
       "  <tbody>\n",
       "    <tr>\n",
       "      <th>1</th>\n",
       "      <td>2024-01-31</td>\n",
       "      <td>20,878</td>\n",
       "    </tr>\n",
       "    <tr>\n",
       "      <th>2</th>\n",
       "      <td>2024-02-29</td>\n",
       "      <td>18,403</td>\n",
       "    </tr>\n",
       "    <tr>\n",
       "      <th>3</th>\n",
       "      <td>2024-03-31</td>\n",
       "      <td>11,599</td>\n",
       "    </tr>\n",
       "    <tr>\n",
       "      <th>4</th>\n",
       "      <td>2024-04-30</td>\n",
       "      <td>18,260</td>\n",
       "    </tr>\n",
       "  </tbody>\n",
       "</table>\n",
       "</div>"
      ],
      "text/plain": [
       "        date   pred\n",
       "1 2024-01-31 20,878\n",
       "2 2024-02-29 18,403\n",
       "3 2024-03-31 11,599\n",
       "4 2024-04-30 18,260"
      ]
     },
     "execution_count": 9,
     "metadata": {},
     "output_type": "execute_result"
    }
   ],
   "source": [
    "TCN_compras_rmse = get_mlflow_pred('mlflow-artifacts:/e4812a076abd4294b4e238dc8106ce47/5f97f5a5d02e42c8b8c4e7aebdf81d0c/artifacts/predictions/TCN_Compras_best_rmse.csv')\n",
    "TCN_compras_rmse = transform_dataset(TCN_compras_rmse)\n",
    "TCN_compras_rmse"
   ]
  },
  {
   "cell_type": "code",
   "execution_count": 10,
   "id": "468329d3-ea1b-4471-987f-e661e5d256e4",
   "metadata": {},
   "outputs": [
    {
     "data": {
      "application/vnd.jupyter.widget-view+json": {
       "model_id": "1e401ff3419744b9ad58beb139bd8078",
       "version_major": 2,
       "version_minor": 0
      },
      "text/plain": [
       "Downloading artifacts:   0%|          | 0/1 [00:00<?, ?it/s]"
      ]
     },
     "metadata": {},
     "output_type": "display_data"
    },
    {
     "data": {
      "text/html": [
       "<div>\n",
       "<style scoped>\n",
       "    .dataframe tbody tr th:only-of-type {\n",
       "        vertical-align: middle;\n",
       "    }\n",
       "\n",
       "    .dataframe tbody tr th {\n",
       "        vertical-align: top;\n",
       "    }\n",
       "\n",
       "    .dataframe thead th {\n",
       "        text-align: right;\n",
       "    }\n",
       "</style>\n",
       "<table border=\"1\" class=\"dataframe\">\n",
       "  <thead>\n",
       "    <tr style=\"text-align: right;\">\n",
       "      <th></th>\n",
       "      <th>date</th>\n",
       "      <th>pred</th>\n",
       "    </tr>\n",
       "  </thead>\n",
       "  <tbody>\n",
       "    <tr>\n",
       "      <th>1</th>\n",
       "      <td>2024-01-31</td>\n",
       "      <td>13,686</td>\n",
       "    </tr>\n",
       "    <tr>\n",
       "      <th>2</th>\n",
       "      <td>2024-02-29</td>\n",
       "      <td>9,099</td>\n",
       "    </tr>\n",
       "    <tr>\n",
       "      <th>3</th>\n",
       "      <td>2024-03-31</td>\n",
       "      <td>17,446</td>\n",
       "    </tr>\n",
       "    <tr>\n",
       "      <th>4</th>\n",
       "      <td>2024-04-30</td>\n",
       "      <td>15,040</td>\n",
       "    </tr>\n",
       "  </tbody>\n",
       "</table>\n",
       "</div>"
      ],
      "text/plain": [
       "        date   pred\n",
       "1 2024-01-31 13,686\n",
       "2 2024-02-29  9,099\n",
       "3 2024-03-31 17,446\n",
       "4 2024-04-30 15,040"
      ]
     },
     "execution_count": 10,
     "metadata": {},
     "output_type": "execute_result"
    }
   ],
   "source": [
    "lgbm_compras_mae = get_mlflow_pred('mlflow-artifacts:/25707a52310b4902beafe11b4d03a4e7/cd14bf171ef14dd1a60d9d1847c9200e/artifacts/predictions/LightGBM_Compras_best_mae.csv')\n",
    "lgbm_compras_mae = transform_dataset(lgbm_compras_mae)\n",
    "lgbm_compras_mae"
   ]
  },
  {
   "cell_type": "code",
   "execution_count": 11,
   "id": "57d20d96-68ca-4bd2-9904-1a69e19c970d",
   "metadata": {},
   "outputs": [
    {
     "data": {
      "application/vnd.jupyter.widget-view+json": {
       "model_id": "bd33b3d0730b4e33bcac66b54af560e2",
       "version_major": 2,
       "version_minor": 0
      },
      "text/plain": [
       "Downloading artifacts:   0%|          | 0/1 [00:00<?, ?it/s]"
      ]
     },
     "metadata": {},
     "output_type": "display_data"
    },
    {
     "data": {
      "text/html": [
       "<div>\n",
       "<style scoped>\n",
       "    .dataframe tbody tr th:only-of-type {\n",
       "        vertical-align: middle;\n",
       "    }\n",
       "\n",
       "    .dataframe tbody tr th {\n",
       "        vertical-align: top;\n",
       "    }\n",
       "\n",
       "    .dataframe thead th {\n",
       "        text-align: right;\n",
       "    }\n",
       "</style>\n",
       "<table border=\"1\" class=\"dataframe\">\n",
       "  <thead>\n",
       "    <tr style=\"text-align: right;\">\n",
       "      <th></th>\n",
       "      <th>date</th>\n",
       "      <th>pred</th>\n",
       "    </tr>\n",
       "  </thead>\n",
       "  <tbody>\n",
       "    <tr>\n",
       "      <th>1</th>\n",
       "      <td>2024-01-31</td>\n",
       "      <td>13,771</td>\n",
       "    </tr>\n",
       "    <tr>\n",
       "      <th>2</th>\n",
       "      <td>2024-02-29</td>\n",
       "      <td>9,413</td>\n",
       "    </tr>\n",
       "    <tr>\n",
       "      <th>3</th>\n",
       "      <td>2024-03-31</td>\n",
       "      <td>17,157</td>\n",
       "    </tr>\n",
       "    <tr>\n",
       "      <th>4</th>\n",
       "      <td>2024-04-30</td>\n",
       "      <td>9,732</td>\n",
       "    </tr>\n",
       "  </tbody>\n",
       "</table>\n",
       "</div>"
      ],
      "text/plain": [
       "        date   pred\n",
       "1 2024-01-31 13,771\n",
       "2 2024-02-29  9,413\n",
       "3 2024-03-31 17,157\n",
       "4 2024-04-30  9,732"
      ]
     },
     "execution_count": 11,
     "metadata": {},
     "output_type": "execute_result"
    }
   ],
   "source": [
    "lgbm_compras_rmse = get_mlflow_pred('mlflow-artifacts:/25707a52310b4902beafe11b4d03a4e7/5e2f4a6d16b54d8cb22e003ac6913abb/artifacts/predictions/LightGBM_Compras_best_rmse.csv')\n",
    "lgbm_compras_rmse = transform_dataset(lgbm_compras_rmse)\n",
    "lgbm_compras_rmse"
   ]
  },
  {
   "cell_type": "markdown",
   "id": "f13120e0-78f2-4c7c-a263-c2f8494ccef6",
   "metadata": {},
   "source": [
    "Siempre debe haber un conjunto de *test* para poder evaluar un modelo. En este caso, una pena que los modelos de XGBoost e Informer haya sido inviable por falta de tiempo pero, sobre todo de recursos llevar a cabo su entrenamiento. Con esto dicho, dado que los mejores modelos obtenidos en cada algortimo para cada métrica (MAE y RMSE) son muy parecidos, se van a comparar los 4 modelos de compras:\n",
    "* TCN compras best_MAE\n",
    "* TCN compras best_RMSE\n",
    "* LightGBM compras best_MAE\n",
    "* LightGBM compras best_RMSE"
   ]
  },
  {
   "cell_type": "markdown",
   "id": "0fd87893-710d-4008-91d6-6e99dcab38ee",
   "metadata": {},
   "source": [
    "<p align=\"center\">\n",
    "  <img src=\"../../Memoria/imgs/metrics_compras_tcn.png\" alt=\"Imagen 1\" width=\"45%\" style=\"margin-right: 10px;\">\n",
    "  <img src=\"../../Memoria/imgs/metrics_compras_lgbm.png\" alt=\"Imagen 2\" width=\"45%\">\n",
    "</p>"
   ]
  },
  {
   "cell_type": "markdown",
   "id": "41b33dcf-7eeb-4929-864e-0a0684a8c705",
   "metadata": {},
   "source": [
    "Con un simple vistazo a las métricas se puede ver que TCN tiene unas métricas mucho mejores: en MAE, pero sobre todo en RMSE. Estas métricas vienen bien para poder comparar modelos entre sí, pero de todas maneras siempre es necesario graficar sus  resultados predichos con el conjunto de *test* y determinar si algún algoritmos, independientemente de sus métrica, ha conseguido encontrar algún patrón en la serie temporal y se ajusta a la tendencia y estacionalidad que la serie temporal pueda presentar."
   ]
  },
  {
   "cell_type": "code",
   "execution_count": 12,
   "id": "50c887b7-1d7d-4170-8751-a6f186138f8c",
   "metadata": {},
   "outputs": [
    {
     "data": {
      "image/png": "[encoded data removed]",
      "text/plain": [
       "<Figure size 1500x1000 with 4 Axes>"
      ]
     },
     "metadata": {},
     "output_type": "display_data"
    }
   ],
   "source": [
    "plt.close() # since  in the my_future.py I have the next line: matplotlib.use('Agg'), I need to ensrue plt is empty before plotting\n",
    "fig, ax = plt.subplots(2,2, figsize = (15,10))\n",
    "\n",
    "ax[0,0].plot(train_ts_compras['date'], train_ts_compras['Compras'], color = 'blue')\n",
    "ax[0,0].plot(test_ts_compras['date'], test_ts_compras['Compras'], color = 'green')\n",
    "ax[0,0].plot(TCN_compras_mae['date'], TCN_compras_mae['pred'], color = 'orange')\n",
    "ax[0,0].set_title('TCN MAE')\n",
    "\n",
    "ax[0,1].plot(train_ts_compras['date'], train_ts_compras['Compras'], color = 'blue')\n",
    "ax[0,1].plot(test_ts_compras['date'], test_ts_compras['Compras'], color = 'green')\n",
    "ax[0,1].plot(TCN_compras_mae['date'], TCN_compras_mae['pred'], color = 'orange')\n",
    "ax[0,1].set_title('TCN RMSE')\n",
    "\n",
    "ax[1,0].plot(train_ts_compras['date'], train_ts_compras['Compras'], color = 'blue')\n",
    "ax[1,0].plot(test_ts_compras['date'], test_ts_compras['Compras'], color = 'green')\n",
    "ax[1,0].plot(lgbm_compras_mae['date'], lgbm_compras_mae['pred'], color = 'orange')\n",
    "ax[1,0].set_title('LGBM MAE')\n",
    "\n",
    "ax[1,1].plot(train_ts_compras['date'], train_ts_compras['Compras'], color = 'blue')\n",
    "ax[1,1].plot(test_ts_compras['date'], test_ts_compras['Compras'], color = 'green')\n",
    "ax[1,1].plot(lgbm_compras_rmse['date'], lgbm_compras_rmse['pred'], color = 'orange')\n",
    "ax[1,1].set_title('LGBM RMSE')\n",
    "\n",
    "plt.suptitle('COMPRAS')\n",
    "lines = [plt.Line2D([0], [0], color='blue', lw=2),\n",
    "         plt.Line2D([0], [0], color='green', lw=2),\n",
    "         plt.Line2D([0], [0], color='orange', lw=2)]\n",
    "labels = ['Train', 'Test', 'Predicted']\n",
    "\n",
    "fig.legend(lines, labels, loc='center right')\n",
    "\n",
    "plt.show()"
   ]
  },
  {
   "cell_type": "markdown",
   "id": "3155dab1-b60f-4544-b6ac-ace9adc9c3c6",
   "metadata": {
    "jp-MarkdownHeadingCollapsed": true
   },
   "source": [
    "Como era de esperar, TCN se ajusta mucho mejor (y de manera muy precisa) a las compras de los siguientes cuatro meses. Sin embargo, por la otra parte, LightGBM parece también haber encontrado el patrón pero de manera más tímida. Con las métricas mostradas en la imagen anterior junto cono estas gráficas, se puede determinar que el algoritmo TCN parece ser más viable en esta situación que el algoritmo de LightGBM. Dado que ambos modelos, TCN compras best_MAE y TCN compras best_RMSE son tan parecidos, con métricas tan paredicas y predicciones tan parecidas, se va a elegir TCN compras RMSE que parece que se ajusta ligeramente mejor a los datos de testeo."
   ]
  },
  {
   "cell_type": "code",
   "execution_count": 13,
   "id": "58454784-891c-42b4-a464-ef580420e8d7",
   "metadata": {},
   "outputs": [
    {
     "data": {
      "application/vnd.jupyter.widget-view+json": {
       "model_id": "24911946af4245a68b65c1f3bda22029",
       "version_major": 2,
       "version_minor": 0
      },
      "text/plain": [
       "Downloading artifacts:   0%|          | 0/1 [00:00<?, ?it/s]"
      ]
     },
     "metadata": {},
     "output_type": "display_data"
    },
    {
     "data": {
      "text/html": [
       "<div>\n",
       "<style scoped>\n",
       "    .dataframe tbody tr th:only-of-type {\n",
       "        vertical-align: middle;\n",
       "    }\n",
       "\n",
       "    .dataframe tbody tr th {\n",
       "        vertical-align: top;\n",
       "    }\n",
       "\n",
       "    .dataframe thead th {\n",
       "        text-align: right;\n",
       "    }\n",
       "</style>\n",
       "<table border=\"1\" class=\"dataframe\">\n",
       "  <thead>\n",
       "    <tr style=\"text-align: right;\">\n",
       "      <th></th>\n",
       "      <th>date</th>\n",
       "      <th>pred</th>\n",
       "    </tr>\n",
       "  </thead>\n",
       "  <tbody>\n",
       "    <tr>\n",
       "      <th>5</th>\n",
       "      <td>2024-05-31</td>\n",
       "      <td>20,599</td>\n",
       "    </tr>\n",
       "    <tr>\n",
       "      <th>6</th>\n",
       "      <td>2024-06-30</td>\n",
       "      <td>14,027</td>\n",
       "    </tr>\n",
       "    <tr>\n",
       "      <th>7</th>\n",
       "      <td>2024-07-31</td>\n",
       "      <td>17,243</td>\n",
       "    </tr>\n",
       "  </tbody>\n",
       "</table>\n",
       "</div>"
      ],
      "text/plain": [
       "        date   pred\n",
       "5 2024-05-31 20,599\n",
       "6 2024-06-30 14,027\n",
       "7 2024-07-31 17,243"
      ]
     },
     "execution_count": 13,
     "metadata": {},
     "output_type": "execute_result"
    }
   ],
   "source": [
    "modelo_compras_elegido = get_mlflow_pred('mlflow-artifacts:/e4812a076abd4294b4e238dc8106ce47/5f97f5a5d02e42c8b8c4e7aebdf81d0c/artifacts/predictions/TCN_Compras_best_rmse.csv')\n",
    "modelo_compras_elegido = modelo_compras_elegido.loc[5:7, :].copy() #Se predicen los siguientes tres meses\n",
    "modelo_compras_elegido['date'] = pd.to_datetime(modelo_compras_elegido['date'], format= '%Y-%m-%d')\n",
    "modelo_compras_elegido['pred'] = modelo_compras_elegido['pred'].astype('float32')\n",
    "modelo_compras_elegido"
   ]
  },
  {
   "cell_type": "markdown",
   "id": "c03144e6-93e5-4903-b63f-7c5ed4a5fb0a",
   "metadata": {},
   "source": [
    "## Ventas"
   ]
  },
  {
   "cell_type": "code",
   "execution_count": 13,
   "id": "1dbd043c-a035-46d9-8675-a5738bad63fa",
   "metadata": {},
   "outputs": [
    {
     "data": {
      "text/html": [
       "<div>\n",
       "<style scoped>\n",
       "    .dataframe tbody tr th:only-of-type {\n",
       "        vertical-align: middle;\n",
       "    }\n",
       "\n",
       "    .dataframe tbody tr th {\n",
       "        vertical-align: top;\n",
       "    }\n",
       "\n",
       "    .dataframe thead th {\n",
       "        text-align: right;\n",
       "    }\n",
       "</style>\n",
       "<table border=\"1\" class=\"dataframe\">\n",
       "  <thead>\n",
       "    <tr style=\"text-align: right;\">\n",
       "      <th></th>\n",
       "      <th>date</th>\n",
       "      <th>Ventas</th>\n",
       "    </tr>\n",
       "  </thead>\n",
       "  <tbody>\n",
       "    <tr>\n",
       "      <th>0</th>\n",
       "      <td>2017-09-30</td>\n",
       "      <td>5,783</td>\n",
       "    </tr>\n",
       "    <tr>\n",
       "      <th>1</th>\n",
       "      <td>2017-10-31</td>\n",
       "      <td>20,854</td>\n",
       "    </tr>\n",
       "    <tr>\n",
       "      <th>2</th>\n",
       "      <td>2017-11-30</td>\n",
       "      <td>14,191</td>\n",
       "    </tr>\n",
       "    <tr>\n",
       "      <th>3</th>\n",
       "      <td>2017-12-31</td>\n",
       "      <td>7,595</td>\n",
       "    </tr>\n",
       "    <tr>\n",
       "      <th>4</th>\n",
       "      <td>2018-01-31</td>\n",
       "      <td>12,358</td>\n",
       "    </tr>\n",
       "    <tr>\n",
       "      <th>...</th>\n",
       "      <td>...</td>\n",
       "      <td>...</td>\n",
       "    </tr>\n",
       "    <tr>\n",
       "      <th>71</th>\n",
       "      <td>2023-08-31</td>\n",
       "      <td>13,443</td>\n",
       "    </tr>\n",
       "    <tr>\n",
       "      <th>72</th>\n",
       "      <td>2023-09-30</td>\n",
       "      <td>16,520</td>\n",
       "    </tr>\n",
       "    <tr>\n",
       "      <th>73</th>\n",
       "      <td>2023-10-31</td>\n",
       "      <td>17,195</td>\n",
       "    </tr>\n",
       "    <tr>\n",
       "      <th>74</th>\n",
       "      <td>2023-11-30</td>\n",
       "      <td>13,819</td>\n",
       "    </tr>\n",
       "    <tr>\n",
       "      <th>75</th>\n",
       "      <td>2023-12-31</td>\n",
       "      <td>21,319</td>\n",
       "    </tr>\n",
       "  </tbody>\n",
       "</table>\n",
       "<p>76 rows × 2 columns</p>\n",
       "</div>"
      ],
      "text/plain": [
       "         date  Ventas\n",
       "0  2017-09-30   5,783\n",
       "1  2017-10-31  20,854\n",
       "2  2017-11-30  14,191\n",
       "3  2017-12-31   7,595\n",
       "4  2018-01-31  12,358\n",
       "..        ...     ...\n",
       "71 2023-08-31  13,443\n",
       "72 2023-09-30  16,520\n",
       "73 2023-10-31  17,195\n",
       "74 2023-11-30  13,819\n",
       "75 2023-12-31  21,319\n",
       "\n",
       "[76 rows x 2 columns]"
      ]
     },
     "execution_count": 13,
     "metadata": {},
     "output_type": "execute_result"
    }
   ],
   "source": [
    "train_ts_ventas = mgts.get_ts('Ventas', type = 'train')\n",
    "train_ts_ventas"
   ]
  },
  {
   "cell_type": "code",
   "execution_count": 14,
   "id": "6f393169-76ad-4daf-87ac-873041ed61cf",
   "metadata": {},
   "outputs": [
    {
     "data": {
      "text/html": [
       "<div>\n",
       "<style scoped>\n",
       "    .dataframe tbody tr th:only-of-type {\n",
       "        vertical-align: middle;\n",
       "    }\n",
       "\n",
       "    .dataframe tbody tr th {\n",
       "        vertical-align: top;\n",
       "    }\n",
       "\n",
       "    .dataframe thead th {\n",
       "        text-align: right;\n",
       "    }\n",
       "</style>\n",
       "<table border=\"1\" class=\"dataframe\">\n",
       "  <thead>\n",
       "    <tr style=\"text-align: right;\">\n",
       "      <th></th>\n",
       "      <th>date</th>\n",
       "      <th>Ventas</th>\n",
       "    </tr>\n",
       "  </thead>\n",
       "  <tbody>\n",
       "    <tr>\n",
       "      <th>0</th>\n",
       "      <td>2024-01-31</td>\n",
       "      <td>26,512</td>\n",
       "    </tr>\n",
       "    <tr>\n",
       "      <th>1</th>\n",
       "      <td>2024-02-29</td>\n",
       "      <td>22,967</td>\n",
       "    </tr>\n",
       "    <tr>\n",
       "      <th>2</th>\n",
       "      <td>2024-03-31</td>\n",
       "      <td>18,972</td>\n",
       "    </tr>\n",
       "    <tr>\n",
       "      <th>3</th>\n",
       "      <td>2024-04-30</td>\n",
       "      <td>17,455</td>\n",
       "    </tr>\n",
       "    <tr>\n",
       "      <th>4</th>\n",
       "      <td>2024-05-31</td>\n",
       "      <td>0</td>\n",
       "    </tr>\n",
       "  </tbody>\n",
       "</table>\n",
       "</div>"
      ],
      "text/plain": [
       "        date  Ventas\n",
       "0 2024-01-31  26,512\n",
       "1 2024-02-29  22,967\n",
       "2 2024-03-31  18,972\n",
       "3 2024-04-30  17,455\n",
       "4 2024-05-31       0"
      ]
     },
     "execution_count": 14,
     "metadata": {},
     "output_type": "execute_result"
    }
   ],
   "source": [
    "test_ts_ventas = mgts.get_ts(\"Ventas\", type = 'test')\n",
    "test_ts_ventas"
   ]
  },
  {
   "cell_type": "code",
   "execution_count": 15,
   "id": "72a66370-453d-4add-bbed-5d84ef73f424",
   "metadata": {},
   "outputs": [
    {
     "data": {
      "text/html": [
       "<div>\n",
       "<style scoped>\n",
       "    .dataframe tbody tr th:only-of-type {\n",
       "        vertical-align: middle;\n",
       "    }\n",
       "\n",
       "    .dataframe tbody tr th {\n",
       "        vertical-align: top;\n",
       "    }\n",
       "\n",
       "    .dataframe thead th {\n",
       "        text-align: right;\n",
       "    }\n",
       "</style>\n",
       "<table border=\"1\" class=\"dataframe\">\n",
       "  <thead>\n",
       "    <tr style=\"text-align: right;\">\n",
       "      <th></th>\n",
       "      <th>date</th>\n",
       "      <th>Ventas</th>\n",
       "    </tr>\n",
       "  </thead>\n",
       "  <tbody>\n",
       "    <tr>\n",
       "      <th>0</th>\n",
       "      <td>2024-01-31</td>\n",
       "      <td>26,512</td>\n",
       "    </tr>\n",
       "    <tr>\n",
       "      <th>1</th>\n",
       "      <td>2024-02-29</td>\n",
       "      <td>22,967</td>\n",
       "    </tr>\n",
       "    <tr>\n",
       "      <th>2</th>\n",
       "      <td>2024-03-31</td>\n",
       "      <td>18,972</td>\n",
       "    </tr>\n",
       "    <tr>\n",
       "      <th>3</th>\n",
       "      <td>2024-04-30</td>\n",
       "      <td>17,455</td>\n",
       "    </tr>\n",
       "  </tbody>\n",
       "</table>\n",
       "</div>"
      ],
      "text/plain": [
       "        date  Ventas\n",
       "0 2024-01-31  26,512\n",
       "1 2024-02-29  22,967\n",
       "2 2024-03-31  18,972\n",
       "3 2024-04-30  17,455"
      ]
     },
     "execution_count": 15,
     "metadata": {},
     "output_type": "execute_result"
    }
   ],
   "source": [
    "# month of may gets discarded\n",
    "test_ts_ventas = test_ts_ventas.loc[0:3,:]\n",
    "test_ts_ventas"
   ]
  },
  {
   "cell_type": "code",
   "execution_count": 16,
   "id": "ba5b82ef-b4ad-4a5d-bbc9-87b2fd1fad76",
   "metadata": {},
   "outputs": [
    {
     "data": {
      "application/vnd.jupyter.widget-view+json": {
       "model_id": "07efb2c218ed41b98fc0ca15cb922725",
       "version_major": 2,
       "version_minor": 0
      },
      "text/plain": [
       "Downloading artifacts:   0%|          | 0/1 [00:00<?, ?it/s]"
      ]
     },
     "metadata": {},
     "output_type": "display_data"
    },
    {
     "data": {
      "text/html": [
       "<div>\n",
       "<style scoped>\n",
       "    .dataframe tbody tr th:only-of-type {\n",
       "        vertical-align: middle;\n",
       "    }\n",
       "\n",
       "    .dataframe tbody tr th {\n",
       "        vertical-align: top;\n",
       "    }\n",
       "\n",
       "    .dataframe thead th {\n",
       "        text-align: right;\n",
       "    }\n",
       "</style>\n",
       "<table border=\"1\" class=\"dataframe\">\n",
       "  <thead>\n",
       "    <tr style=\"text-align: right;\">\n",
       "      <th></th>\n",
       "      <th>date</th>\n",
       "      <th>pred</th>\n",
       "    </tr>\n",
       "  </thead>\n",
       "  <tbody>\n",
       "    <tr>\n",
       "      <th>1</th>\n",
       "      <td>2024-01-31</td>\n",
       "      <td>14,482</td>\n",
       "    </tr>\n",
       "    <tr>\n",
       "      <th>2</th>\n",
       "      <td>2024-02-29</td>\n",
       "      <td>14,675</td>\n",
       "    </tr>\n",
       "    <tr>\n",
       "      <th>3</th>\n",
       "      <td>2024-03-31</td>\n",
       "      <td>14,857</td>\n",
       "    </tr>\n",
       "    <tr>\n",
       "      <th>4</th>\n",
       "      <td>2024-04-30</td>\n",
       "      <td>15,049</td>\n",
       "    </tr>\n",
       "  </tbody>\n",
       "</table>\n",
       "</div>"
      ],
      "text/plain": [
       "        date   pred\n",
       "1 2024-01-31 14,482\n",
       "2 2024-02-29 14,675\n",
       "3 2024-03-31 14,857\n",
       "4 2024-04-30 15,049"
      ]
     },
     "execution_count": 16,
     "metadata": {},
     "output_type": "execute_result"
    }
   ],
   "source": [
    "TCN_ventas_mae = get_mlflow_pred('mlflow-artifacts:/24b7234b0fc04727a39b4e7add015333/d802db2669a24302aa62d6d97d20c621/artifacts/predictions/TCN_Ventas_best_mae.csv')\n",
    "TCN_ventas_mae = transform_dataset(TCN_ventas_mae)\n",
    "TCN_ventas_mae"
   ]
  },
  {
   "cell_type": "code",
   "execution_count": 17,
   "id": "f4a54094-a4ed-4829-8fe5-74852873c8da",
   "metadata": {},
   "outputs": [
    {
     "data": {
      "application/vnd.jupyter.widget-view+json": {
       "model_id": "0c3b0b2ce07543439e34a42066845fad",
       "version_major": 2,
       "version_minor": 0
      },
      "text/plain": [
       "Downloading artifacts:   0%|          | 0/1 [00:00<?, ?it/s]"
      ]
     },
     "metadata": {},
     "output_type": "display_data"
    },
    {
     "data": {
      "text/html": [
       "<div>\n",
       "<style scoped>\n",
       "    .dataframe tbody tr th:only-of-type {\n",
       "        vertical-align: middle;\n",
       "    }\n",
       "\n",
       "    .dataframe tbody tr th {\n",
       "        vertical-align: top;\n",
       "    }\n",
       "\n",
       "    .dataframe thead th {\n",
       "        text-align: right;\n",
       "    }\n",
       "</style>\n",
       "<table border=\"1\" class=\"dataframe\">\n",
       "  <thead>\n",
       "    <tr style=\"text-align: right;\">\n",
       "      <th></th>\n",
       "      <th>date</th>\n",
       "      <th>pred</th>\n",
       "    </tr>\n",
       "  </thead>\n",
       "  <tbody>\n",
       "    <tr>\n",
       "      <th>1</th>\n",
       "      <td>2024-01-31</td>\n",
       "      <td>13,355</td>\n",
       "    </tr>\n",
       "    <tr>\n",
       "      <th>2</th>\n",
       "      <td>2024-02-29</td>\n",
       "      <td>13,028</td>\n",
       "    </tr>\n",
       "    <tr>\n",
       "      <th>3</th>\n",
       "      <td>2024-03-31</td>\n",
       "      <td>12,743</td>\n",
       "    </tr>\n",
       "    <tr>\n",
       "      <th>4</th>\n",
       "      <td>2024-04-30</td>\n",
       "      <td>12,466</td>\n",
       "    </tr>\n",
       "  </tbody>\n",
       "</table>\n",
       "</div>"
      ],
      "text/plain": [
       "        date   pred\n",
       "1 2024-01-31 13,355\n",
       "2 2024-02-29 13,028\n",
       "3 2024-03-31 12,743\n",
       "4 2024-04-30 12,466"
      ]
     },
     "execution_count": 17,
     "metadata": {},
     "output_type": "execute_result"
    }
   ],
   "source": [
    "TCN_ventas_rmse = get_mlflow_pred('mlflow-artifacts:/24b7234b0fc04727a39b4e7add015333/702d3fede7044069ae4522a1d9fba86d/artifacts/predictions/TCN_Ventas_best_rmse.csv')\n",
    "TCN_ventas_rmse = transform_dataset(TCN_ventas_rmse)\n",
    "TCN_ventas_rmse"
   ]
  },
  {
   "cell_type": "code",
   "execution_count": 18,
   "id": "b96c8f1f-647b-4c81-95e9-89749703efed",
   "metadata": {},
   "outputs": [
    {
     "data": {
      "application/vnd.jupyter.widget-view+json": {
       "model_id": "f263e0ce3c21418c9101a42ac06f4b70",
       "version_major": 2,
       "version_minor": 0
      },
      "text/plain": [
       "Downloading artifacts:   0%|          | 0/1 [00:00<?, ?it/s]"
      ]
     },
     "metadata": {},
     "output_type": "display_data"
    },
    {
     "data": {
      "text/html": [
       "<div>\n",
       "<style scoped>\n",
       "    .dataframe tbody tr th:only-of-type {\n",
       "        vertical-align: middle;\n",
       "    }\n",
       "\n",
       "    .dataframe tbody tr th {\n",
       "        vertical-align: top;\n",
       "    }\n",
       "\n",
       "    .dataframe thead th {\n",
       "        text-align: right;\n",
       "    }\n",
       "</style>\n",
       "<table border=\"1\" class=\"dataframe\">\n",
       "  <thead>\n",
       "    <tr style=\"text-align: right;\">\n",
       "      <th></th>\n",
       "      <th>date</th>\n",
       "      <th>pred</th>\n",
       "    </tr>\n",
       "  </thead>\n",
       "  <tbody>\n",
       "    <tr>\n",
       "      <th>1</th>\n",
       "      <td>2024-01-31</td>\n",
       "      <td>14,252</td>\n",
       "    </tr>\n",
       "    <tr>\n",
       "      <th>2</th>\n",
       "      <td>2024-02-29</td>\n",
       "      <td>14,252</td>\n",
       "    </tr>\n",
       "    <tr>\n",
       "      <th>3</th>\n",
       "      <td>2024-03-31</td>\n",
       "      <td>14,252</td>\n",
       "    </tr>\n",
       "    <tr>\n",
       "      <th>4</th>\n",
       "      <td>2024-04-30</td>\n",
       "      <td>14,252</td>\n",
       "    </tr>\n",
       "  </tbody>\n",
       "</table>\n",
       "</div>"
      ],
      "text/plain": [
       "        date   pred\n",
       "1 2024-01-31 14,252\n",
       "2 2024-02-29 14,252\n",
       "3 2024-03-31 14,252\n",
       "4 2024-04-30 14,252"
      ]
     },
     "execution_count": 18,
     "metadata": {},
     "output_type": "execute_result"
    }
   ],
   "source": [
    "lgbm_ventas_mae = get_mlflow_pred('mlflow-artifacts:/703c637793b24acb87079f949bd98ee1/ee8bd97b8a6e4d78925b4d62e9011957/artifacts/predictions/LightGBM_Ventas_best_mae.csv')\n",
    "lgbm_ventas_mae = transform_dataset(lgbm_ventas_mae)\n",
    "lgbm_ventas_mae"
   ]
  },
  {
   "cell_type": "code",
   "execution_count": 19,
   "id": "fd7b1364-3329-4599-9286-75e3d1589721",
   "metadata": {},
   "outputs": [
    {
     "data": {
      "application/vnd.jupyter.widget-view+json": {
       "model_id": "340935176a984f5199ab1ca159426117",
       "version_major": 2,
       "version_minor": 0
      },
      "text/plain": [
       "Downloading artifacts:   0%|          | 0/1 [00:00<?, ?it/s]"
      ]
     },
     "metadata": {},
     "output_type": "display_data"
    },
    {
     "data": {
      "text/html": [
       "<div>\n",
       "<style scoped>\n",
       "    .dataframe tbody tr th:only-of-type {\n",
       "        vertical-align: middle;\n",
       "    }\n",
       "\n",
       "    .dataframe tbody tr th {\n",
       "        vertical-align: top;\n",
       "    }\n",
       "\n",
       "    .dataframe thead th {\n",
       "        text-align: right;\n",
       "    }\n",
       "</style>\n",
       "<table border=\"1\" class=\"dataframe\">\n",
       "  <thead>\n",
       "    <tr style=\"text-align: right;\">\n",
       "      <th></th>\n",
       "      <th>date</th>\n",
       "      <th>pred</th>\n",
       "    </tr>\n",
       "  </thead>\n",
       "  <tbody>\n",
       "    <tr>\n",
       "      <th>1</th>\n",
       "      <td>2024-01-31</td>\n",
       "      <td>14,278</td>\n",
       "    </tr>\n",
       "    <tr>\n",
       "      <th>2</th>\n",
       "      <td>2024-02-29</td>\n",
       "      <td>14,278</td>\n",
       "    </tr>\n",
       "    <tr>\n",
       "      <th>3</th>\n",
       "      <td>2024-03-31</td>\n",
       "      <td>14,278</td>\n",
       "    </tr>\n",
       "    <tr>\n",
       "      <th>4</th>\n",
       "      <td>2024-04-30</td>\n",
       "      <td>14,278</td>\n",
       "    </tr>\n",
       "  </tbody>\n",
       "</table>\n",
       "</div>"
      ],
      "text/plain": [
       "        date   pred\n",
       "1 2024-01-31 14,278\n",
       "2 2024-02-29 14,278\n",
       "3 2024-03-31 14,278\n",
       "4 2024-04-30 14,278"
      ]
     },
     "execution_count": 19,
     "metadata": {},
     "output_type": "execute_result"
    }
   ],
   "source": [
    "lgbm_ventas_rmse = get_mlflow_pred('mlflow-artifacts:/703c637793b24acb87079f949bd98ee1/d3a2dc8cdfd64e239205abca345c18a2/artifacts/predictions/LightGBM_Ventas_best_rmse.csv')\n",
    "lgbm_ventas_rmse = transform_dataset(lgbm_ventas_rmse)\n",
    "lgbm_ventas_rmse"
   ]
  },
  {
   "cell_type": "markdown",
   "id": "d88f47ca-105b-4041-94bb-989a38c12cd2",
   "metadata": {},
   "source": [
    "Al igual que antes, se van a comparar los mismos algoritmos, con los mismos criterios anteriormente dichos\n",
    "* TCN ventas best_MAE\n",
    "* TCN ventas best_RMSE\n",
    "* LightGBM ventas best_MAE\n",
    "* LightGBM ventas best_RMSE"
   ]
  },
  {
   "cell_type": "markdown",
   "id": "9c67a4d6-cd76-4e9d-b403-fa70096d9133",
   "metadata": {},
   "source": [
    "<p align=\"center\">\n",
    "  <img src=\"../../Memoria/imgs/metrics_ventas_tcn.png\" alt=\"Imagen 1\" width=\"45%\" style=\"margin-right: 10px;\">\n",
    "  <img src=\"../../Memoria/imgs/metrics_ventas_lgbm.png\" alt=\"Imagen 2\" width=\"45%\">\n",
    "</p>"
   ]
  },
  {
   "cell_type": "markdown",
   "id": "a8e0d7a8-eb27-47d9-90c7-26b4041eab27",
   "metadata": {},
   "source": [
    "En una primera instancia, por el valor de las métricas, parece que TCN ventas best_MAE es el mejor modelo. De nuevo, al igual que antes, se grafican los resultados predichos con los reales para ver si algún algoritmo ha conseguido aprender la tendencia o estacionalidad de la serie temporal de ventas."
   ]
  },
  {
   "cell_type": "code",
   "execution_count": 20,
   "id": "b5dd0034-7cd1-4761-b9e3-091a21cb1b30",
   "metadata": {},
   "outputs": [
    {
     "data": {
      "image/png": "[encoded data removed]",
      "text/plain": [
       "<Figure size 1500x1000 with 4 Axes>"
      ]
     },
     "metadata": {},
     "output_type": "display_data"
    }
   ],
   "source": [
    "plt.close() # since  in the my_future.py I have the next line: matplotlib.use('Agg'), I need to ensrue plt is empty before plotting\n",
    "fig, ax = plt.subplots(2,2, figsize = (15,10))\n",
    "\n",
    "ax[0,0].plot(train_ts_ventas['date'], train_ts_ventas['Ventas'], color = 'blue')\n",
    "ax[0,0].plot(test_ts_ventas['date'], test_ts_ventas['Ventas'], color = 'green')\n",
    "ax[0,0].plot(TCN_ventas_mae['date'], TCN_ventas_mae['pred'], color = 'orange')\n",
    "ax[0,0].set_title('TCN MAE')\n",
    "\n",
    "ax[0,1].plot(train_ts_ventas['date'], train_ts_ventas['Ventas'], color = 'blue')\n",
    "ax[0,1].plot(test_ts_ventas['date'], test_ts_ventas['Ventas'], color = 'green')\n",
    "ax[0,1].plot(TCN_ventas_mae['date'], TCN_ventas_mae['pred'], color = 'orange')\n",
    "ax[0,1].set_title('TCN RMSE')\n",
    "\n",
    "ax[1,0].plot(train_ts_ventas['date'], train_ts_ventas['Ventas'], color = 'blue')\n",
    "ax[1,0].plot(test_ts_ventas['date'], test_ts_ventas['Ventas'], color = 'green')\n",
    "ax[1,0].plot(lgbm_ventas_mae['date'], lgbm_ventas_mae['pred'], color = 'orange')\n",
    "ax[1,0].set_title('LGBM MAE')\n",
    "\n",
    "ax[1,1].plot(train_ts_ventas['date'], train_ts_ventas['Ventas'], color = 'blue')\n",
    "ax[1,1].plot(test_ts_ventas['date'], test_ts_ventas['Ventas'], color = 'green')\n",
    "ax[1,1].plot(lgbm_ventas_rmse['date'], lgbm_ventas_rmse['pred'], color = 'orange')\n",
    "ax[1,1].set_title('LGBM RMSE')\n",
    "\n",
    "plt.suptitle('VENTAS')\n",
    "\n",
    "lines = [plt.Line2D([0], [0], color='blue', lw=2),\n",
    "         plt.Line2D([0], [0], color='green', lw=2),\n",
    "         plt.Line2D([0], [0], color='orange', lw=2)]\n",
    "labels = ['Train', 'Test', 'Predicted']\n",
    "\n",
    "fig.legend(lines, labels, loc='center right')\n",
    "\n",
    "plt.show()"
   ]
  },
  {
   "cell_type": "markdown",
   "id": "6fdd37ba-77fb-4093-9cb0-a3eb3e682436",
   "metadata": {},
   "source": [
    "En este caso, no parece que ninguno de los modelos haya conseguido encontrar ningún patrón, ni se ajuste bien a la tendencia de la serie temporal. Un esudio en profundidad y análisis de los modelos, más entrenamiento, otros enfoques y más y mejores recursos serían necesarios para poder obtener unos resultados mejores. Se elige el modelo TCN ventas best_MAE como \"el mejor modelo\" de los cuatro y será el que se use en las predicciones  del dashboard."
   ]
  },
  {
   "cell_type": "code",
   "execution_count": 22,
   "id": "858f25b6-812d-42c9-809c-2f8bbf791608",
   "metadata": {},
   "outputs": [
    {
     "data": {
      "application/vnd.jupyter.widget-view+json": {
       "model_id": "3560d98707f84d72bf6e6e0630f07d69",
       "version_major": 2,
       "version_minor": 0
      },
      "text/plain": [
       "Downloading artifacts:   0%|          | 0/1 [00:00<?, ?it/s]"
      ]
     },
     "metadata": {},
     "output_type": "display_data"
    },
    {
     "data": {
      "text/html": [
       "<div>\n",
       "<style scoped>\n",
       "    .dataframe tbody tr th:only-of-type {\n",
       "        vertical-align: middle;\n",
       "    }\n",
       "\n",
       "    .dataframe tbody tr th {\n",
       "        vertical-align: top;\n",
       "    }\n",
       "\n",
       "    .dataframe thead th {\n",
       "        text-align: right;\n",
       "    }\n",
       "</style>\n",
       "<table border=\"1\" class=\"dataframe\">\n",
       "  <thead>\n",
       "    <tr style=\"text-align: right;\">\n",
       "      <th></th>\n",
       "      <th>date</th>\n",
       "      <th>pred</th>\n",
       "    </tr>\n",
       "  </thead>\n",
       "  <tbody>\n",
       "    <tr>\n",
       "      <th>5</th>\n",
       "      <td>2024-05-31</td>\n",
       "      <td>15,247</td>\n",
       "    </tr>\n",
       "    <tr>\n",
       "      <th>6</th>\n",
       "      <td>2024-06-30</td>\n",
       "      <td>15,447</td>\n",
       "    </tr>\n",
       "    <tr>\n",
       "      <th>7</th>\n",
       "      <td>2024-07-31</td>\n",
       "      <td>15,650</td>\n",
       "    </tr>\n",
       "  </tbody>\n",
       "</table>\n",
       "</div>"
      ],
      "text/plain": [
       "        date   pred\n",
       "5 2024-05-31 15,247\n",
       "6 2024-06-30 15,447\n",
       "7 2024-07-31 15,650"
      ]
     },
     "execution_count": 22,
     "metadata": {},
     "output_type": "execute_result"
    }
   ],
   "source": [
    "modelo_ventas_elegido = get_mlflow_pred('mlflow-artifacts:/24b7234b0fc04727a39b4e7add015333/d802db2669a24302aa62d6d97d20c621/artifacts/predictions/TCN_Ventas_best_mae.csv')\n",
    "modelo_ventas_elegido = modelo_ventas_elegido.loc[5:7, :].copy() #Se predicen los siguientes tres meses\n",
    "modelo_ventas_elegido['date'] = pd.to_datetime(modelo_ventas_elegido['date'], format= '%Y-%m-%d')\n",
    "modelo_ventas_elegido['pred'] = modelo_ventas_elegido['pred'].astype('float32')\n",
    "modelo_ventas_elegido"
   ]
  },
  {
   "cell_type": "code",
   "execution_count": 23,
   "id": "f6990884-7e6f-4e85-8a2e-e4cbb98f0d59",
   "metadata": {
    "scrolled": true
   },
   "outputs": [
    {
     "data": {
      "text/html": [
       "<div>\n",
       "<style scoped>\n",
       "    .dataframe tbody tr th:only-of-type {\n",
       "        vertical-align: middle;\n",
       "    }\n",
       "\n",
       "    .dataframe tbody tr th {\n",
       "        vertical-align: top;\n",
       "    }\n",
       "\n",
       "    .dataframe thead th {\n",
       "        text-align: right;\n",
       "    }\n",
       "</style>\n",
       "<table border=\"1\" class=\"dataframe\">\n",
       "  <thead>\n",
       "    <tr style=\"text-align: right;\">\n",
       "      <th></th>\n",
       "      <th>ID</th>\n",
       "      <th>Fecha</th>\n",
       "      <th>Cuenta</th>\n",
       "      <th>NoCuenta</th>\n",
       "      <th>Debe</th>\n",
       "      <th>Haber</th>\n",
       "      <th>Entidad</th>\n",
       "      <th>Compras</th>\n",
       "      <th>Ventas</th>\n",
       "      <th>NoGrupo</th>\n",
       "      <th>type</th>\n",
       "    </tr>\n",
       "  </thead>\n",
       "  <tbody>\n",
       "    <tr>\n",
       "      <th>0</th>\n",
       "      <td>0</td>\n",
       "      <td>25/09/2017</td>\n",
       "      <td>Capital social</td>\n",
       "      <td>100</td>\n",
       "      <td>0</td>\n",
       "      <td>1,500</td>\n",
       "      <td>Allison Hill</td>\n",
       "      <td>0</td>\n",
       "      <td>0</td>\n",
       "      <td>100</td>\n",
       "      <td>Actual</td>\n",
       "    </tr>\n",
       "    <tr>\n",
       "      <th>1</th>\n",
       "      <td>1</td>\n",
       "      <td>25/09/2017</td>\n",
       "      <td>BBVA</td>\n",
       "      <td>572</td>\n",
       "      <td>1,500</td>\n",
       "      <td>0</td>\n",
       "      <td>Allison Hill</td>\n",
       "      <td>0</td>\n",
       "      <td>0</td>\n",
       "      <td>500</td>\n",
       "      <td>Actual</td>\n",
       "    </tr>\n",
       "    <tr>\n",
       "      <th>2</th>\n",
       "      <td>2</td>\n",
       "      <td>25/09/2017</td>\n",
       "      <td>Capital social</td>\n",
       "      <td>100</td>\n",
       "      <td>0</td>\n",
       "      <td>1,500</td>\n",
       "      <td>Noah Rhodes</td>\n",
       "      <td>0</td>\n",
       "      <td>0</td>\n",
       "      <td>100</td>\n",
       "      <td>Actual</td>\n",
       "    </tr>\n",
       "    <tr>\n",
       "      <th>3</th>\n",
       "      <td>3</td>\n",
       "      <td>25/09/2017</td>\n",
       "      <td>BBVA</td>\n",
       "      <td>572</td>\n",
       "      <td>1,500</td>\n",
       "      <td>0</td>\n",
       "      <td>Noah Rhodes</td>\n",
       "      <td>0</td>\n",
       "      <td>0</td>\n",
       "      <td>500</td>\n",
       "      <td>Actual</td>\n",
       "    </tr>\n",
       "    <tr>\n",
       "      <th>4</th>\n",
       "      <td>4</td>\n",
       "      <td>25/09/2017</td>\n",
       "      <td>Acreedores por prestaciones de servicios (euros)</td>\n",
       "      <td>410</td>\n",
       "      <td>0</td>\n",
       "      <td>223</td>\n",
       "      <td>Angie Henderson</td>\n",
       "      <td>0</td>\n",
       "      <td>0</td>\n",
       "      <td>400</td>\n",
       "      <td>Actual</td>\n",
       "    </tr>\n",
       "    <tr>\n",
       "      <th>...</th>\n",
       "      <td>...</td>\n",
       "      <td>...</td>\n",
       "      <td>...</td>\n",
       "      <td>...</td>\n",
       "      <td>...</td>\n",
       "      <td>...</td>\n",
       "      <td>...</td>\n",
       "      <td>...</td>\n",
       "      <td>...</td>\n",
       "      <td>...</td>\n",
       "      <td>...</td>\n",
       "    </tr>\n",
       "    <tr>\n",
       "      <th>39676</th>\n",
       "      <td>39676</td>\n",
       "      <td>31/05/2024</td>\n",
       "      <td>missing</td>\n",
       "      <td>missing</td>\n",
       "      <td>0</td>\n",
       "      <td>0</td>\n",
       "      <td>missing</td>\n",
       "      <td>0</td>\n",
       "      <td>15,247</td>\n",
       "      <td>missing</td>\n",
       "      <td>Predicted</td>\n",
       "    </tr>\n",
       "    <tr>\n",
       "      <th>39677</th>\n",
       "      <td>39677</td>\n",
       "      <td>30/06/2024</td>\n",
       "      <td>missing</td>\n",
       "      <td>missing</td>\n",
       "      <td>0</td>\n",
       "      <td>0</td>\n",
       "      <td>missing</td>\n",
       "      <td>14,027</td>\n",
       "      <td>0</td>\n",
       "      <td>missing</td>\n",
       "      <td>Predicted</td>\n",
       "    </tr>\n",
       "    <tr>\n",
       "      <th>39678</th>\n",
       "      <td>39678</td>\n",
       "      <td>30/06/2024</td>\n",
       "      <td>missing</td>\n",
       "      <td>missing</td>\n",
       "      <td>0</td>\n",
       "      <td>0</td>\n",
       "      <td>missing</td>\n",
       "      <td>0</td>\n",
       "      <td>15,447</td>\n",
       "      <td>missing</td>\n",
       "      <td>Predicted</td>\n",
       "    </tr>\n",
       "    <tr>\n",
       "      <th>39679</th>\n",
       "      <td>39679</td>\n",
       "      <td>31/07/2024</td>\n",
       "      <td>missing</td>\n",
       "      <td>missing</td>\n",
       "      <td>0</td>\n",
       "      <td>0</td>\n",
       "      <td>missing</td>\n",
       "      <td>17,243</td>\n",
       "      <td>0</td>\n",
       "      <td>missing</td>\n",
       "      <td>Predicted</td>\n",
       "    </tr>\n",
       "    <tr>\n",
       "      <th>39680</th>\n",
       "      <td>39680</td>\n",
       "      <td>31/07/2024</td>\n",
       "      <td>missing</td>\n",
       "      <td>missing</td>\n",
       "      <td>0</td>\n",
       "      <td>0</td>\n",
       "      <td>missing</td>\n",
       "      <td>0</td>\n",
       "      <td>15,650</td>\n",
       "      <td>missing</td>\n",
       "      <td>Predicted</td>\n",
       "    </tr>\n",
       "  </tbody>\n",
       "</table>\n",
       "<p>39681 rows × 11 columns</p>\n",
       "</div>"
      ],
      "text/plain": [
       "          ID       Fecha                                            Cuenta  \\\n",
       "0          0  25/09/2017                                    Capital social   \n",
       "1          1  25/09/2017                                              BBVA   \n",
       "2          2  25/09/2017                                    Capital social   \n",
       "3          3  25/09/2017                                              BBVA   \n",
       "4          4  25/09/2017  Acreedores por prestaciones de servicios (euros)   \n",
       "...      ...         ...                                               ...   \n",
       "39676  39676  31/05/2024                                           missing   \n",
       "39677  39677  30/06/2024                                           missing   \n",
       "39678  39678  30/06/2024                                           missing   \n",
       "39679  39679  31/07/2024                                           missing   \n",
       "39680  39680  31/07/2024                                           missing   \n",
       "\n",
       "      NoCuenta  Debe  Haber          Entidad  Compras  Ventas  NoGrupo  \\\n",
       "0          100     0  1,500     Allison Hill        0       0      100   \n",
       "1          572 1,500      0     Allison Hill        0       0      500   \n",
       "2          100     0  1,500      Noah Rhodes        0       0      100   \n",
       "3          572 1,500      0      Noah Rhodes        0       0      500   \n",
       "4          410     0    223  Angie Henderson        0       0      400   \n",
       "...        ...   ...    ...              ...      ...     ...      ...   \n",
       "39676  missing     0      0          missing        0  15,247  missing   \n",
       "39677  missing     0      0          missing   14,027       0  missing   \n",
       "39678  missing     0      0          missing        0  15,447  missing   \n",
       "39679  missing     0      0          missing   17,243       0  missing   \n",
       "39680  missing     0      0          missing        0  15,650  missing   \n",
       "\n",
       "            type  \n",
       "0         Actual  \n",
       "1         Actual  \n",
       "2         Actual  \n",
       "3         Actual  \n",
       "4         Actual  \n",
       "...          ...  \n",
       "39676  Predicted  \n",
       "39677  Predicted  \n",
       "39678  Predicted  \n",
       "39679  Predicted  \n",
       "39680  Predicted  \n",
       "\n",
       "[39681 rows x 11 columns]"
      ]
     },
     "execution_count": 23,
     "metadata": {},
     "output_type": "execute_result"
    }
   ],
   "source": [
    "# this is the dataset that will be pushed to Azure and used by Power BI\n",
    "final_data =maz.prepare_push_dataset(modelo_compras_elegido,\n",
    "                          modelo_ventas_elegido)\n",
    "final_data"
   ]
  },
  {
   "cell_type": "code",
   "execution_count": 24,
   "id": "74159674-6566-4ad7-aac2-a073c2e2a0e7",
   "metadata": {},
   "outputs": [],
   "source": [
    "maz.push_dataset()"
   ]
  }
 ],
 "metadata": {
  "kernelspec": {
   "display_name": "Python 3 (ipykernel)",
   "language": "python",
   "name": "python3"
  },
  "language_info": {
   "codemirror_mode": {
    "name": "ipython",
    "version": 3
   },
   "file_extension": ".py",
   "mimetype": "text/x-python",
   "name": "python",
   "nbconvert_exporter": "python",
   "pygments_lexer": "ipython3",
   "version": "3.12.3"
  }
 },
 "nbformat": 4,
 "nbformat_minor": 5
}
