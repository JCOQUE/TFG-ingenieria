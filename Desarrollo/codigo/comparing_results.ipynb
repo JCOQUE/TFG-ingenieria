{
 "cells": [
  {
   "cell_type": "code",
   "execution_count": 1,
   "id": "e6853030-e6c4-4e53-8f26-712366fa1be4",
   "metadata": {},
   "outputs": [],
   "source": [
    "import pandas as pd\n",
    "import mlflow\n",
    "import dagshub\n",
    "from tfg_module import my_get_time_series as mgts"
   ]
  },
  {
   "cell_type": "code",
   "execution_count": 2,
   "id": "9eb2a137-4769-40a7-b2cb-df54265f2f17",
   "metadata": {},
   "outputs": [
    {
     "data": {
      "text/html": [
       "<pre style=\"white-space:pre;overflow-x:auto;line-height:normal;font-family:Menlo,'DejaVu Sans Mono',consolas,'Courier New',monospace\">Initialized MLflow to track repo <span style=\"color: #008000; text-decoration-color: #008000\">\"JCOQUE/TFG-ingenieria\"</span>\n",
       "</pre>\n"
      ],
      "text/plain": [
       "Initialized MLflow to track repo \u001b[32m\"JCOQUE/TFG-ingenieria\"\u001b[0m\n"
      ]
     },
     "metadata": {},
     "output_type": "display_data"
    },
    {
     "data": {
      "text/html": [
       "<pre style=\"white-space:pre;overflow-x:auto;line-height:normal;font-family:Menlo,'DejaVu Sans Mono',consolas,'Courier New',monospace\">Repository JCOQUE/TFG-ingenieria initialized!\n",
       "</pre>\n"
      ],
      "text/plain": [
       "Repository JCOQUE/TFG-ingenieria initialized!\n"
      ]
     },
     "metadata": {},
     "output_type": "display_data"
    }
   ],
   "source": [
    "dagshub.init(repo_owner='JCOQUE', repo_name='TFG-ingenieria', mlflow=True) \n",
    "mlflow.set_tracking_uri('https://dagshub.com/JCOQUE/TFG-ingenieria.mlflow')"
   ]
  },
  {
   "cell_type": "markdown",
   "id": "65fa33fb-c324-4ff7-966c-93de5527e54e",
   "metadata": {},
   "source": [
    "## Compras"
   ]
  },
  {
   "cell_type": "code",
   "execution_count": 3,
   "id": "8f081043-f68e-4ce9-a909-a262b3d7cbb3",
   "metadata": {},
   "outputs": [
    {
     "data": {
      "application/vnd.jupyter.widget-view+json": {
       "model_id": "4d08c0d917704f56a4bc5598dc9de6db",
       "version_major": 2,
       "version_minor": 0
      },
      "text/plain": [
       "Downloading artifacts:   0%|          | 0/1 [00:00<?, ?it/s]"
      ]
     },
     "metadata": {},
     "output_type": "display_data"
    },
    {
     "name": "stdout",
     "output_type": "stream",
     "text": [
      "    Unnamed: 0        date   pred\n",
      "0            0  2024-01-31  1,587\n",
      "1            1  2024-02-29 10,887\n",
      "2            2  2024-03-31 14,408\n",
      "3            3  2024-04-30 10,880\n",
      "4            4  2024-05-31 12,869\n",
      "5            5  2024-06-30 13,110\n",
      "6            6  2024-07-31 23,424\n",
      "7            7  2024-08-31 16,290\n",
      "8            8  2024-09-30  6,269\n",
      "9            9  2024-10-31 25,737\n",
      "10          10  2024-11-30 15,769\n",
      "11          11  2024-12-31 25,552\n"
     ]
    }
   ],
   "source": [
    "TCN_compras_mae_url = 'mlflow-artifacts:/25707a52310b4902beafe11b4d03a4e7/2df46cf7db164a6290a48344612caa47/artifacts/predictions/LightGBM_Compras_best_rmse.csv'\n",
    "TCN_compras_mae_csv = mlflow.artifacts.download_artifacts(TCN_compras_mae_url)\n",
    "TCN_compras_mae = pd.read_csv(TCN_compras_mae_csv)\n",
    "print(TCN_compras_mae)"
   ]
  },
  {
   "cell_type": "code",
   "execution_count": 4,
   "id": "18e1c988-bafb-411f-bf0c-f3c08defd6c0",
   "metadata": {},
   "outputs": [
    {
     "data": {
      "text/html": [
       "<div>\n",
       "<style scoped>\n",
       "    .dataframe tbody tr th:only-of-type {\n",
       "        vertical-align: middle;\n",
       "    }\n",
       "\n",
       "    .dataframe tbody tr th {\n",
       "        vertical-align: top;\n",
       "    }\n",
       "\n",
       "    .dataframe thead th {\n",
       "        text-align: right;\n",
       "    }\n",
       "</style>\n",
       "<table border=\"1\" class=\"dataframe\">\n",
       "  <thead>\n",
       "    <tr style=\"text-align: right;\">\n",
       "      <th></th>\n",
       "      <th>date</th>\n",
       "      <th>Compras</th>\n",
       "    </tr>\n",
       "  </thead>\n",
       "  <tbody>\n",
       "    <tr>\n",
       "      <th>0</th>\n",
       "      <td>2024-01-31</td>\n",
       "      <td>13,777</td>\n",
       "    </tr>\n",
       "    <tr>\n",
       "      <th>1</th>\n",
       "      <td>2024-02-29</td>\n",
       "      <td>10,422</td>\n",
       "    </tr>\n",
       "    <tr>\n",
       "      <th>2</th>\n",
       "      <td>2024-03-31</td>\n",
       "      <td>17,173</td>\n",
       "    </tr>\n",
       "    <tr>\n",
       "      <th>3</th>\n",
       "      <td>2024-04-30</td>\n",
       "      <td>27,871</td>\n",
       "    </tr>\n",
       "    <tr>\n",
       "      <th>4</th>\n",
       "      <td>2024-05-31</td>\n",
       "      <td>268</td>\n",
       "    </tr>\n",
       "  </tbody>\n",
       "</table>\n",
       "</div>"
      ],
      "text/plain": [
       "        date  Compras\n",
       "0 2024-01-31   13,777\n",
       "1 2024-02-29   10,422\n",
       "2 2024-03-31   17,173\n",
       "3 2024-04-30   27,871\n",
       "4 2024-05-31      268"
      ]
     },
     "execution_count": 4,
     "metadata": {},
     "output_type": "execute_result"
    }
   ],
   "source": [
    "test_ts = mgts.get_ts(\"Compras\", type = 'test')\n",
    "test_ts"
   ]
  },
  {
   "cell_type": "code",
   "execution_count": null,
   "id": "99a916cd-2490-4f53-a12f-04400edd9246",
   "metadata": {},
   "outputs": [],
   "source": []
  },
  {
   "cell_type": "code",
   "execution_count": null,
   "id": "a3060f92-00e4-4030-b224-3d2df58751ac",
   "metadata": {},
   "outputs": [],
   "source": []
  }
 ],
 "metadata": {
  "kernelspec": {
   "display_name": "Python 3 (ipykernel)",
   "language": "python",
   "name": "python3"
  },
  "language_info": {
   "codemirror_mode": {
    "name": "ipython",
    "version": 3
   },
   "file_extension": ".py",
   "mimetype": "text/x-python",
   "name": "python",
   "nbconvert_exporter": "python",
   "pygments_lexer": "ipython3",
   "version": "3.12.3"
  }
 },
 "nbformat": 4,
 "nbformat_minor": 5
}
