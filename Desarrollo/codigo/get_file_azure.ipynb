{
 "cells": [
  {
   "cell_type": "code",
   "execution_count": 12,
   "id": "d7457391-6103-4d67-b07e-07addb7b4bcb",
   "metadata": {},
   "outputs": [],
   "source": [
    "import pandas as pd\n",
    "from azure.storage.blob import BlobServiceClient\n",
    "import os"
   ]
  },
  {
   "cell_type": "code",
   "execution_count": 5,
   "id": "f1a66d8d-8271-48c3-b316-d7ac3277d746",
   "metadata": {},
   "outputs": [],
   "source": [
    "account_name = \"blobstoragetfginso\"\n",
    "account_key = \"gd5nuYRJgr/SLkHdH7PIhh72OLQX/kwKuDlF5yO3grgfrrfyFigneBBd5VJPEuYZC6qlgzTBlvBS+AStpXySag==\"\n",
    "connection_string = f\"DefaultEndpointsProtocol=https;AccountName={account_name};AccountKey={account_key};EndpointSuffix=core.windows.net\"\n",
    "container_name = \"containertfginso1\"\n",
    "blob_name = \"diario.csv\""
   ]
  },
  {
   "cell_type": "code",
   "execution_count": 6,
   "id": "c2808200-968a-4787-ae5f-a35f1769a581",
   "metadata": {},
   "outputs": [],
   "source": [
    "blob_service_client = BlobServiceClient.from_connection_string(connection_string)\n",
    "container_client = blob_service_client.get_container_client(container_name)\n",
    "blob_client = container_client.get_blob_client(blob_name)"
   ]
  },
  {
   "cell_type": "code",
   "execution_count": 8,
   "id": "c3331467-82ad-4a3d-877c-90079a6c1a9b",
   "metadata": {},
   "outputs": [
    {
     "data": {
      "text/html": [
       "<div>\n",
       "<style scoped>\n",
       "    .dataframe tbody tr th:only-of-type {\n",
       "        vertical-align: middle;\n",
       "    }\n",
       "\n",
       "    .dataframe tbody tr th {\n",
       "        vertical-align: top;\n",
       "    }\n",
       "\n",
       "    .dataframe thead th {\n",
       "        text-align: right;\n",
       "    }\n",
       "</style>\n",
       "<table border=\"1\" class=\"dataframe\">\n",
       "  <thead>\n",
       "    <tr style=\"text-align: right;\">\n",
       "      <th></th>\n",
       "      <th>Movimiento</th>\n",
       "      <th>Fecha</th>\n",
       "      <th>Cuenta</th>\n",
       "      <th>NoCuenta</th>\n",
       "      <th>Debe</th>\n",
       "      <th>Haber</th>\n",
       "      <th>Entidad</th>\n",
       "    </tr>\n",
       "  </thead>\n",
       "  <tbody>\n",
       "    <tr>\n",
       "      <th>0</th>\n",
       "      <td>BNK1/2017/0054</td>\n",
       "      <td>2017-09-25</td>\n",
       "      <td>Capital social</td>\n",
       "      <td>100000</td>\n",
       "      <td>0.0</td>\n",
       "      <td>1500.0</td>\n",
       "      <td>Allison Hill</td>\n",
       "    </tr>\n",
       "    <tr>\n",
       "      <th>1</th>\n",
       "      <td>BNK1/2017/0054</td>\n",
       "      <td>2017-09-25</td>\n",
       "      <td>BBVA</td>\n",
       "      <td>572001</td>\n",
       "      <td>1500.0</td>\n",
       "      <td>0.0</td>\n",
       "      <td>Allison Hill</td>\n",
       "    </tr>\n",
       "    <tr>\n",
       "      <th>2</th>\n",
       "      <td>BNK1/2017/0053</td>\n",
       "      <td>2017-09-25</td>\n",
       "      <td>Capital social</td>\n",
       "      <td>100000</td>\n",
       "      <td>0.0</td>\n",
       "      <td>1500.0</td>\n",
       "      <td>Noah Rhodes</td>\n",
       "    </tr>\n",
       "    <tr>\n",
       "      <th>3</th>\n",
       "      <td>BNK1/2017/0053</td>\n",
       "      <td>2017-09-25</td>\n",
       "      <td>BBVA</td>\n",
       "      <td>572001</td>\n",
       "      <td>1500.0</td>\n",
       "      <td>0.0</td>\n",
       "      <td>Noah Rhodes</td>\n",
       "    </tr>\n",
       "    <tr>\n",
       "      <th>4</th>\n",
       "      <td>BILL/2017/0001</td>\n",
       "      <td>2017-09-25</td>\n",
       "      <td>Acreedores por prestaciones de servicios (euros)</td>\n",
       "      <td>410000</td>\n",
       "      <td>0.0</td>\n",
       "      <td>223.1</td>\n",
       "      <td>Angie Henderson</td>\n",
       "    </tr>\n",
       "  </tbody>\n",
       "</table>\n",
       "</div>"
      ],
      "text/plain": [
       "       Movimiento       Fecha  \\\n",
       "0  BNK1/2017/0054  2017-09-25   \n",
       "1  BNK1/2017/0054  2017-09-25   \n",
       "2  BNK1/2017/0053  2017-09-25   \n",
       "3  BNK1/2017/0053  2017-09-25   \n",
       "4  BILL/2017/0001  2017-09-25   \n",
       "\n",
       "                                             Cuenta  NoCuenta    Debe   Haber  \\\n",
       "0                                    Capital social    100000     0.0  1500.0   \n",
       "1                                              BBVA    572001  1500.0     0.0   \n",
       "2                                    Capital social    100000     0.0  1500.0   \n",
       "3                                              BBVA    572001  1500.0     0.0   \n",
       "4  Acreedores por prestaciones de servicios (euros)    410000     0.0   223.1   \n",
       "\n",
       "           Entidad  \n",
       "0     Allison Hill  \n",
       "1     Allison Hill  \n",
       "2      Noah Rhodes  \n",
       "3      Noah Rhodes  \n",
       "4  Angie Henderson  "
      ]
     },
     "execution_count": 8,
     "metadata": {},
     "output_type": "execute_result"
    }
   ],
   "source": [
    "dataset = pd.read_csv(blob_client.download_blob())\n",
    "dataset.head()"
   ]
  },
  {
   "cell_type": "code",
   "execution_count": 17,
   "id": "7d74738a-f137-4a42-8b18-947e70b559a7",
   "metadata": {},
   "outputs": [],
   "source": [
    "file_to_upload = 'check_csv.csv'\n",
    "def upload_blob_file(blob_service_client, container_name):\n",
    "    container_client = blob_service_client.get_container_client(container=container_name)\n",
    "    with open(file=os.path.join('C:/Users/jcoqu/OneDrive/Documents/U-tad/Curso5/TFG/TFG_INSO/Desarrollo/datasets', file_to_upload), mode=\"rb\") as data:\n",
    "        blob_client = container_client.upload_blob(name = file_to_upload, data=data, overwrite=True)"
   ]
  },
  {
   "cell_type": "code",
   "execution_count": 18,
   "id": "8117ef97-3499-4ade-b94b-4b3294a0ec89",
   "metadata": {},
   "outputs": [],
   "source": [
    "upload_blob_file(blob_service_client, container_name)"
   ]
  },
  {
   "cell_type": "code",
   "execution_count": null,
   "id": "68a57465-d6a4-46d4-9cc8-98be710f4e4e",
   "metadata": {},
   "outputs": [],
   "source": []
  }
 ],
 "metadata": {
  "kernelspec": {
   "display_name": "Python 3 (ipykernel)",
   "language": "python",
   "name": "python3"
  },
  "language_info": {
   "codemirror_mode": {
    "name": "ipython",
    "version": 3
   },
   "file_extension": ".py",
   "mimetype": "text/x-python",
   "name": "python",
   "nbconvert_exporter": "python",
   "pygments_lexer": "ipython3",
   "version": "3.12.3"
  }
 },
 "nbformat": 4,
 "nbformat_minor": 5
}
