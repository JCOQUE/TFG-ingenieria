{
 "cells": [
  {
   "cell_type": "code",
   "execution_count": 1,
   "id": "815443a9-c7b0-4e4d-b80d-e7b6c57508e8",
   "metadata": {},
   "outputs": [],
   "source": [
    "import pandas as pd\n",
    "from darts.models import TCNModel\n",
    "from darts import TimeSeries\n",
    "from darts.metrics.metrics import mae, rmse\n",
    "from darts.utils.callbacks import TFMProgressBar\n",
    "import logging\n",
    "import warnings\n",
    "\n",
    "from tfg_module import my_get_time_series as mgts"
   ]
  },
  {
   "cell_type": "code",
   "execution_count": 2,
   "id": "d8842a40-e416-4d39-919d-86b3da5d5295",
   "metadata": {},
   "outputs": [],
   "source": [
    "logging.getLogger('pytorch_lightning').setLevel(logging.CRITICAL)\n",
    "warnings.filterwarnings('ignore')\n",
    "prog_bar = TFMProgressBar(enable_train_bar = False, \n",
    "                          enable_prediction_bar = False,\n",
    "                          enable_validation_bar = False,\n",
    "                          enable_sanity_check_bar = False)"
   ]
  },
  {
   "cell_type": "code",
   "execution_count": 3,
   "id": "3b2dd1ea-fd3e-4dfc-bcac-24f100272d67",
   "metadata": {},
   "outputs": [],
   "source": [
    "model_name = 'TCN'\n",
    "TARGET = 'Ventas' # target can be either Ventas or Compras"
   ]
  },
  {
   "cell_type": "code",
   "execution_count": 4,
   "id": "be8e2fd8-2865-4f8f-80d2-b43980ac5d37",
   "metadata": {},
   "outputs": [
    {
     "data": {
      "text/html": [
       "<div>\n",
       "<style scoped>\n",
       "    .dataframe tbody tr th:only-of-type {\n",
       "        vertical-align: middle;\n",
       "    }\n",
       "\n",
       "    .dataframe tbody tr th {\n",
       "        vertical-align: top;\n",
       "    }\n",
       "\n",
       "    .dataframe thead th {\n",
       "        text-align: right;\n",
       "    }\n",
       "</style>\n",
       "<table border=\"1\" class=\"dataframe\">\n",
       "  <thead>\n",
       "    <tr style=\"text-align: right;\">\n",
       "      <th></th>\n",
       "      <th>date</th>\n",
       "      <th>Ventas</th>\n",
       "    </tr>\n",
       "  </thead>\n",
       "  <tbody>\n",
       "    <tr>\n",
       "      <th>0</th>\n",
       "      <td>2017-09-30</td>\n",
       "      <td>5,783</td>\n",
       "    </tr>\n",
       "    <tr>\n",
       "      <th>1</th>\n",
       "      <td>2017-10-31</td>\n",
       "      <td>20,854</td>\n",
       "    </tr>\n",
       "    <tr>\n",
       "      <th>2</th>\n",
       "      <td>2017-11-30</td>\n",
       "      <td>14,191</td>\n",
       "    </tr>\n",
       "    <tr>\n",
       "      <th>3</th>\n",
       "      <td>2017-12-31</td>\n",
       "      <td>7,595</td>\n",
       "    </tr>\n",
       "    <tr>\n",
       "      <th>4</th>\n",
       "      <td>2018-01-31</td>\n",
       "      <td>12,358</td>\n",
       "    </tr>\n",
       "    <tr>\n",
       "      <th>...</th>\n",
       "      <td>...</td>\n",
       "      <td>...</td>\n",
       "    </tr>\n",
       "    <tr>\n",
       "      <th>72</th>\n",
       "      <td>2023-09-30</td>\n",
       "      <td>16,520</td>\n",
       "    </tr>\n",
       "    <tr>\n",
       "      <th>73</th>\n",
       "      <td>2023-10-31</td>\n",
       "      <td>17,195</td>\n",
       "    </tr>\n",
       "    <tr>\n",
       "      <th>74</th>\n",
       "      <td>2023-11-30</td>\n",
       "      <td>13,819</td>\n",
       "    </tr>\n",
       "    <tr>\n",
       "      <th>75</th>\n",
       "      <td>2023-12-31</td>\n",
       "      <td>21,319</td>\n",
       "    </tr>\n",
       "    <tr>\n",
       "      <th>76</th>\n",
       "      <td>2024-01-31</td>\n",
       "      <td>3,791</td>\n",
       "    </tr>\n",
       "  </tbody>\n",
       "</table>\n",
       "<p>77 rows × 2 columns</p>\n",
       "</div>"
      ],
      "text/plain": [
       "         date  Ventas\n",
       "0  2017-09-30   5,783\n",
       "1  2017-10-31  20,854\n",
       "2  2017-11-30  14,191\n",
       "3  2017-12-31   7,595\n",
       "4  2018-01-31  12,358\n",
       "..        ...     ...\n",
       "72 2023-09-30  16,520\n",
       "73 2023-10-31  17,195\n",
       "74 2023-11-30  13,819\n",
       "75 2023-12-31  21,319\n",
       "76 2024-01-31   3,791\n",
       "\n",
       "[77 rows x 2 columns]"
      ]
     },
     "execution_count": 4,
     "metadata": {},
     "output_type": "execute_result"
    }
   ],
   "source": [
    "ts = mgts.get_ts(TARGET)\n",
    "ts"
   ]
  },
  {
   "cell_type": "code",
   "execution_count": 5,
   "id": "4532f8c3-b0fe-455c-bd91-27955e829ead",
   "metadata": {},
   "outputs": [],
   "source": [
    "ts = TimeSeries.from_dataframe(ts, time_col='date', value_cols=[TARGET])"
   ]
  },
  {
   "cell_type": "code",
   "execution_count": 6,
   "id": "6b97a538-f212-4347-9ff4-a0f6694dd2da",
   "metadata": {},
   "outputs": [],
   "source": [
    "split_train_test_index = int(len(ts) * 0.8)\n",
    "\n",
    "train = ts[:split_train_test_index]\n",
    "test = ts[split_train_test_index:]"
   ]
  },
  {
   "cell_type": "code",
   "execution_count": 7,
   "id": "7ed3a76b-db6f-4d30-8900-fa0dd3debb0d",
   "metadata": {},
   "outputs": [],
   "source": [
    "model_name = \"TCN_model\"\n",
    "tcn_model = TCNModel(\n",
    "    input_chunk_length=7,\n",
    "    output_chunk_length=3,\n",
    ")"
   ]
  },
  {
   "cell_type": "code",
   "execution_count": 8,
   "id": "bbe53713-b5d4-4ac9-9e09-4285f8be19c4",
   "metadata": {},
   "outputs": [],
   "source": [
    "params_grid = dict(input_chunk_length = [4,8,12], \n",
    "                    output_chunk_length = [1, 2, 3],\n",
    "                    n_epochs = [10],\n",
    "                    dropout = [0.2],\n",
    "                    dilation_base = [2],\n",
    "                    weight_norm = [True],\n",
    "                    kernel_size = [3],\n",
    "                    num_filters = [6],\n",
    "                    random_state = [0],\n",
    "                    batch_size = [32], \n",
    "                    pl_trainer_kwargs=[{\"callbacks\": [prog_bar]}])\n",
    "                           \n"
   ]
  },
  {
   "cell_type": "code",
   "execution_count": 9,
   "id": "dcc854ac-7fb4-440f-8f91-c80bab9cf3ef",
   "metadata": {},
   "outputs": [],
   "source": [
    "best_tcn_mae_model = tcn_model.gridsearch(parameters=params_grid, \n",
    "                                          series= train, val_series= test, \n",
    "                                          metric=mae)"
   ]
  },
  {
   "cell_type": "code",
   "execution_count": 10,
   "id": "10f63cd1-8460-4b0a-9ef2-0da0249edeec",
   "metadata": {
    "scrolled": true
   },
   "outputs": [],
   "source": [
    "best_tcn_rmse_model = tcn_model.gridsearch(parameters=params_grid, \n",
    "                                          series= train, val_series= test,\n",
    "                                          metric=rmse)"
   ]
  },
  {
   "cell_type": "code",
   "execution_count": 11,
   "id": "de215cad-2638-4616-b5c8-722e9a518bb9",
   "metadata": {},
   "outputs": [],
   "source": [
    "modelos = {'best_MAE':best_tcn_mae_model, 'best_RMSE': best_tcn_rmse_model}\n",
    "models_by_metric = {}\n",
    "for metrica, MODELO in modelos.items():\n",
    "    best_score = MODELO[2]\n",
    "    best_model = MODELO[0]\n",
    "    best_model.fit(train, val_series = test, verbose = False)\n",
    "    best_params = MODELO[1]\n",
    "    if metrica == 'best_MAE':\n",
    "        rmse_in_mae_model = rmse(best_tcn_mae_model[0].predict(n =len(test), series = train), test)\n",
    "        models_by_metric[metrica] = (best_model, best_params, best_score, rmse_in_mae_model)\n",
    "    else:\n",
    "        mae_in_rmse_model = mae(best_tcn_rmse_model[0].predict(n =len(test), series = train), test)\n",
    "        models_by_metric[metrica] = (best_model, best_params, mae_in_rmse_model, best_score)\n",
    "        \n",
    "best_tcn_models_df = pd.DataFrame(models_by_metric)\n",
    "best_tcn_models_df.index = ['model', 'parameters', 'mae', 'rmse']"
   ]
  },
  {
   "cell_type": "markdown",
   "id": "e74ce9a4-8e5e-4283-be6b-f33439677202",
   "metadata": {},
   "source": [
    "En TCN de darts, no se puede monitorizar dos métricas en un mismo entrenamiento de gridsearch. Por tant, se hacen dos entrenamientos: uno monitorizando `MAE` y otro `RMSE`. Puede darse el caso de que la medida `MAE` obtenida en el entrenamiento de `MSE` (o viceversa) sea incluso mejor a `best_score` obtenido en el entrenamiento de `MAE` (o viceversa)."
   ]
  },
  {
   "cell_type": "code",
   "execution_count": 12,
   "id": "5e7397ab-fe96-480f-ab5b-48e8ac98e165",
   "metadata": {
    "scrolled": true
   },
   "outputs": [
    {
     "data": {
      "text/html": [
       "<div>\n",
       "<style scoped>\n",
       "    .dataframe tbody tr th:only-of-type {\n",
       "        vertical-align: middle;\n",
       "    }\n",
       "\n",
       "    .dataframe tbody tr th {\n",
       "        vertical-align: top;\n",
       "    }\n",
       "\n",
       "    .dataframe thead th {\n",
       "        text-align: right;\n",
       "    }\n",
       "</style>\n",
       "<table border=\"1\" class=\"dataframe\">\n",
       "  <thead>\n",
       "    <tr style=\"text-align: right;\">\n",
       "      <th></th>\n",
       "      <th>best_MAE</th>\n",
       "      <th>best_RMSE</th>\n",
       "    </tr>\n",
       "  </thead>\n",
       "  <tbody>\n",
       "    <tr>\n",
       "      <th>model</th>\n",
       "      <td>TCNModel(num_filters=6, weight_norm=True, inpu...</td>\n",
       "      <td>TCNModel(num_filters=6, weight_norm=True, inpu...</td>\n",
       "    </tr>\n",
       "    <tr>\n",
       "      <th>parameters</th>\n",
       "      <td>{'input_chunk_length': 4, 'output_chunk_length...</td>\n",
       "      <td>{'input_chunk_length': 4, 'output_chunk_length...</td>\n",
       "    </tr>\n",
       "    <tr>\n",
       "      <th>mae</th>\n",
       "      <td>3,181</td>\n",
       "      <td>3,174</td>\n",
       "    </tr>\n",
       "    <tr>\n",
       "      <th>rmse</th>\n",
       "      <td>4,530</td>\n",
       "      <td>4,499</td>\n",
       "    </tr>\n",
       "  </tbody>\n",
       "</table>\n",
       "</div>"
      ],
      "text/plain": [
       "                                                     best_MAE  \\\n",
       "model       TCNModel(num_filters=6, weight_norm=True, inpu...   \n",
       "parameters  {'input_chunk_length': 4, 'output_chunk_length...   \n",
       "mae                                                     3,181   \n",
       "rmse                                                    4,530   \n",
       "\n",
       "                                                    best_RMSE  \n",
       "model       TCNModel(num_filters=6, weight_norm=True, inpu...  \n",
       "parameters  {'input_chunk_length': 4, 'output_chunk_length...  \n",
       "mae                                                     3,174  \n",
       "rmse                                                    4,499  "
      ]
     },
     "execution_count": 12,
     "metadata": {},
     "output_type": "execute_result"
    }
   ],
   "source": [
    "best_tcn_models_df"
   ]
  },
  {
   "cell_type": "code",
   "execution_count": 13,
   "id": "38c65b43-da5d-4e76-94ca-c57e7a114c0b",
   "metadata": {},
   "outputs": [
    {
     "data": {
      "text/plain": [
       "TCNModel(output_chunk_shift=0, kernel_size=3, num_filters=6, num_layers=None, dilation_base=2, weight_norm=True, dropout=0.2, input_chunk_length=4, output_chunk_length=3, n_epochs=10, random_state=0, batch_size=32, pl_trainer_kwargs={'callbacks': [<darts.utils.callbacks.TFMProgressBar object at 0x00000210E28881A0>]})"
      ]
     },
     "execution_count": 13,
     "metadata": {},
     "output_type": "execute_result"
    }
   ],
   "source": [
    "best_mae_model = best_tcn_models_df.loc['model','best_MAE']\n",
    "best_mae_model"
   ]
  },
  {
   "cell_type": "code",
   "execution_count": 14,
   "id": "1d2205e8-525b-41f6-b5c1-1aed061c1848",
   "metadata": {},
   "outputs": [
    {
     "data": {
      "text/plain": [
       "<Axes: xlabel='date'>"
      ]
     },
     "execution_count": 14,
     "metadata": {},
     "output_type": "execute_result"
    },
    {
     "data": {
      "image/png": "[encoded data removed]",
      "text/plain": [
       "<Figure size 640x480 with 1 Axes>"
      ]
     },
     "metadata": {},
     "output_type": "display_data"
    }
   ],
   "source": [
    "predictions = best_mae_model.predict(n= 12, series = ts[:-1])\n",
    "ts.plot(label = 'actual')\n",
    "predictions.plot(label = 'forecast')"
   ]
  },
  {
   "cell_type": "code",
   "execution_count": 15,
   "id": "c8ba5559-74d9-4960-9955-3e91163b0af0",
   "metadata": {
    "scrolled": true
   },
   "outputs": [
    {
     "data": {
      "text/html": [
       "<div>\n",
       "<style scoped>\n",
       "    .dataframe tbody tr th:only-of-type {\n",
       "        vertical-align: middle;\n",
       "    }\n",
       "\n",
       "    .dataframe tbody tr th {\n",
       "        vertical-align: top;\n",
       "    }\n",
       "\n",
       "    .dataframe thead th {\n",
       "        text-align: right;\n",
       "    }\n",
       "</style>\n",
       "<table border=\"1\" class=\"dataframe\">\n",
       "  <thead>\n",
       "    <tr style=\"text-align: right;\">\n",
       "      <th></th>\n",
       "      <th>date</th>\n",
       "      <th>Ventas</th>\n",
       "    </tr>\n",
       "  </thead>\n",
       "  <tbody>\n",
       "    <tr>\n",
       "      <th>0</th>\n",
       "      <td>2024-01-31</td>\n",
       "      <td>16,880</td>\n",
       "    </tr>\n",
       "    <tr>\n",
       "      <th>1</th>\n",
       "      <td>2024-02-29</td>\n",
       "      <td>13,639</td>\n",
       "    </tr>\n",
       "    <tr>\n",
       "      <th>2</th>\n",
       "      <td>2024-03-31</td>\n",
       "      <td>21,980</td>\n",
       "    </tr>\n",
       "    <tr>\n",
       "      <th>3</th>\n",
       "      <td>2024-04-30</td>\n",
       "      <td>16,364</td>\n",
       "    </tr>\n",
       "    <tr>\n",
       "      <th>4</th>\n",
       "      <td>2024-05-31</td>\n",
       "      <td>13,525</td>\n",
       "    </tr>\n",
       "    <tr>\n",
       "      <th>5</th>\n",
       "      <td>2024-06-30</td>\n",
       "      <td>22,648</td>\n",
       "    </tr>\n",
       "    <tr>\n",
       "      <th>6</th>\n",
       "      <td>2024-07-31</td>\n",
       "      <td>15,810</td>\n",
       "    </tr>\n",
       "    <tr>\n",
       "      <th>7</th>\n",
       "      <td>2024-08-31</td>\n",
       "      <td>13,424</td>\n",
       "    </tr>\n",
       "    <tr>\n",
       "      <th>8</th>\n",
       "      <td>2024-09-30</td>\n",
       "      <td>23,331</td>\n",
       "    </tr>\n",
       "    <tr>\n",
       "      <th>9</th>\n",
       "      <td>2024-10-31</td>\n",
       "      <td>15,218</td>\n",
       "    </tr>\n",
       "    <tr>\n",
       "      <th>10</th>\n",
       "      <td>2024-11-30</td>\n",
       "      <td>13,336</td>\n",
       "    </tr>\n",
       "    <tr>\n",
       "      <th>11</th>\n",
       "      <td>2024-12-31</td>\n",
       "      <td>24,032</td>\n",
       "    </tr>\n",
       "  </tbody>\n",
       "</table>\n",
       "</div>"
      ],
      "text/plain": [
       "         date  Ventas\n",
       "0  2024-01-31  16,880\n",
       "1  2024-02-29  13,639\n",
       "2  2024-03-31  21,980\n",
       "3  2024-04-30  16,364\n",
       "4  2024-05-31  13,525\n",
       "5  2024-06-30  22,648\n",
       "6  2024-07-31  15,810\n",
       "7  2024-08-31  13,424\n",
       "8  2024-09-30  23,331\n",
       "9  2024-10-31  15,218\n",
       "10 2024-11-30  13,336\n",
       "11 2024-12-31  24,032"
      ]
     },
     "execution_count": 15,
     "metadata": {},
     "output_type": "execute_result"
    }
   ],
   "source": [
    "best_mae_df = predictions.pd_dataframe()\n",
    "best_mae_df.columns.name = None\n",
    "best_mae_df.reset_index(inplace = True)\n",
    "best_mae_df"
   ]
  },
  {
   "cell_type": "code",
   "execution_count": 16,
   "id": "ca574a51-cd79-492a-aa9e-583ea909888b",
   "metadata": {},
   "outputs": [
    {
     "data": {
      "text/plain": [
       "TCNModel(output_chunk_shift=0, kernel_size=3, num_filters=6, num_layers=None, dilation_base=2, weight_norm=True, dropout=0.2, input_chunk_length=4, output_chunk_length=3, n_epochs=10, random_state=0, batch_size=32, pl_trainer_kwargs={'callbacks': [<darts.utils.callbacks.TFMProgressBar object at 0x00000210E27EFF20>]})"
      ]
     },
     "execution_count": 16,
     "metadata": {},
     "output_type": "execute_result"
    }
   ],
   "source": [
    "best_rmse_model = best_tcn_models_df.loc['model','best_RMSE']\n",
    "best_rmse_model"
   ]
  },
  {
   "cell_type": "code",
   "execution_count": 17,
   "id": "1e5f538c-5be7-499e-8e0f-a5fb920ad79d",
   "metadata": {},
   "outputs": [
    {
     "data": {
      "text/plain": [
       "<Axes: xlabel='date'>"
      ]
     },
     "execution_count": 17,
     "metadata": {},
     "output_type": "execute_result"
    },
    {
     "data": {
      "image/png": "[encoded data removed]",
      "text/plain": [
       "<Figure size 640x480 with 1 Axes>"
      ]
     },
     "metadata": {},
     "output_type": "display_data"
    }
   ],
   "source": [
    "predictions = best_rmse_model.predict(n= 12, series = ts[:-1])\n",
    "ts.plot(label = 'actual')\n",
    "predictions.plot(label = 'forecast')"
   ]
  },
  {
   "cell_type": "code",
   "execution_count": 18,
   "id": "034b47bc-5d42-4b8c-b43f-3fca88c09013",
   "metadata": {},
   "outputs": [
    {
     "data": {
      "text/html": [
       "<div>\n",
       "<style scoped>\n",
       "    .dataframe tbody tr th:only-of-type {\n",
       "        vertical-align: middle;\n",
       "    }\n",
       "\n",
       "    .dataframe tbody tr th {\n",
       "        vertical-align: top;\n",
       "    }\n",
       "\n",
       "    .dataframe thead th {\n",
       "        text-align: right;\n",
       "    }\n",
       "</style>\n",
       "<table border=\"1\" class=\"dataframe\">\n",
       "  <thead>\n",
       "    <tr style=\"text-align: right;\">\n",
       "      <th></th>\n",
       "      <th>date</th>\n",
       "      <th>Ventas</th>\n",
       "    </tr>\n",
       "  </thead>\n",
       "  <tbody>\n",
       "    <tr>\n",
       "      <th>0</th>\n",
       "      <td>2024-01-31</td>\n",
       "      <td>16,880</td>\n",
       "    </tr>\n",
       "    <tr>\n",
       "      <th>1</th>\n",
       "      <td>2024-02-29</td>\n",
       "      <td>13,639</td>\n",
       "    </tr>\n",
       "    <tr>\n",
       "      <th>2</th>\n",
       "      <td>2024-03-31</td>\n",
       "      <td>21,980</td>\n",
       "    </tr>\n",
       "    <tr>\n",
       "      <th>3</th>\n",
       "      <td>2024-04-30</td>\n",
       "      <td>16,364</td>\n",
       "    </tr>\n",
       "    <tr>\n",
       "      <th>4</th>\n",
       "      <td>2024-05-31</td>\n",
       "      <td>13,525</td>\n",
       "    </tr>\n",
       "    <tr>\n",
       "      <th>5</th>\n",
       "      <td>2024-06-30</td>\n",
       "      <td>22,648</td>\n",
       "    </tr>\n",
       "    <tr>\n",
       "      <th>6</th>\n",
       "      <td>2024-07-31</td>\n",
       "      <td>15,810</td>\n",
       "    </tr>\n",
       "    <tr>\n",
       "      <th>7</th>\n",
       "      <td>2024-08-31</td>\n",
       "      <td>13,424</td>\n",
       "    </tr>\n",
       "    <tr>\n",
       "      <th>8</th>\n",
       "      <td>2024-09-30</td>\n",
       "      <td>23,331</td>\n",
       "    </tr>\n",
       "    <tr>\n",
       "      <th>9</th>\n",
       "      <td>2024-10-31</td>\n",
       "      <td>15,218</td>\n",
       "    </tr>\n",
       "    <tr>\n",
       "      <th>10</th>\n",
       "      <td>2024-11-30</td>\n",
       "      <td>13,336</td>\n",
       "    </tr>\n",
       "    <tr>\n",
       "      <th>11</th>\n",
       "      <td>2024-12-31</td>\n",
       "      <td>24,032</td>\n",
       "    </tr>\n",
       "  </tbody>\n",
       "</table>\n",
       "</div>"
      ],
      "text/plain": [
       "         date  Ventas\n",
       "0  2024-01-31  16,880\n",
       "1  2024-02-29  13,639\n",
       "2  2024-03-31  21,980\n",
       "3  2024-04-30  16,364\n",
       "4  2024-05-31  13,525\n",
       "5  2024-06-30  22,648\n",
       "6  2024-07-31  15,810\n",
       "7  2024-08-31  13,424\n",
       "8  2024-09-30  23,331\n",
       "9  2024-10-31  15,218\n",
       "10 2024-11-30  13,336\n",
       "11 2024-12-31  24,032"
      ]
     },
     "execution_count": 18,
     "metadata": {},
     "output_type": "execute_result"
    }
   ],
   "source": [
    "best_rmse_df = predictions.pd_dataframe()\n",
    "best_rmse_df.columns.name = None\n",
    "best_rmse_df.reset_index(inplace = True)\n",
    "best_rmse_df"
   ]
  }
 ],
 "metadata": {
  "kernelspec": {
   "display_name": "Python 3 (ipykernel)",
   "language": "python",
   "name": "python3"
  },
  "language_info": {
   "codemirror_mode": {
    "name": "ipython",
    "version": 3
   },
   "file_extension": ".py",
   "mimetype": "text/x-python",
   "name": "python",
   "nbconvert_exporter": "python",
   "pygments_lexer": "ipython3",
   "version": "3.12.3"
  }
 },
 "nbformat": 4,
 "nbformat_minor": 5
}
